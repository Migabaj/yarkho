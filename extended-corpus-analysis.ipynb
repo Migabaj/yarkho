{
 "cells": [
  {
   "cell_type": "code",
   "execution_count": 264,
   "metadata": {},
   "outputs": [],
   "source": [
    "from dracoranalysis import collect_primary_data, separate_value_by_genre, mp_ac, \\\n",
    "    map_characters_to_social"
   ]
  },
  {
   "cell_type": "code",
   "execution_count": 265,
   "metadata": {},
   "outputs": [],
   "source": [
    "import os\n",
    "import re\n",
    "import nltk\n",
    "import unidecode\n",
    "import pandas as pd\n",
    "from tqdm.notebook import tqdm\n",
    "import matplotlib.pyplot as plt\n",
    "from matplotlib.pyplot import figure\n",
    "from collections import Counter\n",
    "from bs4 import BeautifulSoup, Comment"
   ]
  },
  {
   "cell_type": "code",
   "execution_count": 266,
   "metadata": {},
   "outputs": [],
   "source": [
    "comedies_datalist = []\n",
    "for filename in os.listdir('extended-corpus/comedy/'):\n",
    "    with open('extended-corpus/comedy/'+filename, encoding='utf-8') as f:\n",
    "        tei_text = f.read()\n",
    "    primary_data = collect_primary_data(BeautifulSoup(tei_text, 'lxml'))\n",
    "    comedies_datalist.append(\n",
    "        {\n",
    "            'name': filename[:-4],\n",
    "            'date': primary_data[0],\n",
    "            'characters': primary_data[1],\n",
    "            'verses': primary_data[2],\n",
    "            'cues': primary_data[3],\n",
    "            'scenes': primary_data[4],\n",
    "            'breaking_verses': primary_data[5],\n",
    "            'tei': tei_text\n",
    "        }\n",
    "    )"
   ]
  },
  {
   "cell_type": "code",
   "execution_count": 267,
   "metadata": {},
   "outputs": [],
   "source": [
    "tragedies_datalist = []\n",
    "for filename in os.listdir('extended-corpus/tragedy/'):\n",
    "    with open('extended-corpus/tragedy/'+filename, encoding='utf-8') as f:\n",
    "        tei_text = f.read()\n",
    "    primary_data = collect_primary_data(BeautifulSoup(tei_text, 'lxml'))\n",
    "    tragedies_datalist.append(\n",
    "        {\n",
    "            'name': filename[:-4],\n",
    "            'date': primary_data[0],\n",
    "            'characters': primary_data[1],\n",
    "            'verses': primary_data[2],\n",
    "            'cues': primary_data[3],\n",
    "            'scenes': primary_data[4],\n",
    "            'breaking_verses': primary_data[5],\n",
    "            'tei': tei_text\n",
    "        }\n",
    "    )"
   ]
  },
  {
   "cell_type": "code",
   "execution_count": 268,
   "metadata": {},
   "outputs": [],
   "source": [
    "comedies_df = pd.DataFrame(comedies_datalist)"
   ]
  },
  {
   "cell_type": "code",
   "execution_count": 269,
   "metadata": {},
   "outputs": [],
   "source": [
    "tragedies_df = pd.DataFrame(tragedies_datalist)"
   ]
  },
  {
   "cell_type": "code",
   "execution_count": 270,
   "metadata": {},
   "outputs": [],
   "source": [
    "tragedies_df['genre'] = 'tragedy'\n",
    "comedies_df['genre'] = 'comedy'"
   ]
  },
  {
   "cell_type": "code",
   "execution_count": 271,
   "metadata": {},
   "outputs": [],
   "source": [
    "df_plays = pd.concat([comedies_df, tragedies_df])"
   ]
  },
  {
   "cell_type": "code",
   "execution_count": 273,
   "metadata": {},
   "outputs": [],
   "source": [
    "#somehow in slipped through (beforq 1620)\n",
    "df_plays = df_plays[df_plays['name'] != 'viau-pyrame']"
   ]
  },
  {
   "cell_type": "code",
   "execution_count": 274,
   "metadata": {},
   "outputs": [
    {
     "data": {
      "image/png": "[encoded data removed]",
      "text/plain": [
       "<Figure size 1728x720 with 1 Axes>"
      ]
     },
     "metadata": {
      "needs_background": "light"
     },
     "output_type": "display_data"
    }
   ],
   "source": [
    "years = []\n",
    "amounts = []\n",
    "figure(figsize=(24,10))\n",
    "for item in Counter(df_plays['date']).items():\n",
    "    years.append(item[0])\n",
    "    amounts.append(item[1])\n",
    "plt.xticks(rotation=45)\n",
    "# plt.title('Distribution of Extended Corpus by year')\n",
    "plt.bar(years, amounts, color='firebrick', edgecolor='black')\n",
    "plt.show()"
   ]
  },
  {
   "cell_type": "code",
   "execution_count": 275,
   "metadata": {},
   "outputs": [
    {
     "data": {
      "text/plain": [
       "1307.46"
      ]
     },
     "execution_count": 275,
     "metadata": {},
     "output_type": "execute_result"
    }
   ],
   "source": [
    "comedies_df.verses.mean()"
   ]
  },
  {
   "cell_type": "code",
   "execution_count": 276,
   "metadata": {},
   "outputs": [
    {
     "data": {
      "text/plain": [
       "473.9"
      ]
     },
     "execution_count": 276,
     "metadata": {},
     "output_type": "execute_result"
    }
   ],
   "source": [
    "comedies_df.cues.mean()"
   ]
  },
  {
   "cell_type": "code",
   "execution_count": 277,
   "metadata": {},
   "outputs": [
    {
     "data": {
      "text/plain": [
       "1730.7291666666667"
      ]
     },
     "execution_count": 277,
     "metadata": {},
     "output_type": "execute_result"
    }
   ],
   "source": [
    "tragedies_df.verses.mean()"
   ]
  },
  {
   "cell_type": "code",
   "execution_count": 278,
   "metadata": {},
   "outputs": [
    {
     "data": {
      "text/plain": [
       "293.5833333333333"
      ]
     },
     "execution_count": 278,
     "metadata": {},
     "output_type": "execute_result"
    }
   ],
   "source": [
    "tragedies_df.cues.mean()"
   ]
  },
  {
   "cell_type": "markdown",
   "metadata": {},
   "source": [
    "## Dialogue\n",
    "\n",
    "### Vivacity"
   ]
  },
  {
   "cell_type": "code",
   "execution_count": 122,
   "metadata": {},
   "outputs": [],
   "source": [
    "df_plays['vivacity'] = df_plays.cues / df_plays.verses"
   ]
  },
  {
   "cell_type": "code",
   "execution_count": 30,
   "metadata": {},
   "outputs": [],
   "source": [
    "vivacity_by_genre = separate_value_by_genre(df_plays, 'vivacity')"
   ]
  },
  {
   "cell_type": "code",
   "execution_count": 239,
   "metadata": {},
   "outputs": [
    {
     "data": {
      "text/plain": [
       "0.37002767603376135"
      ]
     },
     "execution_count": 239,
     "metadata": {},
     "output_type": "execute_result"
    }
   ],
   "source": [
    "vivacity_by_genre['comedy'].mean()"
   ]
  },
  {
   "cell_type": "code",
   "execution_count": 240,
   "metadata": {},
   "outputs": [
    {
     "data": {
      "text/plain": [
       "0.16909370905201865"
      ]
     },
     "execution_count": 240,
     "metadata": {},
     "output_type": "execute_result"
    }
   ],
   "source": [
    "vivacity_by_genre['tragedy'].mean()"
   ]
  },
  {
   "cell_type": "code",
   "execution_count": 241,
   "metadata": {},
   "outputs": [
    {
     "data": {
      "text/plain": [
       "2.1882994826255127"
      ]
     },
     "execution_count": 241,
     "metadata": {},
     "output_type": "execute_result"
    }
   ],
   "source": [
    "vivacity_by_genre['comedy'].mean() / vivacity_by_genre['tragedy'].mean()"
   ]
  },
  {
   "cell_type": "code",
   "execution_count": 34,
   "metadata": {},
   "outputs": [],
   "source": [
    "mp, ac = mp_ac(\n",
    "    sorted(vivacity_by_genre['comedy'])[::-1],\n",
    "    sorted(vivacity_by_genre['tragedy'])[::-1]\n",
    "    )"
   ]
  },
  {
   "cell_type": "code",
   "execution_count": 35,
   "metadata": {},
   "outputs": [
    {
     "data": {
      "text/plain": [
       "0.09825202141173926"
      ]
     },
     "execution_count": 35,
     "metadata": {},
     "output_type": "execute_result"
    }
   ],
   "source": [
    "transgression = mp/ac\n",
    "transgression"
   ]
  },
  {
   "cell_type": "markdown",
   "metadata": {},
   "source": [
    "### Stichomity"
   ]
  },
  {
   "cell_type": "code",
   "execution_count": 36,
   "metadata": {},
   "outputs": [],
   "source": [
    "df_plays['breaking_verses_ratio'] = df_plays['breaking_verses']/df_plays['cues']"
   ]
  },
  {
   "cell_type": "code",
   "execution_count": 37,
   "metadata": {},
   "outputs": [],
   "source": [
    "breaking_verses_by_genre = separate_value_by_genre(df_plays, ['breaking_verses', 'breaking_verses_ratio'], name=True)"
   ]
  },
  {
   "cell_type": "code",
   "execution_count": 123,
   "metadata": {},
   "outputs": [
    {
     "data": {
      "text/html": [
       "<div>\n",
       "<style scoped>\n",
       "    .dataframe tbody tr th:only-of-type {\n",
       "        vertical-align: middle;\n",
       "    }\n",
       "\n",
       "    .dataframe tbody tr th {\n",
       "        vertical-align: top;\n",
       "    }\n",
       "\n",
       "    .dataframe thead th {\n",
       "        text-align: right;\n",
       "    }\n",
       "</style>\n",
       "<table border=\"1\" class=\"dataframe\">\n",
       "  <thead>\n",
       "    <tr style=\"text-align: right;\">\n",
       "      <th></th>\n",
       "      <th>0</th>\n",
       "      <th>1</th>\n",
       "      <th>2</th>\n",
       "      <th>3</th>\n",
       "      <th>4</th>\n",
       "      <th>5</th>\n",
       "      <th>6</th>\n",
       "      <th>7</th>\n",
       "      <th>8</th>\n",
       "      <th>9</th>\n",
       "      <th>...</th>\n",
       "      <th>40</th>\n",
       "      <th>41</th>\n",
       "      <th>42</th>\n",
       "      <th>43</th>\n",
       "      <th>44</th>\n",
       "      <th>45</th>\n",
       "      <th>46</th>\n",
       "      <th>47</th>\n",
       "      <th>48</th>\n",
       "      <th>49</th>\n",
       "    </tr>\n",
       "  </thead>\n",
       "  <tbody>\n",
       "    <tr>\n",
       "      <th>name</th>\n",
       "      <td>gillet-deniaise</td>\n",
       "      <td>quinault-comedie-sans-comedie</td>\n",
       "      <td>scarron-marquis-ridicule</td>\n",
       "      <td>donneau-de-vise-intrigues-de-la-loterie</td>\n",
       "      <td>chevalier-galants-ridicules</td>\n",
       "      <td>ouville-fausses-verites</td>\n",
       "      <td>scudery-fils-suppose</td>\n",
       "      <td>quinault-mere-coquette</td>\n",
       "      <td>corneillet-inconnu</td>\n",
       "      <td>chevalier-pedagogue-amoureux</td>\n",
       "      <td>...</td>\n",
       "      <td>somaize-proces-precieuses</td>\n",
       "      <td>montfleury-le-mariage-de-rien</td>\n",
       "      <td>boisrobert-amant-ridicule</td>\n",
       "      <td>l-estoile-intrigue-des-filous</td>\n",
       "      <td>poisson-holande-malade</td>\n",
       "      <td>gillet-campagnard</td>\n",
       "      <td>tristan-parasite</td>\n",
       "      <td>la-fontaine-eunuque</td>\n",
       "      <td>la-forge-joueuse-dupee</td>\n",
       "      <td>brosse-aveugle-clairvoyant</td>\n",
       "    </tr>\n",
       "    <tr>\n",
       "      <th>breaking_verses</th>\n",
       "      <td>323</td>\n",
       "      <td>195</td>\n",
       "      <td>247</td>\n",
       "      <td>250</td>\n",
       "      <td>19</td>\n",
       "      <td>260</td>\n",
       "      <td>39</td>\n",
       "      <td>319</td>\n",
       "      <td>238</td>\n",
       "      <td>134</td>\n",
       "      <td>...</td>\n",
       "      <td>19</td>\n",
       "      <td>31</td>\n",
       "      <td>28</td>\n",
       "      <td>132</td>\n",
       "      <td>84</td>\n",
       "      <td>250</td>\n",
       "      <td>199</td>\n",
       "      <td>156</td>\n",
       "      <td>48</td>\n",
       "      <td>44</td>\n",
       "    </tr>\n",
       "    <tr>\n",
       "      <th>breaking_verses_ratio</th>\n",
       "      <td>0.345455</td>\n",
       "      <td>0.302795</td>\n",
       "      <td>0.387755</td>\n",
       "      <td>0.447227</td>\n",
       "      <td>0.086364</td>\n",
       "      <td>0.399386</td>\n",
       "      <td>0.135417</td>\n",
       "      <td>0.36836</td>\n",
       "      <td>0.331015</td>\n",
       "      <td>0.261719</td>\n",
       "      <td>...</td>\n",
       "      <td>0.100529</td>\n",
       "      <td>0.169399</td>\n",
       "      <td>0.28866</td>\n",
       "      <td>0.255319</td>\n",
       "      <td>0.337349</td>\n",
       "      <td>0.357654</td>\n",
       "      <td>0.259452</td>\n",
       "      <td>0.220339</td>\n",
       "      <td>0.289157</td>\n",
       "      <td>0.120879</td>\n",
       "    </tr>\n",
       "  </tbody>\n",
       "</table>\n",
       "<p>3 rows × 50 columns</p>\n",
       "</div>"
      ],
      "text/plain": [
       "                                    0                              1   \\\n",
       "name                   gillet-deniaise  quinault-comedie-sans-comedie   \n",
       "breaking_verses                    323                            195   \n",
       "breaking_verses_ratio         0.345455                       0.302795   \n",
       "\n",
       "                                             2   \\\n",
       "name                   scarron-marquis-ridicule   \n",
       "breaking_verses                             247   \n",
       "breaking_verses_ratio                  0.387755   \n",
       "\n",
       "                                                            3   \\\n",
       "name                   donneau-de-vise-intrigues-de-la-loterie   \n",
       "breaking_verses                                            250   \n",
       "breaking_verses_ratio                                 0.447227   \n",
       "\n",
       "                                                4                        5   \\\n",
       "name                   chevalier-galants-ridicules  ouville-fausses-verites   \n",
       "breaking_verses                                 19                      260   \n",
       "breaking_verses_ratio                     0.086364                 0.399386   \n",
       "\n",
       "                                         6                       7   \\\n",
       "name                   scudery-fils-suppose  quinault-mere-coquette   \n",
       "breaking_verses                          39                     319   \n",
       "breaking_verses_ratio              0.135417                 0.36836   \n",
       "\n",
       "                                       8                             9   ...  \\\n",
       "name                   corneillet-inconnu  chevalier-pedagogue-amoureux  ...   \n",
       "breaking_verses                       238                           134  ...   \n",
       "breaking_verses_ratio            0.331015                      0.261719  ...   \n",
       "\n",
       "                                              40  \\\n",
       "name                   somaize-proces-precieuses   \n",
       "breaking_verses                               19   \n",
       "breaking_verses_ratio                   0.100529   \n",
       "\n",
       "                                                  41  \\\n",
       "name                   montfleury-le-mariage-de-rien   \n",
       "breaking_verses                                   31   \n",
       "breaking_verses_ratio                       0.169399   \n",
       "\n",
       "                                              42  \\\n",
       "name                   boisrobert-amant-ridicule   \n",
       "breaking_verses                               28   \n",
       "breaking_verses_ratio                    0.28866   \n",
       "\n",
       "                                                  43                      44  \\\n",
       "name                   l-estoile-intrigue-des-filous  poisson-holande-malade   \n",
       "breaking_verses                                  132                      84   \n",
       "breaking_verses_ratio                       0.255319                0.337349   \n",
       "\n",
       "                                      45                46  \\\n",
       "name                   gillet-campagnard  tristan-parasite   \n",
       "breaking_verses                      250               199   \n",
       "breaking_verses_ratio           0.357654          0.259452   \n",
       "\n",
       "                                        47                      48  \\\n",
       "name                   la-fontaine-eunuque  la-forge-joueuse-dupee   \n",
       "breaking_verses                        156                      48   \n",
       "breaking_verses_ratio             0.220339                0.289157   \n",
       "\n",
       "                                               49  \n",
       "name                   brosse-aveugle-clairvoyant  \n",
       "breaking_verses                                44  \n",
       "breaking_verses_ratio                    0.120879  \n",
       "\n",
       "[3 rows x 50 columns]"
      ]
     },
     "execution_count": 123,
     "metadata": {},
     "output_type": "execute_result"
    }
   ],
   "source": [
    "breaking_verses_by_genre['comedy'].T"
   ]
  },
  {
   "cell_type": "code",
   "execution_count": 124,
   "metadata": {},
   "outputs": [
    {
     "data": {
      "text/html": [
       "<div>\n",
       "<style scoped>\n",
       "    .dataframe tbody tr th:only-of-type {\n",
       "        vertical-align: middle;\n",
       "    }\n",
       "\n",
       "    .dataframe tbody tr th {\n",
       "        vertical-align: top;\n",
       "    }\n",
       "\n",
       "    .dataframe thead th {\n",
       "        text-align: right;\n",
       "    }\n",
       "</style>\n",
       "<table border=\"1\" class=\"dataframe\">\n",
       "  <thead>\n",
       "    <tr style=\"text-align: right;\">\n",
       "      <th></th>\n",
       "      <th>0</th>\n",
       "      <th>1</th>\n",
       "      <th>2</th>\n",
       "      <th>3</th>\n",
       "      <th>4</th>\n",
       "      <th>5</th>\n",
       "      <th>6</th>\n",
       "      <th>7</th>\n",
       "      <th>8</th>\n",
       "      <th>9</th>\n",
       "      <th>...</th>\n",
       "      <th>38</th>\n",
       "      <th>39</th>\n",
       "      <th>40</th>\n",
       "      <th>41</th>\n",
       "      <th>42</th>\n",
       "      <th>43</th>\n",
       "      <th>44</th>\n",
       "      <th>45</th>\n",
       "      <th>46</th>\n",
       "      <th>47</th>\n",
       "    </tr>\n",
       "  </thead>\n",
       "  <tbody>\n",
       "    <tr>\n",
       "      <th>name</th>\n",
       "      <td>magnon-artaxerxe</td>\n",
       "      <td>rotrou-antigone</td>\n",
       "      <td>prade-arsace</td>\n",
       "      <td>mairet-sophonisbe</td>\n",
       "      <td>corneillet-ariane</td>\n",
       "      <td>racine-bajazet</td>\n",
       "      <td>corneillet-theodat</td>\n",
       "      <td>benserade-cleopatre</td>\n",
       "      <td>cyrano-la-mort-d-agrippine</td>\n",
       "      <td>le-vayer-grand-selim</td>\n",
       "      <td>...</td>\n",
       "      <td>aubignac-pucelle</td>\n",
       "      <td>aure-dipne</td>\n",
       "      <td>baro-saint-eustache</td>\n",
       "      <td>leclerc-iphigenie</td>\n",
       "      <td>aure-genevieve-70</td>\n",
       "      <td>gilbert-amours-de-diane-et-d-endymion</td>\n",
       "      <td>brosse-turne</td>\n",
       "      <td>abeille-coriolan</td>\n",
       "      <td>vallee-forte-romaine</td>\n",
       "      <td>pousset-de-montauban-zenobie</td>\n",
       "    </tr>\n",
       "    <tr>\n",
       "      <th>breaking_verses</th>\n",
       "      <td>71</td>\n",
       "      <td>35</td>\n",
       "      <td>49</td>\n",
       "      <td>41</td>\n",
       "      <td>68</td>\n",
       "      <td>81</td>\n",
       "      <td>70</td>\n",
       "      <td>42</td>\n",
       "      <td>50</td>\n",
       "      <td>60</td>\n",
       "      <td>...</td>\n",
       "      <td>32</td>\n",
       "      <td>215</td>\n",
       "      <td>134</td>\n",
       "      <td>43</td>\n",
       "      <td>246</td>\n",
       "      <td>55</td>\n",
       "      <td>35</td>\n",
       "      <td>93</td>\n",
       "      <td>13</td>\n",
       "      <td>49</td>\n",
       "    </tr>\n",
       "    <tr>\n",
       "      <th>breaking_verses_ratio</th>\n",
       "      <td>0.214502</td>\n",
       "      <td>0.095628</td>\n",
       "      <td>0.215859</td>\n",
       "      <td>0.176724</td>\n",
       "      <td>0.260536</td>\n",
       "      <td>0.307985</td>\n",
       "      <td>0.243902</td>\n",
       "      <td>0.195349</td>\n",
       "      <td>0.167224</td>\n",
       "      <td>0.244898</td>\n",
       "      <td>...</td>\n",
       "      <td>0.134454</td>\n",
       "      <td>0.366894</td>\n",
       "      <td>0.37535</td>\n",
       "      <td>0.182203</td>\n",
       "      <td>0.364985</td>\n",
       "      <td>0.141753</td>\n",
       "      <td>0.148305</td>\n",
       "      <td>0.382716</td>\n",
       "      <td>0.061905</td>\n",
       "      <td>0.20332</td>\n",
       "    </tr>\n",
       "  </tbody>\n",
       "</table>\n",
       "<p>3 rows × 47 columns</p>\n",
       "</div>"
      ],
      "text/plain": [
       "                                     0                1             2   \\\n",
       "name                   magnon-artaxerxe  rotrou-antigone  prade-arsace   \n",
       "breaking_verses                      71               35            49   \n",
       "breaking_verses_ratio          0.214502         0.095628      0.215859   \n",
       "\n",
       "                                      3                  4               5   \\\n",
       "name                   mairet-sophonisbe  corneillet-ariane  racine-bajazet   \n",
       "breaking_verses                       41                 68              81   \n",
       "breaking_verses_ratio           0.176724           0.260536        0.307985   \n",
       "\n",
       "                                       6                    7   \\\n",
       "name                   corneillet-theodat  benserade-cleopatre   \n",
       "breaking_verses                        70                   42   \n",
       "breaking_verses_ratio            0.243902             0.195349   \n",
       "\n",
       "                                               8                     9   ...  \\\n",
       "name                   cyrano-la-mort-d-agrippine  le-vayer-grand-selim  ...   \n",
       "breaking_verses                                50                    60  ...   \n",
       "breaking_verses_ratio                    0.167224              0.244898  ...   \n",
       "\n",
       "                                     38          39                   40  \\\n",
       "name                   aubignac-pucelle  aure-dipne  baro-saint-eustache   \n",
       "breaking_verses                      32         215                  134   \n",
       "breaking_verses_ratio          0.134454    0.366894              0.37535   \n",
       "\n",
       "                                      41                 42  \\\n",
       "name                   leclerc-iphigenie  aure-genevieve-70   \n",
       "breaking_verses                       43                246   \n",
       "breaking_verses_ratio           0.182203           0.364985   \n",
       "\n",
       "                                                          43            44  \\\n",
       "name                   gilbert-amours-de-diane-et-d-endymion  brosse-turne   \n",
       "breaking_verses                                           55            35   \n",
       "breaking_verses_ratio                               0.141753      0.148305   \n",
       "\n",
       "                                     45                    46  \\\n",
       "name                   abeille-coriolan  vallee-forte-romaine   \n",
       "breaking_verses                      93                    13   \n",
       "breaking_verses_ratio          0.382716              0.061905   \n",
       "\n",
       "                                                 47  \n",
       "name                   pousset-de-montauban-zenobie  \n",
       "breaking_verses                                  49  \n",
       "breaking_verses_ratio                       0.20332  \n",
       "\n",
       "[3 rows x 47 columns]"
      ]
     },
     "execution_count": 124,
     "metadata": {},
     "output_type": "execute_result"
    }
   ],
   "source": [
    "breaking_verses_by_genre['tragedy'].T"
   ]
  },
  {
   "cell_type": "code",
   "execution_count": 125,
   "metadata": {
    "scrolled": true
   },
   "outputs": [
    {
     "data": {
      "text/plain": [
       "0.27699728209324065"
      ]
     },
     "execution_count": 125,
     "metadata": {},
     "output_type": "execute_result"
    }
   ],
   "source": [
    "breaking_verses_by_genre['comedy']['breaking_verses_ratio'].mean()"
   ]
  },
  {
   "cell_type": "code",
   "execution_count": 126,
   "metadata": {},
   "outputs": [
    {
     "data": {
      "text/plain": [
       "0.21984601429732786"
      ]
     },
     "execution_count": 126,
     "metadata": {},
     "output_type": "execute_result"
    }
   ],
   "source": [
    "breaking_verses_by_genre['tragedy']['breaking_verses_ratio'].mean()"
   ]
  },
  {
   "cell_type": "markdown",
   "metadata": {},
   "source": [
    "### Dialogue weight\n"
   ]
  },
  {
   "cell_type": "code",
   "execution_count": 180,
   "metadata": {},
   "outputs": [
    {
     "data": {
      "application/vnd.jupyter.widget-view+json": {
       "model_id": "c14343217c23481da2d88b151940392c",
       "version_major": 2,
       "version_minor": 0
      },
      "text/plain": [
       "  0%|          | 0/86 [00:00<?, ?it/s]"
      ]
     },
     "metadata": {},
     "output_type": "display_data"
    }
   ],
   "source": [
    "characters_df_list = []\n",
    "for play in tqdm(df_plays.values):\n",
    "    chars = []\n",
    "    soup = BeautifulSoup(play[7], 'lxml')\n",
    "    for castitem_tag in soup.find_all('person'):\n",
    "        chars.append({'char_id': castitem_tag['xml:id'], 'play': play[0], 'genre': play[8], 'year': play[1]})\n",
    "    for sp_tag in soup.find_all('sp'):\n",
    "        who = sp_tag['who']\n",
    "        for char in who.split():\n",
    "            who_dict = next(item for item in chars if item[\"char_id\"] == char[1:])\n",
    "            if 'cue_amount' in who_dict:\n",
    "                who_dict['cue_amount'] += 1\n",
    "            else:\n",
    "                who_dict['cue_amount'] = 1\n",
    "            for l in sp_tag.find_all('l'):\n",
    "                if 'verse_amount' in who_dict:\n",
    "                    who_dict['verse_amount'] += 1\n",
    "                else:\n",
    "                    who_dict['verse_amount'] = 1\n",
    "    characters_df_list.extend(chars)"
   ]
  },
  {
   "cell_type": "code",
   "execution_count": 181,
   "metadata": {},
   "outputs": [],
   "source": [
    "df_characters = pd.DataFrame(characters_df_list)"
   ]
  },
  {
   "cell_type": "code",
   "execution_count": 182,
   "metadata": {},
   "outputs": [
    {
     "data": {
      "text/html": [
       "<div>\n",
       "<style scoped>\n",
       "    .dataframe tbody tr th:only-of-type {\n",
       "        vertical-align: middle;\n",
       "    }\n",
       "\n",
       "    .dataframe tbody tr th {\n",
       "        vertical-align: top;\n",
       "    }\n",
       "\n",
       "    .dataframe thead th {\n",
       "        text-align: right;\n",
       "    }\n",
       "</style>\n",
       "<table border=\"1\" class=\"dataframe\">\n",
       "  <thead>\n",
       "    <tr style=\"text-align: right;\">\n",
       "      <th></th>\n",
       "      <th>char_id</th>\n",
       "      <th>play</th>\n",
       "      <th>genre</th>\n",
       "      <th>year</th>\n",
       "      <th>cue_amount</th>\n",
       "      <th>verse_amount</th>\n",
       "    </tr>\n",
       "  </thead>\n",
       "  <tbody>\n",
       "    <tr>\n",
       "      <th>0</th>\n",
       "      <td>climante</td>\n",
       "      <td>gillet-deniaise</td>\n",
       "      <td>comedy</td>\n",
       "      <td>1647</td>\n",
       "      <td>165</td>\n",
       "      <td>332.0</td>\n",
       "    </tr>\n",
       "    <tr>\n",
       "      <th>1</th>\n",
       "      <td>ariste</td>\n",
       "      <td>gillet-deniaise</td>\n",
       "      <td>comedy</td>\n",
       "      <td>1647</td>\n",
       "      <td>191</td>\n",
       "      <td>493.0</td>\n",
       "    </tr>\n",
       "    <tr>\n",
       "      <th>2</th>\n",
       "      <td>jodelet</td>\n",
       "      <td>gillet-deniaise</td>\n",
       "      <td>comedy</td>\n",
       "      <td>1647</td>\n",
       "      <td>125</td>\n",
       "      <td>285.0</td>\n",
       "    </tr>\n",
       "    <tr>\n",
       "      <th>3</th>\n",
       "      <td>olympe</td>\n",
       "      <td>gillet-deniaise</td>\n",
       "      <td>comedy</td>\n",
       "      <td>1647</td>\n",
       "      <td>130</td>\n",
       "      <td>240.0</td>\n",
       "    </tr>\n",
       "    <tr>\n",
       "      <th>4</th>\n",
       "      <td>oronte</td>\n",
       "      <td>gillet-deniaise</td>\n",
       "      <td>comedy</td>\n",
       "      <td>1647</td>\n",
       "      <td>160</td>\n",
       "      <td>329.0</td>\n",
       "    </tr>\n",
       "    <tr>\n",
       "      <th>...</th>\n",
       "      <td>...</td>\n",
       "      <td>...</td>\n",
       "      <td>...</td>\n",
       "      <td>...</td>\n",
       "      <td>...</td>\n",
       "      <td>...</td>\n",
       "    </tr>\n",
       "    <tr>\n",
       "      <th>1014</th>\n",
       "      <td>bajazet</td>\n",
       "      <td>pradon-mort-de-bajazet</td>\n",
       "      <td>tragedy</td>\n",
       "      <td>1676</td>\n",
       "      <td>27</td>\n",
       "      <td>263.0</td>\n",
       "    </tr>\n",
       "    <tr>\n",
       "      <th>1015</th>\n",
       "      <td>tamerlan</td>\n",
       "      <td>pradon-mort-de-bajazet</td>\n",
       "      <td>tragedy</td>\n",
       "      <td>1676</td>\n",
       "      <td>51</td>\n",
       "      <td>393.0</td>\n",
       "    </tr>\n",
       "    <tr>\n",
       "      <th>1016</th>\n",
       "      <td>asterie</td>\n",
       "      <td>pradon-mort-de-bajazet</td>\n",
       "      <td>tragedy</td>\n",
       "      <td>1676</td>\n",
       "      <td>60</td>\n",
       "      <td>486.0</td>\n",
       "    </tr>\n",
       "    <tr>\n",
       "      <th>1017</th>\n",
       "      <td>zaïde</td>\n",
       "      <td>pradon-mort-de-bajazet</td>\n",
       "      <td>tragedy</td>\n",
       "      <td>1676</td>\n",
       "      <td>9</td>\n",
       "      <td>30.0</td>\n",
       "    </tr>\n",
       "    <tr>\n",
       "      <th>1018</th>\n",
       "      <td>tamur</td>\n",
       "      <td>pradon-mort-de-bajazet</td>\n",
       "      <td>tragedy</td>\n",
       "      <td>1676</td>\n",
       "      <td>3</td>\n",
       "      <td>19.0</td>\n",
       "    </tr>\n",
       "  </tbody>\n",
       "</table>\n",
       "<p>1019 rows × 6 columns</p>\n",
       "</div>"
      ],
      "text/plain": [
       "       char_id                    play    genre  year  cue_amount  \\\n",
       "0     climante         gillet-deniaise   comedy  1647         165   \n",
       "1       ariste         gillet-deniaise   comedy  1647         191   \n",
       "2      jodelet         gillet-deniaise   comedy  1647         125   \n",
       "3       olympe         gillet-deniaise   comedy  1647         130   \n",
       "4       oronte         gillet-deniaise   comedy  1647         160   \n",
       "...        ...                     ...      ...   ...         ...   \n",
       "1014   bajazet  pradon-mort-de-bajazet  tragedy  1676          27   \n",
       "1015  tamerlan  pradon-mort-de-bajazet  tragedy  1676          51   \n",
       "1016   asterie  pradon-mort-de-bajazet  tragedy  1676          60   \n",
       "1017     zaïde  pradon-mort-de-bajazet  tragedy  1676           9   \n",
       "1018     tamur  pradon-mort-de-bajazet  tragedy  1676           3   \n",
       "\n",
       "      verse_amount  \n",
       "0            332.0  \n",
       "1            493.0  \n",
       "2            285.0  \n",
       "3            240.0  \n",
       "4            329.0  \n",
       "...            ...  \n",
       "1014         263.0  \n",
       "1015         393.0  \n",
       "1016         486.0  \n",
       "1017          30.0  \n",
       "1018          19.0  \n",
       "\n",
       "[1019 rows x 6 columns]"
      ]
     },
     "execution_count": 182,
     "metadata": {},
     "output_type": "execute_result"
    }
   ],
   "source": [
    "df_characters"
   ]
  },
  {
   "cell_type": "code",
   "execution_count": 189,
   "metadata": {},
   "outputs": [],
   "source": [
    "def dialogue_weight(playname, cue_amnt, verse_amnt):\n",
    "    cue_percentage = cue_amnt / df_characters_sum['cue_amount'][playname]\n",
    "    verse_percentage = verse_amnt / df_characters_sum['verse_amount'][playname]\n",
    "    return (cue_percentage + verse_percentage) / 2"
   ]
  },
  {
   "cell_type": "code",
   "execution_count": 190,
   "metadata": {},
   "outputs": [],
   "source": [
    "df_characters['dialogue_weight'] = df_characters.apply(lambda x: dialogue_weight(x.play, x.cue_amount, x.verse_amount), axis=1)"
   ]
  },
  {
   "cell_type": "code",
   "execution_count": 295,
   "metadata": {},
   "outputs": [
    {
     "data": {
      "text/html": [
       "<div>\n",
       "<style scoped>\n",
       "    .dataframe tbody tr th:only-of-type {\n",
       "        vertical-align: middle;\n",
       "    }\n",
       "\n",
       "    .dataframe tbody tr th {\n",
       "        vertical-align: top;\n",
       "    }\n",
       "\n",
       "    .dataframe thead th {\n",
       "        text-align: right;\n",
       "    }\n",
       "</style>\n",
       "<table border=\"1\" class=\"dataframe\">\n",
       "  <thead>\n",
       "    <tr style=\"text-align: right;\">\n",
       "      <th></th>\n",
       "      <th>char_id</th>\n",
       "      <th>play</th>\n",
       "      <th>genre</th>\n",
       "      <th>year</th>\n",
       "      <th>cue_amount</th>\n",
       "      <th>verse_amount</th>\n",
       "      <th>dialogue_weight</th>\n",
       "      <th>dialogue_weight_cat</th>\n",
       "      <th>social_status</th>\n",
       "    </tr>\n",
       "  </thead>\n",
       "  <tbody>\n",
       "    <tr>\n",
       "      <th>0</th>\n",
       "      <td>climante</td>\n",
       "      <td>gillet-deniaise</td>\n",
       "      <td>comedy</td>\n",
       "      <td>1647</td>\n",
       "      <td>165</td>\n",
       "      <td>332.0</td>\n",
       "      <td>0.161882</td>\n",
       "      <td>1.0</td>\n",
       "      <td>2</td>\n",
       "    </tr>\n",
       "    <tr>\n",
       "      <th>1</th>\n",
       "      <td>ariste</td>\n",
       "      <td>gillet-deniaise</td>\n",
       "      <td>comedy</td>\n",
       "      <td>1647</td>\n",
       "      <td>191</td>\n",
       "      <td>493.0</td>\n",
       "      <td>0.211500</td>\n",
       "      <td>1.0</td>\n",
       "      <td>2</td>\n",
       "    </tr>\n",
       "    <tr>\n",
       "      <th>2</th>\n",
       "      <td>jodelet</td>\n",
       "      <td>gillet-deniaise</td>\n",
       "      <td>comedy</td>\n",
       "      <td>1647</td>\n",
       "      <td>125</td>\n",
       "      <td>285.0</td>\n",
       "      <td>0.130066</td>\n",
       "      <td>1.0</td>\n",
       "      <td>2</td>\n",
       "    </tr>\n",
       "    <tr>\n",
       "      <th>3</th>\n",
       "      <td>olympe</td>\n",
       "      <td>gillet-deniaise</td>\n",
       "      <td>comedy</td>\n",
       "      <td>1647</td>\n",
       "      <td>130</td>\n",
       "      <td>240.0</td>\n",
       "      <td>0.122757</td>\n",
       "      <td>2.0</td>\n",
       "      <td>2</td>\n",
       "    </tr>\n",
       "    <tr>\n",
       "      <th>4</th>\n",
       "      <td>oronte</td>\n",
       "      <td>gillet-deniaise</td>\n",
       "      <td>comedy</td>\n",
       "      <td>1647</td>\n",
       "      <td>160</td>\n",
       "      <td>329.0</td>\n",
       "      <td>0.158543</td>\n",
       "      <td>1.0</td>\n",
       "      <td>2</td>\n",
       "    </tr>\n",
       "  </tbody>\n",
       "</table>\n",
       "</div>"
      ],
      "text/plain": [
       "    char_id             play   genre  year  cue_amount  verse_amount  \\\n",
       "0  climante  gillet-deniaise  comedy  1647         165         332.0   \n",
       "1    ariste  gillet-deniaise  comedy  1647         191         493.0   \n",
       "2   jodelet  gillet-deniaise  comedy  1647         125         285.0   \n",
       "3    olympe  gillet-deniaise  comedy  1647         130         240.0   \n",
       "4    oronte  gillet-deniaise  comedy  1647         160         329.0   \n",
       "\n",
       "   dialogue_weight  dialogue_weight_cat  social_status  \n",
       "0         0.161882                  1.0              2  \n",
       "1         0.211500                  1.0              2  \n",
       "2         0.130066                  1.0              2  \n",
       "3         0.122757                  2.0              2  \n",
       "4         0.158543                  1.0              2  "
      ]
     },
     "execution_count": 295,
     "metadata": {},
     "output_type": "execute_result"
    }
   ],
   "source": [
    "df_characters.head()"
   ]
  },
  {
   "cell_type": "code",
   "execution_count": 194,
   "metadata": {},
   "outputs": [],
   "source": [
    "dialogue_weight_quantiles = df_characters['dialogue_weight'].quantile([0.25,0.5,0.75])"
   ]
  },
  {
   "cell_type": "code",
   "execution_count": 195,
   "metadata": {},
   "outputs": [],
   "source": [
    "def get_dialogue_weight_rank(value, quantiles):\n",
    "    if value < quantiles[0.25]:\n",
    "        return 4\n",
    "    elif quantiles[0.25] <= value < quantiles[0.5]:\n",
    "        return 3\n",
    "    elif quantiles[0.5] <= value < quantiles[0.75]:\n",
    "        return 2\n",
    "    elif value >= quantiles[0.75]:\n",
    "        return 1"
   ]
  },
  {
   "cell_type": "code",
   "execution_count": 196,
   "metadata": {},
   "outputs": [],
   "source": [
    "df_characters['dialogue_weight_cat'] = df_characters.dialogue_weight.apply(lambda x: get_dialogue_weight_rank(\n",
    "    x,\n",
    "    dialogue_weight_quantiles\n",
    "))"
   ]
  },
  {
   "cell_type": "code",
   "execution_count": 197,
   "metadata": {},
   "outputs": [],
   "source": [
    "genre_to_weight = df_characters.groupby(['genre', 'dialogue_weight_cat']).count()['play']"
   ]
  },
  {
   "cell_type": "code",
   "execution_count": 198,
   "metadata": {},
   "outputs": [
    {
     "data": {
      "text/plain": [
       "genre   dialogue_weight_cat\n",
       "comedy  1.0                    0.248239\n",
       "        2.0                    0.279930\n",
       "        3.0                    0.272887\n",
       "        4.0                    0.198944\n",
       "Name: play, dtype: float64"
      ]
     },
     "execution_count": 198,
     "metadata": {},
     "output_type": "execute_result"
    }
   ],
   "source": [
    "genre_to_weight[:4] / genre_to_weight[:4].sum()"
   ]
  },
  {
   "cell_type": "code",
   "execution_count": 199,
   "metadata": {},
   "outputs": [
    {
     "data": {
      "text/plain": [
       "genre    dialogue_weight_cat\n",
       "tragedy  1.0                    0.252232\n",
       "         2.0                    0.212054\n",
       "         3.0                    0.220982\n",
       "         4.0                    0.314732\n",
       "Name: play, dtype: float64"
      ]
     },
     "execution_count": 199,
     "metadata": {},
     "output_type": "execute_result"
    }
   ],
   "source": [
    "genre_to_weight[4:] / genre_to_weight[4:].sum()"
   ]
  },
  {
   "cell_type": "markdown",
   "metadata": {},
   "source": [
    "### Social types"
   ]
  },
  {
   "cell_type": "code",
   "execution_count": 127,
   "metadata": {},
   "outputs": [],
   "source": [
    "char_types_df = pd.read_csv('data/character_social_types.tsv', sep='\\t', header=None)"
   ]
  },
  {
   "cell_type": "code",
   "execution_count": 128,
   "metadata": {},
   "outputs": [],
   "source": [
    "char_types = list(char_types_df[0])"
   ]
  },
  {
   "cell_type": "code",
   "execution_count": 284,
   "metadata": {},
   "outputs": [],
   "source": [
    "social_characters_dict = {elem[0]: elem[1] for elem in char_types_df.values}"
   ]
  },
  {
   "cell_type": "code",
   "execution_count": 285,
   "metadata": {},
   "outputs": [],
   "source": [
    "social_characters_dict['comtesse'] = 1"
   ]
  },
  {
   "cell_type": "code",
   "execution_count": 286,
   "metadata": {},
   "outputs": [],
   "source": [
    "social_stati_count_list = []\n",
    "for root, subdirs, files in os.walk('extended-corpus'):\n",
    "    for file in files:\n",
    "        with open(root+'/'+file, encoding='utf-8') as f:\n",
    "            tei_text = f.read()\n",
    "        soup = BeautifulSoup(tei_text, 'lxml')\n",
    "        social_stati_count_list.append({**map_characters_to_social(soup, social_characters_dict, source=False), **{'name': file[:-4]}})"
   ]
  },
  {
   "cell_type": "code",
   "execution_count": 287,
   "metadata": {},
   "outputs": [],
   "source": [
    "df_plays = pd.merge(df_plays, pd.DataFrame(social_stati_count_list).drop(83), on='name')\n",
    "# 83: statuses not annotated"
   ]
  },
  {
   "cell_type": "code",
   "execution_count": 288,
   "metadata": {},
   "outputs": [
    {
     "data": {
      "text/html": [
       "<div>\n",
       "<style scoped>\n",
       "    .dataframe tbody tr th:only-of-type {\n",
       "        vertical-align: middle;\n",
       "    }\n",
       "\n",
       "    .dataframe tbody tr th {\n",
       "        vertical-align: top;\n",
       "    }\n",
       "\n",
       "    .dataframe thead th {\n",
       "        text-align: right;\n",
       "    }\n",
       "</style>\n",
       "<table border=\"1\" class=\"dataframe\">\n",
       "  <thead>\n",
       "    <tr style=\"text-align: right;\">\n",
       "      <th></th>\n",
       "      <th>name</th>\n",
       "      <th>date</th>\n",
       "      <th>characters</th>\n",
       "      <th>verses</th>\n",
       "      <th>cues</th>\n",
       "      <th>scenes</th>\n",
       "      <th>breaking_verses</th>\n",
       "      <th>tei</th>\n",
       "      <th>genre</th>\n",
       "      <th>social_0_character_amount_x</th>\n",
       "      <th>social_1_character_amount_x</th>\n",
       "      <th>social_2_character_amount_x</th>\n",
       "      <th>social_3_character_amount_x</th>\n",
       "      <th>social_None_character_amount_x</th>\n",
       "      <th>social_0_character_amount_y</th>\n",
       "      <th>social_1_character_amount_y</th>\n",
       "      <th>social_2_character_amount_y</th>\n",
       "      <th>social_3_character_amount_y</th>\n",
       "      <th>social_None_character_amount_y</th>\n",
       "    </tr>\n",
       "  </thead>\n",
       "  <tbody>\n",
       "    <tr>\n",
       "      <th>0</th>\n",
       "      <td>gillet-deniaise</td>\n",
       "      <td>1647</td>\n",
       "      <td>12</td>\n",
       "      <td>1931</td>\n",
       "      <td>935</td>\n",
       "      <td>33</td>\n",
       "      <td>323</td>\n",
       "      <td>&lt;TEI xmlns=\"http://www.tei-c.org/ns/1.0\" xml:l...</td>\n",
       "      <td>comedy</td>\n",
       "      <td>0</td>\n",
       "      <td>0</td>\n",
       "      <td>14</td>\n",
       "      <td>0</td>\n",
       "      <td>NaN</td>\n",
       "      <td>0</td>\n",
       "      <td>0</td>\n",
       "      <td>14</td>\n",
       "      <td>0</td>\n",
       "      <td>NaN</td>\n",
       "    </tr>\n",
       "    <tr>\n",
       "      <th>1</th>\n",
       "      <td>quinault-comedie-sans-comedie</td>\n",
       "      <td>1655</td>\n",
       "      <td>32</td>\n",
       "      <td>1716</td>\n",
       "      <td>644</td>\n",
       "      <td>38</td>\n",
       "      <td>195</td>\n",
       "      <td>&lt;TEI xmlns=\"http://www.tei-c.org/ns/1.0\" xml:l...</td>\n",
       "      <td>comedy</td>\n",
       "      <td>0</td>\n",
       "      <td>17</td>\n",
       "      <td>63</td>\n",
       "      <td>28</td>\n",
       "      <td>NaN</td>\n",
       "      <td>0</td>\n",
       "      <td>17</td>\n",
       "      <td>63</td>\n",
       "      <td>28</td>\n",
       "      <td>NaN</td>\n",
       "    </tr>\n",
       "    <tr>\n",
       "      <th>2</th>\n",
       "      <td>scarron-marquis-ridicule</td>\n",
       "      <td>1646</td>\n",
       "      <td>10</td>\n",
       "      <td>1656</td>\n",
       "      <td>637</td>\n",
       "      <td>24</td>\n",
       "      <td>247</td>\n",
       "      <td>&lt;TEI xmlns=\"http://www.tei-c.org/ns/1.0\" xml:l...</td>\n",
       "      <td>comedy</td>\n",
       "      <td>0</td>\n",
       "      <td>5</td>\n",
       "      <td>5</td>\n",
       "      <td>0</td>\n",
       "      <td>NaN</td>\n",
       "      <td>0</td>\n",
       "      <td>5</td>\n",
       "      <td>5</td>\n",
       "      <td>0</td>\n",
       "      <td>NaN</td>\n",
       "    </tr>\n",
       "    <tr>\n",
       "      <th>3</th>\n",
       "      <td>donneau-de-vise-intrigues-de-la-loterie</td>\n",
       "      <td>1663</td>\n",
       "      <td>18</td>\n",
       "      <td>1010</td>\n",
       "      <td>559</td>\n",
       "      <td>37</td>\n",
       "      <td>250</td>\n",
       "      <td>&lt;TEI xmlns=\"http://www.tei-c.org/ns/1.0\" xml:l...</td>\n",
       "      <td>comedy</td>\n",
       "      <td>0</td>\n",
       "      <td>0</td>\n",
       "      <td>16</td>\n",
       "      <td>0</td>\n",
       "      <td>NaN</td>\n",
       "      <td>0</td>\n",
       "      <td>0</td>\n",
       "      <td>16</td>\n",
       "      <td>0</td>\n",
       "      <td>NaN</td>\n",
       "    </tr>\n",
       "    <tr>\n",
       "      <th>4</th>\n",
       "      <td>chevalier-galants-ridicules</td>\n",
       "      <td>1672</td>\n",
       "      <td>8</td>\n",
       "      <td>673</td>\n",
       "      <td>220</td>\n",
       "      <td>16</td>\n",
       "      <td>19</td>\n",
       "      <td>&lt;TEI xmlns=\"http://www.tei-c.org/ns/1.0\" xml:l...</td>\n",
       "      <td>comedy</td>\n",
       "      <td>0</td>\n",
       "      <td>1</td>\n",
       "      <td>7</td>\n",
       "      <td>0</td>\n",
       "      <td>NaN</td>\n",
       "      <td>0</td>\n",
       "      <td>1</td>\n",
       "      <td>7</td>\n",
       "      <td>0</td>\n",
       "      <td>NaN</td>\n",
       "    </tr>\n",
       "  </tbody>\n",
       "</table>\n",
       "</div>"
      ],
      "text/plain": [
       "                                      name  date  characters  verses  cues  \\\n",
       "0                          gillet-deniaise  1647          12    1931   935   \n",
       "1            quinault-comedie-sans-comedie  1655          32    1716   644   \n",
       "2                 scarron-marquis-ridicule  1646          10    1656   637   \n",
       "3  donneau-de-vise-intrigues-de-la-loterie  1663          18    1010   559   \n",
       "4              chevalier-galants-ridicules  1672           8     673   220   \n",
       "\n",
       "   scenes  breaking_verses                                                tei  \\\n",
       "0      33              323  <TEI xmlns=\"http://www.tei-c.org/ns/1.0\" xml:l...   \n",
       "1      38              195  <TEI xmlns=\"http://www.tei-c.org/ns/1.0\" xml:l...   \n",
       "2      24              247  <TEI xmlns=\"http://www.tei-c.org/ns/1.0\" xml:l...   \n",
       "3      37              250  <TEI xmlns=\"http://www.tei-c.org/ns/1.0\" xml:l...   \n",
       "4      16               19  <TEI xmlns=\"http://www.tei-c.org/ns/1.0\" xml:l...   \n",
       "\n",
       "    genre  social_0_character_amount_x  social_1_character_amount_x  \\\n",
       "0  comedy                            0                            0   \n",
       "1  comedy                            0                           17   \n",
       "2  comedy                            0                            5   \n",
       "3  comedy                            0                            0   \n",
       "4  comedy                            0                            1   \n",
       "\n",
       "   social_2_character_amount_x  social_3_character_amount_x  \\\n",
       "0                           14                            0   \n",
       "1                           63                           28   \n",
       "2                            5                            0   \n",
       "3                           16                            0   \n",
       "4                            7                            0   \n",
       "\n",
       "   social_None_character_amount_x  social_0_character_amount_y  \\\n",
       "0                             NaN                            0   \n",
       "1                             NaN                            0   \n",
       "2                             NaN                            0   \n",
       "3                             NaN                            0   \n",
       "4                             NaN                            0   \n",
       "\n",
       "   social_1_character_amount_y  social_2_character_amount_y  \\\n",
       "0                            0                           14   \n",
       "1                           17                           63   \n",
       "2                            5                            5   \n",
       "3                            0                           16   \n",
       "4                            1                            7   \n",
       "\n",
       "   social_3_character_amount_y  social_None_character_amount_y  \n",
       "0                            0                             NaN  \n",
       "1                           28                             NaN  \n",
       "2                            0                             NaN  \n",
       "3                            0                             NaN  \n",
       "4                            0                             NaN  "
      ]
     },
     "execution_count": 288,
     "metadata": {},
     "output_type": "execute_result"
    }
   ],
   "source": [
    "df_plays.head()"
   ]
  },
  {
   "cell_type": "code",
   "execution_count": 289,
   "metadata": {},
   "outputs": [],
   "source": [
    "plays_dict = {play[0]: BeautifulSoup(play[7], 'lxml') for play in df_plays.values}"
   ]
  },
  {
   "cell_type": "code",
   "execution_count": 290,
   "metadata": {},
   "outputs": [],
   "source": [
    "plays_social_speech_dict = {}\n",
    "for play in plays_dict:\n",
    "    role_ids_and_social_dict = {}\n",
    "    missed_ids = []\n",
    "    play_social_speech = {\n",
    "        0: [],\n",
    "        1: [],\n",
    "        2: [],\n",
    "        3: [],\n",
    "    }\n",
    "    cast = plays_dict[play].find_all('castitem')\n",
    "    for castitem_tag in cast:\n",
    "        properties = castitem_tag(text=lambda text: isinstance(text, Comment))\n",
    "        role_id = castitem_tag.find('role')['corresp']\n",
    "        if 'statut' in properties[2]:\n",
    "            statut = properties[2].split('=')[1].strip('\"')\n",
    "            statut_number = social_characters_dict[statut]\n",
    "        else:\n",
    "            print(properties[2])\n",
    "        role_ids_and_social_dict[role_id] = statut_number\n",
    "    for sp_tag in plays_dict[play].find_all('sp'):\n",
    "        try:\n",
    "            play_social_speech[role_ids_and_social_dict[sp_tag['who']]].extend(sp_tag.find_all('l'))\n",
    "        except KeyError:\n",
    "            if sp_tag['who'] not in missed_ids:\n",
    "                with open('data/tmp/key_mismatch.tsv', 'a', encoding='utf-8') as fw:\n",
    "                    fw.write(f'{play}\\t{sp_tag[\"who\"]}\\t{\"+\".join(role_ids_and_social_dict.keys())}\\n')\n",
    "                missed_ids.append(sp_tag['who'])\n",
    "    plays_social_speech_dict[play] = play_social_speech"
   ]
  },
  {
   "cell_type": "code",
   "execution_count": 291,
   "metadata": {},
   "outputs": [],
   "source": [
    "plays_social_speech_proportions = {}\n",
    "for play in plays_social_speech_dict:\n",
    "    plays_social_speech_proportions[play] = {}\n",
    "    for key in plays_social_speech_dict[play]:\n",
    "        plays_social_speech_proportions[play][f'social_{key}_lines'] = len(plays_social_speech_dict[play][key])"
   ]
  },
  {
   "cell_type": "code",
   "execution_count": 205,
   "metadata": {},
   "outputs": [],
   "source": [
    "df_line_quantity = pd.DataFrame.from_dict(plays_social_speech_proportions).T\n",
    "df_line_proportions = df_line_quantity.div(df_line_quantity.sum(axis=1), axis=0)"
   ]
  },
  {
   "cell_type": "code",
   "execution_count": 206,
   "metadata": {},
   "outputs": [
    {
     "data": {
      "text/html": [
       "<div>\n",
       "<style scoped>\n",
       "    .dataframe tbody tr th:only-of-type {\n",
       "        vertical-align: middle;\n",
       "    }\n",
       "\n",
       "    .dataframe tbody tr th {\n",
       "        vertical-align: top;\n",
       "    }\n",
       "\n",
       "    .dataframe thead th {\n",
       "        text-align: right;\n",
       "    }\n",
       "</style>\n",
       "<table border=\"1\" class=\"dataframe\">\n",
       "  <thead>\n",
       "    <tr style=\"text-align: right;\">\n",
       "      <th></th>\n",
       "      <th>index</th>\n",
       "      <th>social_0_lines</th>\n",
       "      <th>social_1_lines</th>\n",
       "      <th>social_2_lines</th>\n",
       "      <th>social_3_lines</th>\n",
       "    </tr>\n",
       "  </thead>\n",
       "  <tbody>\n",
       "    <tr>\n",
       "      <th>0</th>\n",
       "      <td>gillet-deniaise</td>\n",
       "      <td>0.0</td>\n",
       "      <td>0.000000</td>\n",
       "      <td>1.000000</td>\n",
       "      <td>0.000000</td>\n",
       "    </tr>\n",
       "    <tr>\n",
       "      <th>1</th>\n",
       "      <td>quinault-comedie-sans-comedie</td>\n",
       "      <td>0.0</td>\n",
       "      <td>0.156398</td>\n",
       "      <td>0.730384</td>\n",
       "      <td>0.113217</td>\n",
       "    </tr>\n",
       "    <tr>\n",
       "      <th>2</th>\n",
       "      <td>scarron-marquis-ridicule</td>\n",
       "      <td>0.0</td>\n",
       "      <td>0.745717</td>\n",
       "      <td>0.254283</td>\n",
       "      <td>0.000000</td>\n",
       "    </tr>\n",
       "    <tr>\n",
       "      <th>3</th>\n",
       "      <td>donneau-de-vise-intrigues-de-la-loterie</td>\n",
       "      <td>0.0</td>\n",
       "      <td>0.000000</td>\n",
       "      <td>1.000000</td>\n",
       "      <td>0.000000</td>\n",
       "    </tr>\n",
       "    <tr>\n",
       "      <th>4</th>\n",
       "      <td>chevalier-galants-ridicules</td>\n",
       "      <td>0.0</td>\n",
       "      <td>0.000000</td>\n",
       "      <td>1.000000</td>\n",
       "      <td>0.000000</td>\n",
       "    </tr>\n",
       "  </tbody>\n",
       "</table>\n",
       "</div>"
      ],
      "text/plain": [
       "                                     index  social_0_lines  social_1_lines  \\\n",
       "0                          gillet-deniaise             0.0        0.000000   \n",
       "1            quinault-comedie-sans-comedie             0.0        0.156398   \n",
       "2                 scarron-marquis-ridicule             0.0        0.745717   \n",
       "3  donneau-de-vise-intrigues-de-la-loterie             0.0        0.000000   \n",
       "4              chevalier-galants-ridicules             0.0        0.000000   \n",
       "\n",
       "   social_2_lines  social_3_lines  \n",
       "0        1.000000        0.000000  \n",
       "1        0.730384        0.113217  \n",
       "2        0.254283        0.000000  \n",
       "3        1.000000        0.000000  \n",
       "4        1.000000        0.000000  "
      ]
     },
     "execution_count": 206,
     "metadata": {},
     "output_type": "execute_result"
    }
   ],
   "source": [
    "df_line_proportions.reset_index().head()"
   ]
  },
  {
   "cell_type": "code",
   "execution_count": 137,
   "metadata": {},
   "outputs": [],
   "source": [
    "df_plays = pd.merge(df_plays, df_line_proportions.reset_index(), left_on='name', right_on='index')"
   ]
  },
  {
   "cell_type": "code",
   "execution_count": 138,
   "metadata": {},
   "outputs": [],
   "source": [
    "df_plays = df_plays.drop('index', axis=1)"
   ]
  },
  {
   "cell_type": "code",
   "execution_count": 139,
   "metadata": {},
   "outputs": [
    {
     "data": {
      "text/html": [
       "<div>\n",
       "<style scoped>\n",
       "    .dataframe tbody tr th:only-of-type {\n",
       "        vertical-align: middle;\n",
       "    }\n",
       "\n",
       "    .dataframe tbody tr th {\n",
       "        vertical-align: top;\n",
       "    }\n",
       "\n",
       "    .dataframe thead th {\n",
       "        text-align: right;\n",
       "    }\n",
       "</style>\n",
       "<table border=\"1\" class=\"dataframe\">\n",
       "  <thead>\n",
       "    <tr style=\"text-align: right;\">\n",
       "      <th></th>\n",
       "      <th>name</th>\n",
       "      <th>date</th>\n",
       "      <th>characters</th>\n",
       "      <th>verses</th>\n",
       "      <th>cues</th>\n",
       "      <th>scenes</th>\n",
       "      <th>breaking_verses</th>\n",
       "      <th>tei</th>\n",
       "      <th>genre</th>\n",
       "      <th>vivacity</th>\n",
       "      <th>social_0_character_amount</th>\n",
       "      <th>social_1_character_amount</th>\n",
       "      <th>social_2_character_amount</th>\n",
       "      <th>social_3_character_amount</th>\n",
       "      <th>social_None_character_amount</th>\n",
       "      <th>social_0_lines</th>\n",
       "      <th>social_1_lines</th>\n",
       "      <th>social_2_lines</th>\n",
       "      <th>social_3_lines</th>\n",
       "    </tr>\n",
       "  </thead>\n",
       "  <tbody>\n",
       "    <tr>\n",
       "      <th>0</th>\n",
       "      <td>gillet-deniaise</td>\n",
       "      <td>1647</td>\n",
       "      <td>12</td>\n",
       "      <td>1931</td>\n",
       "      <td>935</td>\n",
       "      <td>33</td>\n",
       "      <td>323</td>\n",
       "      <td>&lt;TEI xmlns=\"http://www.tei-c.org/ns/1.0\" xml:l...</td>\n",
       "      <td>comedy</td>\n",
       "      <td>0.484205</td>\n",
       "      <td>0</td>\n",
       "      <td>0</td>\n",
       "      <td>14</td>\n",
       "      <td>0</td>\n",
       "      <td>NaN</td>\n",
       "      <td>0.0</td>\n",
       "      <td>0.000000</td>\n",
       "      <td>1.000000</td>\n",
       "      <td>0.000000</td>\n",
       "    </tr>\n",
       "    <tr>\n",
       "      <th>1</th>\n",
       "      <td>quinault-comedie-sans-comedie</td>\n",
       "      <td>1655</td>\n",
       "      <td>32</td>\n",
       "      <td>1716</td>\n",
       "      <td>644</td>\n",
       "      <td>38</td>\n",
       "      <td>195</td>\n",
       "      <td>&lt;TEI xmlns=\"http://www.tei-c.org/ns/1.0\" xml:l...</td>\n",
       "      <td>comedy</td>\n",
       "      <td>0.375291</td>\n",
       "      <td>0</td>\n",
       "      <td>17</td>\n",
       "      <td>63</td>\n",
       "      <td>28</td>\n",
       "      <td>NaN</td>\n",
       "      <td>0.0</td>\n",
       "      <td>0.156398</td>\n",
       "      <td>0.730384</td>\n",
       "      <td>0.113217</td>\n",
       "    </tr>\n",
       "    <tr>\n",
       "      <th>2</th>\n",
       "      <td>scarron-marquis-ridicule</td>\n",
       "      <td>1646</td>\n",
       "      <td>10</td>\n",
       "      <td>1656</td>\n",
       "      <td>637</td>\n",
       "      <td>24</td>\n",
       "      <td>247</td>\n",
       "      <td>&lt;TEI xmlns=\"http://www.tei-c.org/ns/1.0\" xml:l...</td>\n",
       "      <td>comedy</td>\n",
       "      <td>0.384662</td>\n",
       "      <td>0</td>\n",
       "      <td>5</td>\n",
       "      <td>5</td>\n",
       "      <td>0</td>\n",
       "      <td>NaN</td>\n",
       "      <td>0.0</td>\n",
       "      <td>0.745717</td>\n",
       "      <td>0.254283</td>\n",
       "      <td>0.000000</td>\n",
       "    </tr>\n",
       "    <tr>\n",
       "      <th>3</th>\n",
       "      <td>donneau-de-vise-intrigues-de-la-loterie</td>\n",
       "      <td>1663</td>\n",
       "      <td>18</td>\n",
       "      <td>1010</td>\n",
       "      <td>559</td>\n",
       "      <td>37</td>\n",
       "      <td>250</td>\n",
       "      <td>&lt;TEI xmlns=\"http://www.tei-c.org/ns/1.0\" xml:l...</td>\n",
       "      <td>comedy</td>\n",
       "      <td>0.553465</td>\n",
       "      <td>0</td>\n",
       "      <td>0</td>\n",
       "      <td>16</td>\n",
       "      <td>0</td>\n",
       "      <td>NaN</td>\n",
       "      <td>0.0</td>\n",
       "      <td>0.000000</td>\n",
       "      <td>1.000000</td>\n",
       "      <td>0.000000</td>\n",
       "    </tr>\n",
       "    <tr>\n",
       "      <th>4</th>\n",
       "      <td>chevalier-galants-ridicules</td>\n",
       "      <td>1672</td>\n",
       "      <td>8</td>\n",
       "      <td>673</td>\n",
       "      <td>220</td>\n",
       "      <td>16</td>\n",
       "      <td>19</td>\n",
       "      <td>&lt;TEI xmlns=\"http://www.tei-c.org/ns/1.0\" xml:l...</td>\n",
       "      <td>comedy</td>\n",
       "      <td>0.326895</td>\n",
       "      <td>0</td>\n",
       "      <td>1</td>\n",
       "      <td>7</td>\n",
       "      <td>0</td>\n",
       "      <td>NaN</td>\n",
       "      <td>0.0</td>\n",
       "      <td>0.000000</td>\n",
       "      <td>1.000000</td>\n",
       "      <td>0.000000</td>\n",
       "    </tr>\n",
       "  </tbody>\n",
       "</table>\n",
       "</div>"
      ],
      "text/plain": [
       "                                      name  date  characters  verses  cues  \\\n",
       "0                          gillet-deniaise  1647          12    1931   935   \n",
       "1            quinault-comedie-sans-comedie  1655          32    1716   644   \n",
       "2                 scarron-marquis-ridicule  1646          10    1656   637   \n",
       "3  donneau-de-vise-intrigues-de-la-loterie  1663          18    1010   559   \n",
       "4              chevalier-galants-ridicules  1672           8     673   220   \n",
       "\n",
       "   scenes  breaking_verses                                                tei  \\\n",
       "0      33              323  <TEI xmlns=\"http://www.tei-c.org/ns/1.0\" xml:l...   \n",
       "1      38              195  <TEI xmlns=\"http://www.tei-c.org/ns/1.0\" xml:l...   \n",
       "2      24              247  <TEI xmlns=\"http://www.tei-c.org/ns/1.0\" xml:l...   \n",
       "3      37              250  <TEI xmlns=\"http://www.tei-c.org/ns/1.0\" xml:l...   \n",
       "4      16               19  <TEI xmlns=\"http://www.tei-c.org/ns/1.0\" xml:l...   \n",
       "\n",
       "    genre  vivacity  social_0_character_amount  social_1_character_amount  \\\n",
       "0  comedy  0.484205                          0                          0   \n",
       "1  comedy  0.375291                          0                         17   \n",
       "2  comedy  0.384662                          0                          5   \n",
       "3  comedy  0.553465                          0                          0   \n",
       "4  comedy  0.326895                          0                          1   \n",
       "\n",
       "   social_2_character_amount  social_3_character_amount  \\\n",
       "0                         14                          0   \n",
       "1                         63                         28   \n",
       "2                          5                          0   \n",
       "3                         16                          0   \n",
       "4                          7                          0   \n",
       "\n",
       "   social_None_character_amount  social_0_lines  social_1_lines  \\\n",
       "0                           NaN             0.0        0.000000   \n",
       "1                           NaN             0.0        0.156398   \n",
       "2                           NaN             0.0        0.745717   \n",
       "3                           NaN             0.0        0.000000   \n",
       "4                           NaN             0.0        0.000000   \n",
       "\n",
       "   social_2_lines  social_3_lines  \n",
       "0        1.000000        0.000000  \n",
       "1        0.730384        0.113217  \n",
       "2        0.254283        0.000000  \n",
       "3        1.000000        0.000000  \n",
       "4        1.000000        0.000000  "
      ]
     },
     "execution_count": 139,
     "metadata": {},
     "output_type": "execute_result"
    }
   ],
   "source": [
    "df_plays.head()"
   ]
  },
  {
   "cell_type": "code",
   "execution_count": 140,
   "metadata": {},
   "outputs": [
    {
     "data": {
      "text/html": [
       "<div>\n",
       "<style scoped>\n",
       "    .dataframe tbody tr th:only-of-type {\n",
       "        vertical-align: middle;\n",
       "    }\n",
       "\n",
       "    .dataframe tbody tr th {\n",
       "        vertical-align: top;\n",
       "    }\n",
       "\n",
       "    .dataframe thead th {\n",
       "        text-align: right;\n",
       "    }\n",
       "</style>\n",
       "<table border=\"1\" class=\"dataframe\">\n",
       "  <thead>\n",
       "    <tr style=\"text-align: right;\">\n",
       "      <th></th>\n",
       "      <th>social_0_character_amount</th>\n",
       "      <th>social_1_character_amount</th>\n",
       "      <th>social_2_character_amount</th>\n",
       "      <th>social_3_character_amount</th>\n",
       "    </tr>\n",
       "    <tr>\n",
       "      <th>genre</th>\n",
       "      <th></th>\n",
       "      <th></th>\n",
       "      <th></th>\n",
       "      <th></th>\n",
       "    </tr>\n",
       "  </thead>\n",
       "  <tbody>\n",
       "    <tr>\n",
       "      <th>comedy</th>\n",
       "      <td>2</td>\n",
       "      <td>135</td>\n",
       "      <td>421</td>\n",
       "      <td>77</td>\n",
       "    </tr>\n",
       "    <tr>\n",
       "      <th>tragedy</th>\n",
       "      <td>73</td>\n",
       "      <td>176</td>\n",
       "      <td>120</td>\n",
       "      <td>72</td>\n",
       "    </tr>\n",
       "  </tbody>\n",
       "</table>\n",
       "</div>"
      ],
      "text/plain": [
       "         social_0_character_amount  social_1_character_amount  \\\n",
       "genre                                                           \n",
       "comedy                           2                        135   \n",
       "tragedy                         73                        176   \n",
       "\n",
       "         social_2_character_amount  social_3_character_amount  \n",
       "genre                                                          \n",
       "comedy                         421                         77  \n",
       "tragedy                        120                         72  "
      ]
     },
     "execution_count": 140,
     "metadata": {},
     "output_type": "execute_result"
    }
   ],
   "source": [
    "df_plays.groupby(['genre']).sum()[\n",
    "    [\n",
    "        'social_0_character_amount',\n",
    "        'social_1_character_amount',\n",
    "        'social_2_character_amount',\n",
    "        'social_3_character_amount'\n",
    "    ]\n",
    "]"
   ]
  },
  {
   "cell_type": "code",
   "execution_count": 141,
   "metadata": {
    "scrolled": true
   },
   "outputs": [
    {
     "data": {
      "text/html": [
       "<div>\n",
       "<style scoped>\n",
       "    .dataframe tbody tr th:only-of-type {\n",
       "        vertical-align: middle;\n",
       "    }\n",
       "\n",
       "    .dataframe tbody tr th {\n",
       "        vertical-align: top;\n",
       "    }\n",
       "\n",
       "    .dataframe thead th {\n",
       "        text-align: right;\n",
       "    }\n",
       "</style>\n",
       "<table border=\"1\" class=\"dataframe\">\n",
       "  <thead>\n",
       "    <tr style=\"text-align: right;\">\n",
       "      <th></th>\n",
       "      <th>social_0_lines</th>\n",
       "      <th>social_1_lines</th>\n",
       "      <th>social_2_lines</th>\n",
       "      <th>social_3_lines</th>\n",
       "    </tr>\n",
       "    <tr>\n",
       "      <th>genre</th>\n",
       "      <th></th>\n",
       "      <th></th>\n",
       "      <th></th>\n",
       "      <th></th>\n",
       "    </tr>\n",
       "  </thead>\n",
       "  <tbody>\n",
       "    <tr>\n",
       "      <th>comedy</th>\n",
       "      <td>0.000000</td>\n",
       "      <td>0.264639</td>\n",
       "      <td>0.643825</td>\n",
       "      <td>0.091536</td>\n",
       "    </tr>\n",
       "    <tr>\n",
       "      <th>tragedy</th>\n",
       "      <td>0.317039</td>\n",
       "      <td>0.515990</td>\n",
       "      <td>0.100350</td>\n",
       "      <td>0.066621</td>\n",
       "    </tr>\n",
       "  </tbody>\n",
       "</table>\n",
       "</div>"
      ],
      "text/plain": [
       "         social_0_lines  social_1_lines  social_2_lines  social_3_lines\n",
       "genre                                                                  \n",
       "comedy         0.000000        0.264639        0.643825        0.091536\n",
       "tragedy        0.317039        0.515990        0.100350        0.066621"
      ]
     },
     "execution_count": 141,
     "metadata": {},
     "output_type": "execute_result"
    }
   ],
   "source": [
    "df_plays.groupby(['genre']).mean()[\n",
    "    [\n",
    "        'social_0_lines',\n",
    "        'social_1_lines',\n",
    "        'social_2_lines',\n",
    "        'social_3_lines'\n",
    "    ]\n",
    "]"
   ]
  },
  {
   "cell_type": "markdown",
   "metadata": {},
   "source": [
    "### Stage directions"
   ]
  },
  {
   "cell_type": "code",
   "execution_count": 296,
   "metadata": {},
   "outputs": [],
   "source": [
    "play_stage_directions = []\n",
    "non_action_stage_types = ['', 'AWAY', 'C', 'GET',\"L'EMPEREUR\", 'toward', 'toward/', 'decor', 'exit', 'entrance', 'alone']\n",
    "for play in plays_dict:\n",
    "    stage_directions = []\n",
    "    soup = plays_dict[play]\n",
    "    uncommented_stage_tags = soup.find_all('stage')\n",
    "    commented_stage_tags = soup(text=lambda text: isinstance(text, Comment) and '@stage' in text)\n",
    "    for tag in uncommented_stage_tags:\n",
    "        if 'type' in tag.attrs and tag['type'] not in non_action_stage_types:\n",
    "            stage_directions.append(tag['type'])\n",
    "    for tag in commented_stage_tags:\n",
    "        if tag.split('\"')[-2] not in non_action_stage_types:\n",
    "            stage_directions.append(tag.split('\"')[-2])\n",
    "    play_stage_directions.append({'name': play, 'stage_direction_count': len(stage_directions)})\n",
    "            "
   ]
  },
  {
   "cell_type": "code",
   "execution_count": 297,
   "metadata": {},
   "outputs": [],
   "source": [
    "df_plays_with_stage = df_plays.merge(\n",
    "    pd.DataFrame(play_stage_directions), on='name'\n",
    ")"
   ]
  },
  {
   "cell_type": "code",
   "execution_count": 298,
   "metadata": {},
   "outputs": [
    {
     "data": {
      "text/plain": [
       "genre\n",
       "comedy     38.122449\n",
       "tragedy    15.595745\n",
       "Name: stage_direction_count, dtype: float64"
      ]
     },
     "execution_count": 298,
     "metadata": {},
     "output_type": "execute_result"
    }
   ],
   "source": [
    "df_plays_with_stage.groupby('genre').mean()['stage_direction_count']"
   ]
  },
  {
   "cell_type": "code",
   "execution_count": 299,
   "metadata": {},
   "outputs": [],
   "source": [
    "df_plays_with_stage['stage_direction_on_verses'] = df_plays_with_stage['stage_direction_count'] /\\\n",
    "    df_plays_with_stage['verses']"
   ]
  },
  {
   "cell_type": "code",
   "execution_count": 300,
   "metadata": {
    "scrolled": true
   },
   "outputs": [
    {
     "data": {
      "text/html": [
       "<div>\n",
       "<style scoped>\n",
       "    .dataframe tbody tr th:only-of-type {\n",
       "        vertical-align: middle;\n",
       "    }\n",
       "\n",
       "    .dataframe tbody tr th {\n",
       "        vertical-align: top;\n",
       "    }\n",
       "\n",
       "    .dataframe thead th {\n",
       "        text-align: right;\n",
       "    }\n",
       "</style>\n",
       "<table border=\"1\" class=\"dataframe\">\n",
       "  <thead>\n",
       "    <tr style=\"text-align: right;\">\n",
       "      <th></th>\n",
       "      <th>name</th>\n",
       "      <th>date</th>\n",
       "      <th>characters</th>\n",
       "      <th>verses</th>\n",
       "      <th>cues</th>\n",
       "      <th>scenes</th>\n",
       "      <th>breaking_verses</th>\n",
       "      <th>tei</th>\n",
       "      <th>genre</th>\n",
       "      <th>social_0_character_amount_x</th>\n",
       "      <th>...</th>\n",
       "      <th>social_2_character_amount_x</th>\n",
       "      <th>social_3_character_amount_x</th>\n",
       "      <th>social_None_character_amount_x</th>\n",
       "      <th>social_0_character_amount_y</th>\n",
       "      <th>social_1_character_amount_y</th>\n",
       "      <th>social_2_character_amount_y</th>\n",
       "      <th>social_3_character_amount_y</th>\n",
       "      <th>social_None_character_amount_y</th>\n",
       "      <th>stage_direction_count</th>\n",
       "      <th>stage_direction_on_verses</th>\n",
       "    </tr>\n",
       "  </thead>\n",
       "  <tbody>\n",
       "    <tr>\n",
       "      <th>0</th>\n",
       "      <td>gillet-deniaise</td>\n",
       "      <td>1647</td>\n",
       "      <td>12</td>\n",
       "      <td>1931</td>\n",
       "      <td>935</td>\n",
       "      <td>33</td>\n",
       "      <td>323</td>\n",
       "      <td>&lt;TEI xmlns=\"http://www.tei-c.org/ns/1.0\" xml:l...</td>\n",
       "      <td>comedy</td>\n",
       "      <td>0</td>\n",
       "      <td>...</td>\n",
       "      <td>14</td>\n",
       "      <td>0</td>\n",
       "      <td>NaN</td>\n",
       "      <td>0</td>\n",
       "      <td>0</td>\n",
       "      <td>14</td>\n",
       "      <td>0</td>\n",
       "      <td>NaN</td>\n",
       "      <td>94</td>\n",
       "      <td>0.048679</td>\n",
       "    </tr>\n",
       "    <tr>\n",
       "      <th>1</th>\n",
       "      <td>quinault-comedie-sans-comedie</td>\n",
       "      <td>1655</td>\n",
       "      <td>32</td>\n",
       "      <td>1716</td>\n",
       "      <td>644</td>\n",
       "      <td>38</td>\n",
       "      <td>195</td>\n",
       "      <td>&lt;TEI xmlns=\"http://www.tei-c.org/ns/1.0\" xml:l...</td>\n",
       "      <td>comedy</td>\n",
       "      <td>0</td>\n",
       "      <td>...</td>\n",
       "      <td>63</td>\n",
       "      <td>28</td>\n",
       "      <td>NaN</td>\n",
       "      <td>0</td>\n",
       "      <td>17</td>\n",
       "      <td>63</td>\n",
       "      <td>28</td>\n",
       "      <td>NaN</td>\n",
       "      <td>68</td>\n",
       "      <td>0.039627</td>\n",
       "    </tr>\n",
       "    <tr>\n",
       "      <th>2</th>\n",
       "      <td>scarron-marquis-ridicule</td>\n",
       "      <td>1646</td>\n",
       "      <td>10</td>\n",
       "      <td>1656</td>\n",
       "      <td>637</td>\n",
       "      <td>24</td>\n",
       "      <td>247</td>\n",
       "      <td>&lt;TEI xmlns=\"http://www.tei-c.org/ns/1.0\" xml:l...</td>\n",
       "      <td>comedy</td>\n",
       "      <td>0</td>\n",
       "      <td>...</td>\n",
       "      <td>5</td>\n",
       "      <td>0</td>\n",
       "      <td>NaN</td>\n",
       "      <td>0</td>\n",
       "      <td>5</td>\n",
       "      <td>5</td>\n",
       "      <td>0</td>\n",
       "      <td>NaN</td>\n",
       "      <td>52</td>\n",
       "      <td>0.031401</td>\n",
       "    </tr>\n",
       "    <tr>\n",
       "      <th>3</th>\n",
       "      <td>donneau-de-vise-intrigues-de-la-loterie</td>\n",
       "      <td>1663</td>\n",
       "      <td>18</td>\n",
       "      <td>1010</td>\n",
       "      <td>559</td>\n",
       "      <td>37</td>\n",
       "      <td>250</td>\n",
       "      <td>&lt;TEI xmlns=\"http://www.tei-c.org/ns/1.0\" xml:l...</td>\n",
       "      <td>comedy</td>\n",
       "      <td>0</td>\n",
       "      <td>...</td>\n",
       "      <td>16</td>\n",
       "      <td>0</td>\n",
       "      <td>NaN</td>\n",
       "      <td>0</td>\n",
       "      <td>0</td>\n",
       "      <td>16</td>\n",
       "      <td>0</td>\n",
       "      <td>NaN</td>\n",
       "      <td>40</td>\n",
       "      <td>0.039604</td>\n",
       "    </tr>\n",
       "    <tr>\n",
       "      <th>4</th>\n",
       "      <td>chevalier-galants-ridicules</td>\n",
       "      <td>1672</td>\n",
       "      <td>8</td>\n",
       "      <td>673</td>\n",
       "      <td>220</td>\n",
       "      <td>16</td>\n",
       "      <td>19</td>\n",
       "      <td>&lt;TEI xmlns=\"http://www.tei-c.org/ns/1.0\" xml:l...</td>\n",
       "      <td>comedy</td>\n",
       "      <td>0</td>\n",
       "      <td>...</td>\n",
       "      <td>7</td>\n",
       "      <td>0</td>\n",
       "      <td>NaN</td>\n",
       "      <td>0</td>\n",
       "      <td>1</td>\n",
       "      <td>7</td>\n",
       "      <td>0</td>\n",
       "      <td>NaN</td>\n",
       "      <td>15</td>\n",
       "      <td>0.022288</td>\n",
       "    </tr>\n",
       "  </tbody>\n",
       "</table>\n",
       "<p>5 rows × 21 columns</p>\n",
       "</div>"
      ],
      "text/plain": [
       "                                      name  date  characters  verses  cues  \\\n",
       "0                          gillet-deniaise  1647          12    1931   935   \n",
       "1            quinault-comedie-sans-comedie  1655          32    1716   644   \n",
       "2                 scarron-marquis-ridicule  1646          10    1656   637   \n",
       "3  donneau-de-vise-intrigues-de-la-loterie  1663          18    1010   559   \n",
       "4              chevalier-galants-ridicules  1672           8     673   220   \n",
       "\n",
       "   scenes  breaking_verses                                                tei  \\\n",
       "0      33              323  <TEI xmlns=\"http://www.tei-c.org/ns/1.0\" xml:l...   \n",
       "1      38              195  <TEI xmlns=\"http://www.tei-c.org/ns/1.0\" xml:l...   \n",
       "2      24              247  <TEI xmlns=\"http://www.tei-c.org/ns/1.0\" xml:l...   \n",
       "3      37              250  <TEI xmlns=\"http://www.tei-c.org/ns/1.0\" xml:l...   \n",
       "4      16               19  <TEI xmlns=\"http://www.tei-c.org/ns/1.0\" xml:l...   \n",
       "\n",
       "    genre  social_0_character_amount_x  ...  social_2_character_amount_x  \\\n",
       "0  comedy                            0  ...                           14   \n",
       "1  comedy                            0  ...                           63   \n",
       "2  comedy                            0  ...                            5   \n",
       "3  comedy                            0  ...                           16   \n",
       "4  comedy                            0  ...                            7   \n",
       "\n",
       "   social_3_character_amount_x  social_None_character_amount_x  \\\n",
       "0                            0                             NaN   \n",
       "1                           28                             NaN   \n",
       "2                            0                             NaN   \n",
       "3                            0                             NaN   \n",
       "4                            0                             NaN   \n",
       "\n",
       "   social_0_character_amount_y  social_1_character_amount_y  \\\n",
       "0                            0                            0   \n",
       "1                            0                           17   \n",
       "2                            0                            5   \n",
       "3                            0                            0   \n",
       "4                            0                            1   \n",
       "\n",
       "   social_2_character_amount_y  social_3_character_amount_y  \\\n",
       "0                           14                            0   \n",
       "1                           63                           28   \n",
       "2                            5                            0   \n",
       "3                           16                            0   \n",
       "4                            7                            0   \n",
       "\n",
       "   social_None_character_amount_y  stage_direction_count  \\\n",
       "0                             NaN                     94   \n",
       "1                             NaN                     68   \n",
       "2                             NaN                     52   \n",
       "3                             NaN                     40   \n",
       "4                             NaN                     15   \n",
       "\n",
       "   stage_direction_on_verses  \n",
       "0                   0.048679  \n",
       "1                   0.039627  \n",
       "2                   0.031401  \n",
       "3                   0.039604  \n",
       "4                   0.022288  \n",
       "\n",
       "[5 rows x 21 columns]"
      ]
     },
     "execution_count": 300,
     "metadata": {},
     "output_type": "execute_result"
    }
   ],
   "source": [
    "df_plays_with_stage.head()"
   ]
  },
  {
   "cell_type": "code",
   "execution_count": 301,
   "metadata": {},
   "outputs": [
    {
     "data": {
      "text/plain": [
       "genre\n",
       "comedy     0.027643\n",
       "tragedy    0.008903\n",
       "Name: stage_direction_on_verses, dtype: float64"
      ]
     },
     "execution_count": 301,
     "metadata": {},
     "output_type": "execute_result"
    }
   ],
   "source": [
    "df_plays_with_stage.groupby('genre').mean()['stage_direction_on_verses']"
   ]
  },
  {
   "cell_type": "code",
   "execution_count": 308,
   "metadata": {},
   "outputs": [],
   "source": [
    "df_plays['mobility_rhythm'] = df_plays['scenes'] / df_plays['verses'] * 10000"
   ]
  },
  {
   "cell_type": "code",
   "execution_count": 309,
   "metadata": {},
   "outputs": [
    {
     "data": {
      "text/plain": [
       "genre\n",
       "comedy     195.426597\n",
       "tragedy    159.092222\n",
       "Name: mobility_rhythm, dtype: float64"
      ]
     },
     "execution_count": 309,
     "metadata": {},
     "output_type": "execute_result"
    }
   ],
   "source": [
    "df_plays.groupby('genre').mean()['mobility_rhythm']"
   ]
  }
 ],
 "metadata": {
  "interpreter": {
   "hash": "40d3a090f54c6569ab1632332b64b2c03c39dcf918b08424e98f38b5ae0af88f"
  },
  "kernelspec": {
   "display_name": "Python 3 (ipykernel)",
   "language": "python",
   "name": "python3"
  },
  "language_info": {
   "codemirror_mode": {
    "name": "ipython",
    "version": 3
   },
   "file_extension": ".py",
   "mimetype": "text/x-python",
   "name": "python",
   "nbconvert_exporter": "python",
   "pygments_lexer": "ipython3",
   "version": "3.7.6"
  }
 },
 "nbformat": 4,
 "nbformat_minor": 2
}
