{
 "cells": [
  {
   "cell_type": "code",
   "execution_count": 4,
   "metadata": {},
   "outputs": [],
   "source": [
    "colnames = ['topic', 'word', 'weight']"
   ]
  },
  {
   "cell_type": "code",
   "execution_count": 5,
   "metadata": {},
   "outputs": [],
   "source": [
    "topics_df_30 = pd.read_csv('postprocessed_topics_30_full.txt', sep='\\t', names=colnames)"
   ]
  },
  {
   "cell_type": "code",
   "execution_count": 6,
   "metadata": {},
   "outputs": [],
   "source": [
    "topics_df_30_dict = {row[0]: {} for row in topics_df_30.values}"
   ]
  },
  {
   "cell_type": "code",
   "execution_count": 7,
   "metadata": {},
   "outputs": [
    {
     "data": {
      "text/html": [
       "<div>\n",
       "<style scoped>\n",
       "    .dataframe tbody tr th:only-of-type {\n",
       "        vertical-align: middle;\n",
       "    }\n",
       "\n",
       "    .dataframe tbody tr th {\n",
       "        vertical-align: top;\n",
       "    }\n",
       "\n",
       "    .dataframe thead th {\n",
       "        text-align: right;\n",
       "    }\n",
       "</style>\n",
       "<table border=\"1\" class=\"dataframe\">\n",
       "  <thead>\n",
       "    <tr style=\"text-align: right;\">\n",
       "      <th></th>\n",
       "      <th>topic</th>\n",
       "      <th>word</th>\n",
       "      <th>weight</th>\n",
       "    </tr>\n",
       "  </thead>\n",
       "  <tbody>\n",
       "    <tr>\n",
       "      <th>0</th>\n",
       "      <td>0</td>\n",
       "      <td>aimer</td>\n",
       "      <td>0.01</td>\n",
       "    </tr>\n",
       "    <tr>\n",
       "      <th>1</th>\n",
       "      <td>0</td>\n",
       "      <td>croire</td>\n",
       "      <td>0.01</td>\n",
       "    </tr>\n",
       "    <tr>\n",
       "      <th>2</th>\n",
       "      <td>0</td>\n",
       "      <td>armer</td>\n",
       "      <td>0.01</td>\n",
       "    </tr>\n",
       "    <tr>\n",
       "      <th>3</th>\n",
       "      <td>0</td>\n",
       "      <td>vue</td>\n",
       "      <td>0.01</td>\n",
       "    </tr>\n",
       "    <tr>\n",
       "      <th>4</th>\n",
       "      <td>0</td>\n",
       "      <td>prendre</td>\n",
       "      <td>0.01</td>\n",
       "    </tr>\n",
       "    <tr>\n",
       "      <th>...</th>\n",
       "      <td>...</td>\n",
       "      <td>...</td>\n",
       "      <td>...</td>\n",
       "    </tr>\n",
       "    <tr>\n",
       "      <th>4860</th>\n",
       "      <td>0</td>\n",
       "      <td>emmener</td>\n",
       "      <td>0.01</td>\n",
       "    </tr>\n",
       "    <tr>\n",
       "      <th>4861</th>\n",
       "      <td>0</td>\n",
       "      <td>ongle</td>\n",
       "      <td>0.01</td>\n",
       "    </tr>\n",
       "    <tr>\n",
       "      <th>4862</th>\n",
       "      <td>0</td>\n",
       "      <td>griffe</td>\n",
       "      <td>0.01</td>\n",
       "    </tr>\n",
       "    <tr>\n",
       "      <th>4863</th>\n",
       "      <td>0</td>\n",
       "      <td>augurer</td>\n",
       "      <td>0.01</td>\n",
       "    </tr>\n",
       "    <tr>\n",
       "      <th>4864</th>\n",
       "      <td>0</td>\n",
       "      <td>alléguer</td>\n",
       "      <td>0.01</td>\n",
       "    </tr>\n",
       "  </tbody>\n",
       "</table>\n",
       "<p>4865 rows × 3 columns</p>\n",
       "</div>"
      ],
      "text/plain": [
       "      topic      word  weight\n",
       "0         0     aimer    0.01\n",
       "1         0    croire    0.01\n",
       "2         0     armer    0.01\n",
       "3         0       vue    0.01\n",
       "4         0   prendre    0.01\n",
       "...     ...       ...     ...\n",
       "4860      0   emmener    0.01\n",
       "4861      0     ongle    0.01\n",
       "4862      0    griffe    0.01\n",
       "4863      0   augurer    0.01\n",
       "4864      0  alléguer    0.01\n",
       "\n",
       "[4865 rows x 3 columns]"
      ]
     },
     "execution_count": 7,
     "metadata": {},
     "output_type": "execute_result"
    }
   ],
   "source": [
    "topics_df_30[topics_df_30.topic == 0]"
   ]
  },
  {
   "cell_type": "code",
   "execution_count": 120,
   "metadata": {},
   "outputs": [],
   "source": [
    "for topic in topics_df_30_dict:\n",
    "    topics_df_30_dict[topic] = {row[1]: row[2] for row in topics_df_30[topics_df_30.topic == topic].values if row[2] > 0.01}"
   ]
  },
  {
   "cell_type": "code",
   "execution_count": 118,
   "metadata": {},
   "outputs": [],
   "source": [
    "from tqdm import tqdm\n",
    "from PIL import Image\n",
    "from wordcloud import WordCloud\n",
    "import matplotlib.pyplot as plt"
   ]
  },
  {
   "cell_type": "code",
   "execution_count": 125,
   "metadata": {},
   "outputs": [
    {
     "name": "stderr",
     "output_type": "stream",
     "text": [
      "100%|██████████████████████████████████████████████████████████████████████████████████████████████████████████████████████████████████████████████████████████████████████| 30/30 [02:30<00:00,  5.03s/it]\n"
     ]
    }
   ],
   "source": [
    "for key in tqdm(topics_df_30_dict):\n",
    "    wc = WordCloud(background_color='white', width = 1024, height=1024, colormap='tab20b')\n",
    "    wc.fit_words(topics_df_30_dict[key])\n",
    "    wc.to_file(f'wordclouds/30_{key}.png')"
   ]
  },
  {
   "cell_type": "markdown",
   "metadata": {},
   "source": [
    "__Topics are available in the wordclouds folder.__"
   ]
  },
  {
   "cell_type": "code",
   "execution_count": 122,
   "metadata": {},
   "outputs": [],
   "source": [
    "wc = WordCloud(background_color='white', width = 1024, height=1024, colormap='tab20b')"
   ]
  },
  {
   "cell_type": "code",
   "execution_count": 123,
   "metadata": {},
   "outputs": [
    {
     "data": {
      "text/plain": [
       "<wordcloud.wordcloud.WordCloud at 0x7fc2aca80c50>"
      ]
     },
     "execution_count": 123,
     "metadata": {},
     "output_type": "execute_result"
    }
   ],
   "source": [
    "wc.fit_words(topics_df_30_dict[0])"
   ]
  },
  {
   "cell_type": "code",
   "execution_count": 121,
   "metadata": {},
   "outputs": [
    {
     "data": {
      "text/plain": [
       "{'amant': 20.01,\n",
       " 'vanter': 5.01,\n",
       " 'grand': 68.01,\n",
       " 'sacré': 1.01,\n",
       " 'roi': 61.01,\n",
       " 'assassin': 22.01,\n",
       " 'reine': 40.01,\n",
       " 'fille': 18.01,\n",
       " 'mourir': 112.01,\n",
       " 'rencontrer': 5.01,\n",
       " 'proche': 7.01,\n",
       " 'montrer': 1.01,\n",
       " 'ciel': 91.01,\n",
       " 'sacrifice': 19.01,\n",
       " 'faire': 59.01,\n",
       " 'public': 1.01,\n",
       " 'comble': 3.01,\n",
       " 'spectacle': 1.01,\n",
       " 'vivre': 57.01,\n",
       " 'trépas': 44.01,\n",
       " 'mort': 56.01,\n",
       " 'dieu': 84.01,\n",
       " 'malheur': 31.01,\n",
       " 'sauver': 31.01,\n",
       " 'gloire': 1.01,\n",
       " 'distinguer': 4.01,\n",
       " 'innocent': 27.01,\n",
       " 'second': 16.01,\n",
       " 'œil': 33.01,\n",
       " 'fin': 12.01,\n",
       " 'victime': 11.01,\n",
       " 'assurément': 1.01,\n",
       " 'zèle': 3.01,\n",
       " 'aussitôt': 3.01,\n",
       " 'fard': 7.01,\n",
       " 'effacer': 10.01,\n",
       " 'remplir': 1.01,\n",
       " 'héros': 1.01,\n",
       " 'ouvrir': 9.01,\n",
       " 'déposer': 2.01,\n",
       " 'lustre': 7.01,\n",
       " 'épandre': 2.01,\n",
       " 'sépulture': 3.01,\n",
       " 'près': 7.01,\n",
       " 'commencer': 1.01,\n",
       " 'mère': 1.01,\n",
       " 'sort': 37.01,\n",
       " 'hier': 2.01,\n",
       " 'sœur': 12.01,\n",
       " 'visage': 39.01,\n",
       " 'pâlir': 1.01,\n",
       " 'revoir': 9.01,\n",
       " 'élever': 5.01,\n",
       " 'ombre': 31.01,\n",
       " 'combattant': 3.01,\n",
       " 'renfermer': 2.01,\n",
       " 'avouer': 15.01,\n",
       " 'plein': 5.01,\n",
       " 'souhait': 6.01,\n",
       " 'vertueux': 1.01,\n",
       " 'injuste': 5.01,\n",
       " 'produire': 3.01,\n",
       " 'jamais': 7.01,\n",
       " 'vieillard': 6.01,\n",
       " 'séparer': 15.01,\n",
       " 'davantage': 21.01,\n",
       " 'révolter': 2.01,\n",
       " 'prêter': 2.01,\n",
       " 'abuser': 2.01,\n",
       " 'vif': 1.01,\n",
       " 'dessus': 2.01,\n",
       " 'funeste': 41.01,\n",
       " 'clair': 3.01,\n",
       " 'affreux': 17.01,\n",
       " 'comprendre': 16.01,\n",
       " 'ignominie': 8.01,\n",
       " 'peste': 14.01,\n",
       " 'race': 18.01,\n",
       " 'vigueur': 2.01,\n",
       " 'brigand': 15.01,\n",
       " 'offrir': 34.01,\n",
       " 'emprunter': 7.01,\n",
       " 'diffamer': 2.01,\n",
       " 'voyage': 3.01,\n",
       " 'aide': 9.01,\n",
       " 'ramasser': 6.01,\n",
       " 'débris': 1.01,\n",
       " 'propice': 11.01,\n",
       " 'aspect': 15.01,\n",
       " 'causer': 12.01,\n",
       " 'secondant': 1.01,\n",
       " 'chaume': 1.01,\n",
       " 'altier': 2.01,\n",
       " 'âge': 18.01,\n",
       " 'partage': 11.01,\n",
       " 'soulagement': 7.01,\n",
       " 'sortie': 4.01,\n",
       " 'traverser': 2.01,\n",
       " 'expirer': 7.01,\n",
       " 'contagieux': 1.01,\n",
       " 'douloureux': 2.01,\n",
       " 'aboi': 7.01,\n",
       " 'sabin': 1.01,\n",
       " 'fatalité': 1.01,\n",
       " 'décier': 2.01,\n",
       " 'mutiner': 11.01,\n",
       " 'marier': 1.01,\n",
       " 'calamité': 1.01,\n",
       " 'sorcier': 2.01,\n",
       " 'douteux': 21.01,\n",
       " 'mourant': 5.01,\n",
       " 'nager': 3.01,\n",
       " 'salut': 5.01,\n",
       " 'renverser': 1.01,\n",
       " 'augure': 5.01,\n",
       " 'disputer': 1.01,\n",
       " 'pâle': 8.01,\n",
       " 'signer': 1.01,\n",
       " 'déroute': 1.01,\n",
       " 'convaincre': 2.01,\n",
       " 'interprète': 6.01,\n",
       " 'adorable': 11.01,\n",
       " 'favoriser': 5.01,\n",
       " 'prédire': 11.01,\n",
       " 'lambeau': 1.01,\n",
       " 'contribuer': 1.01,\n",
       " 'dégoût': 4.01,\n",
       " 'endormi': 1.01,\n",
       " 'comparable': 2.01,\n",
       " 'déférer': 1.01,\n",
       " 'roc': 3.01,\n",
       " 'pâleur': 5.01,\n",
       " 'obscur': 11.01,\n",
       " 'sénat': 1.01,\n",
       " 'ministre': 2.01,\n",
       " 'chanceler': 1.01,\n",
       " 'selon': 1.01,\n",
       " 'aviser': 3.01,\n",
       " 'anxiété': 1.01,\n",
       " 'ruisseau': 1.01,\n",
       " 'terrible': 6.01,\n",
       " 'offrande': 2.01,\n",
       " 'oracle': 23.01,\n",
       " 'comparer': 6.01,\n",
       " 'fratricide': 1.01,\n",
       " 'applaudir': 4.01,\n",
       " 'mont': 1.01,\n",
       " 'vapeur': 4.01,\n",
       " 'argent': 1.01,\n",
       " 'voleur': 3.01,\n",
       " 'canal': 3.01,\n",
       " 'dégoûter': 3.01,\n",
       " 'énigme': 8.01,\n",
       " 'truchement': 6.01,\n",
       " 'satellite': 2.01,\n",
       " 'empreindre': 4.01,\n",
       " 'poupe': 1.01,\n",
       " 'dom': 1.01,\n",
       " 'ravage': 5.01,\n",
       " 'exiler': 4.01,\n",
       " 'démarche': 2.01,\n",
       " 'respectueux': 1.01,\n",
       " 'serre': 1.01,\n",
       " 'perçant': 1.01,\n",
       " 'hormis': 2.01,\n",
       " 'mouvoir': 2.01,\n",
       " 'large': 2.01,\n",
       " 'saoûle': 1.01,\n",
       " 'libertin': 1.01,\n",
       " 'recommencer': 1.01,\n",
       " 'saisi': 1.01,\n",
       " 'larmes': 1.01,\n",
       " 'branler': 1.01,\n",
       " 'favorisé': 1.01,\n",
       " 'cotret': 1.01,\n",
       " 'louche': 1.01,\n",
       " 'tué': 3.01,\n",
       " 'endormie': 1.01,\n",
       " 'lenteur': 2.01,\n",
       " 'dircé': 19.01,\n",
       " 'aémon': 2.01,\n",
       " 'thésée': 3.01,\n",
       " 'delphes': 3.01,\n",
       " 'prédiction': 2.01,\n",
       " 'champêtre': 2.01,\n",
       " 'enveloppe': 1.01,\n",
       " 'désuni': 1.01,\n",
       " 'sauve': 1.01,\n",
       " 'minotaure': 1.01,\n",
       " 'dymas': 4.01,\n",
       " 'désolé': 2.01,\n",
       " 'aemon': 4.01,\n",
       " 'oedipe': 3.01,\n",
       " 'devin': 8.01,\n",
       " 'offrant': 1.01,\n",
       " 'admiration': 1.01,\n",
       " 'intimide': 1.01,\n",
       " 'arar': 2.01,\n",
       " 'théodoric': 2.01,\n",
       " 'épaissir': 1.01,\n",
       " 'élancement': 1.01,\n",
       " 'repriser': 1.01,\n",
       " 'camper': 2.01,\n",
       " 'athènes': 2.01,\n",
       " 'débarrasser': 1.01,\n",
       " 'accablant': 1.01,\n",
       " 'prestige': 1.01,\n",
       " 'dicter': 1.01,\n",
       " 'annoncer': 1.01,\n",
       " 'vierge': 1.01,\n",
       " 'orode': 1.01}"
      ]
     },
     "execution_count": 121,
     "metadata": {},
     "output_type": "execute_result"
    }
   ],
   "source": [
    "topics_df_30_dict[0]"
   ]
  },
  {
   "cell_type": "code",
   "execution_count": 46,
   "metadata": {},
   "outputs": [],
   "source": [
    "topics_df_30_topic_0 = topics_df_30[topics_df_30['topic'] == 0][['weight100', 'word', 'color', 'url']]"
   ]
  },
  {
   "cell_type": "code",
   "execution_count": 48,
   "metadata": {},
   "outputs": [],
   "source": [
    "topics_df_30_topic_0[topics_df_30_topic_0['weight100'] > 1].to_csv('postprocessed_topics_30_full_0.csv', header=False, index=False)"
   ]
  },
  {
   "cell_type": "markdown",
   "metadata": {},
   "source": [
    "# Topic distribution"
   ]
  },
  {
   "cell_type": "code",
   "execution_count": 18,
   "metadata": {},
   "outputs": [],
   "source": [
    "df_topics = pd.read_csv('output-doc-topics.txt', sep='\\t', names=['id', 'filename', *[f'topic_{i}' for i in range(30)]])"
   ]
  },
  {
   "cell_type": "code",
   "execution_count": 19,
   "metadata": {},
   "outputs": [],
   "source": [
    "df_topics['genre'] = df_topics.filename.apply(lambda x: x.split('/')[-2])"
   ]
  },
  {
   "cell_type": "code",
   "execution_count": 22,
   "metadata": {},
   "outputs": [
    {
     "data": {
      "text/html": [
       "<div>\n",
       "<style scoped>\n",
       "    .dataframe tbody tr th:only-of-type {\n",
       "        vertical-align: middle;\n",
       "    }\n",
       "\n",
       "    .dataframe tbody tr th {\n",
       "        vertical-align: top;\n",
       "    }\n",
       "\n",
       "    .dataframe thead th {\n",
       "        text-align: right;\n",
       "    }\n",
       "</style>\n",
       "<table border=\"1\" class=\"dataframe\">\n",
       "  <thead>\n",
       "    <tr style=\"text-align: right;\">\n",
       "      <th></th>\n",
       "      <th>id</th>\n",
       "      <th>filename</th>\n",
       "      <th>topic_0</th>\n",
       "      <th>topic_1</th>\n",
       "      <th>topic_2</th>\n",
       "      <th>topic_3</th>\n",
       "      <th>topic_4</th>\n",
       "      <th>topic_5</th>\n",
       "      <th>topic_6</th>\n",
       "      <th>topic_7</th>\n",
       "      <th>...</th>\n",
       "      <th>topic_21</th>\n",
       "      <th>topic_22</th>\n",
       "      <th>topic_23</th>\n",
       "      <th>topic_24</th>\n",
       "      <th>topic_25</th>\n",
       "      <th>topic_26</th>\n",
       "      <th>topic_27</th>\n",
       "      <th>topic_28</th>\n",
       "      <th>topic_29</th>\n",
       "      <th>genre</th>\n",
       "    </tr>\n",
       "  </thead>\n",
       "  <tbody>\n",
       "    <tr>\n",
       "      <th>0</th>\n",
       "      <td>0</td>\n",
       "      <td>file:/Users/fixed/Downloads/Mallet-202108/post...</td>\n",
       "      <td>0.001587</td>\n",
       "      <td>0.001587</td>\n",
       "      <td>0.106349</td>\n",
       "      <td>0.001587</td>\n",
       "      <td>0.030159</td>\n",
       "      <td>0.058730</td>\n",
       "      <td>0.001587</td>\n",
       "      <td>0.011111</td>\n",
       "      <td>...</td>\n",
       "      <td>0.001587</td>\n",
       "      <td>0.058730</td>\n",
       "      <td>0.001587</td>\n",
       "      <td>0.020635</td>\n",
       "      <td>0.020635</td>\n",
       "      <td>0.068254</td>\n",
       "      <td>0.001587</td>\n",
       "      <td>0.020635</td>\n",
       "      <td>0.011111</td>\n",
       "      <td>tragedy</td>\n",
       "    </tr>\n",
       "    <tr>\n",
       "      <th>1</th>\n",
       "      <td>1</td>\n",
       "      <td>file:/Users/fixed/Downloads/Mallet-202108/post...</td>\n",
       "      <td>0.006141</td>\n",
       "      <td>0.000143</td>\n",
       "      <td>0.120965</td>\n",
       "      <td>0.086690</td>\n",
       "      <td>0.043845</td>\n",
       "      <td>0.041274</td>\n",
       "      <td>0.000143</td>\n",
       "      <td>0.000143</td>\n",
       "      <td>...</td>\n",
       "      <td>0.001857</td>\n",
       "      <td>0.006998</td>\n",
       "      <td>0.027564</td>\n",
       "      <td>0.015567</td>\n",
       "      <td>0.207512</td>\n",
       "      <td>0.000143</td>\n",
       "      <td>0.042988</td>\n",
       "      <td>0.001000</td>\n",
       "      <td>0.000143</td>\n",
       "      <td>tragedy</td>\n",
       "    </tr>\n",
       "    <tr>\n",
       "      <th>2</th>\n",
       "      <td>2</td>\n",
       "      <td>file:/Users/fixed/Downloads/Mallet-202108/post...</td>\n",
       "      <td>0.002344</td>\n",
       "      <td>0.000123</td>\n",
       "      <td>0.162226</td>\n",
       "      <td>0.000864</td>\n",
       "      <td>0.147422</td>\n",
       "      <td>0.016408</td>\n",
       "      <td>0.000864</td>\n",
       "      <td>0.000123</td>\n",
       "      <td>...</td>\n",
       "      <td>0.014187</td>\n",
       "      <td>0.012707</td>\n",
       "      <td>0.006785</td>\n",
       "      <td>0.000123</td>\n",
       "      <td>0.144461</td>\n",
       "      <td>0.000123</td>\n",
       "      <td>0.000123</td>\n",
       "      <td>0.000123</td>\n",
       "      <td>0.059339</td>\n",
       "      <td>tragedy</td>\n",
       "    </tr>\n",
       "    <tr>\n",
       "      <th>3</th>\n",
       "      <td>3</td>\n",
       "      <td>file:/Users/fixed/Downloads/Mallet-202108/post...</td>\n",
       "      <td>0.000201</td>\n",
       "      <td>0.000201</td>\n",
       "      <td>0.148752</td>\n",
       "      <td>0.000201</td>\n",
       "      <td>0.042472</td>\n",
       "      <td>0.054549</td>\n",
       "      <td>0.000201</td>\n",
       "      <td>0.000201</td>\n",
       "      <td>...</td>\n",
       "      <td>0.013486</td>\n",
       "      <td>0.000201</td>\n",
       "      <td>0.014694</td>\n",
       "      <td>0.000201</td>\n",
       "      <td>0.145129</td>\n",
       "      <td>0.008655</td>\n",
       "      <td>0.001409</td>\n",
       "      <td>0.017110</td>\n",
       "      <td>0.000201</td>\n",
       "      <td>tragedy</td>\n",
       "    </tr>\n",
       "    <tr>\n",
       "      <th>4</th>\n",
       "      <td>4</td>\n",
       "      <td>file:/Users/fixed/Downloads/Mallet-202108/post...</td>\n",
       "      <td>0.000275</td>\n",
       "      <td>0.000275</td>\n",
       "      <td>0.148545</td>\n",
       "      <td>0.000275</td>\n",
       "      <td>0.000275</td>\n",
       "      <td>0.072762</td>\n",
       "      <td>0.000275</td>\n",
       "      <td>0.013454</td>\n",
       "      <td>...</td>\n",
       "      <td>0.038166</td>\n",
       "      <td>0.038166</td>\n",
       "      <td>0.000275</td>\n",
       "      <td>0.000275</td>\n",
       "      <td>0.211148</td>\n",
       "      <td>0.015102</td>\n",
       "      <td>0.000275</td>\n",
       "      <td>0.003569</td>\n",
       "      <td>0.000275</td>\n",
       "      <td>tragedy</td>\n",
       "    </tr>\n",
       "  </tbody>\n",
       "</table>\n",
       "<p>5 rows × 33 columns</p>\n",
       "</div>"
      ],
      "text/plain": [
       "   id                                           filename   topic_0   topic_1  \\\n",
       "0   0  file:/Users/fixed/Downloads/Mallet-202108/post...  0.001587  0.001587   \n",
       "1   1  file:/Users/fixed/Downloads/Mallet-202108/post...  0.006141  0.000143   \n",
       "2   2  file:/Users/fixed/Downloads/Mallet-202108/post...  0.002344  0.000123   \n",
       "3   3  file:/Users/fixed/Downloads/Mallet-202108/post...  0.000201  0.000201   \n",
       "4   4  file:/Users/fixed/Downloads/Mallet-202108/post...  0.000275  0.000275   \n",
       "\n",
       "    topic_2   topic_3   topic_4   topic_5   topic_6   topic_7  ...  topic_21  \\\n",
       "0  0.106349  0.001587  0.030159  0.058730  0.001587  0.011111  ...  0.001587   \n",
       "1  0.120965  0.086690  0.043845  0.041274  0.000143  0.000143  ...  0.001857   \n",
       "2  0.162226  0.000864  0.147422  0.016408  0.000864  0.000123  ...  0.014187   \n",
       "3  0.148752  0.000201  0.042472  0.054549  0.000201  0.000201  ...  0.013486   \n",
       "4  0.148545  0.000275  0.000275  0.072762  0.000275  0.013454  ...  0.038166   \n",
       "\n",
       "   topic_22  topic_23  topic_24  topic_25  topic_26  topic_27  topic_28  \\\n",
       "0  0.058730  0.001587  0.020635  0.020635  0.068254  0.001587  0.020635   \n",
       "1  0.006998  0.027564  0.015567  0.207512  0.000143  0.042988  0.001000   \n",
       "2  0.012707  0.006785  0.000123  0.144461  0.000123  0.000123  0.000123   \n",
       "3  0.000201  0.014694  0.000201  0.145129  0.008655  0.001409  0.017110   \n",
       "4  0.038166  0.000275  0.000275  0.211148  0.015102  0.000275  0.003569   \n",
       "\n",
       "   topic_29    genre  \n",
       "0  0.011111  tragedy  \n",
       "1  0.000143  tragedy  \n",
       "2  0.059339  tragedy  \n",
       "3  0.000201  tragedy  \n",
       "4  0.000275  tragedy  \n",
       "\n",
       "[5 rows x 33 columns]"
      ]
     },
     "execution_count": 22,
     "metadata": {},
     "output_type": "execute_result"
    }
   ],
   "source": [
    "df_topics.head()"
   ]
  },
  {
   "cell_type": "code",
   "execution_count": 23,
   "metadata": {},
   "outputs": [],
   "source": [
    "df_plays = pd.read_csv('../plays_data.tsv', sep='\\t')"
   ]
  },
  {
   "cell_type": "code",
   "execution_count": 41,
   "metadata": {},
   "outputs": [],
   "source": [
    "comedy_topic_dist = df_topics.groupby('genre').mean().values[0][1:]"
   ]
  },
  {
   "cell_type": "code",
   "execution_count": 42,
   "metadata": {},
   "outputs": [],
   "source": [
    "tragedy_topic_dist = df_topics.groupby('genre').mean().values[1][1:]"
   ]
  },
  {
   "cell_type": "code",
   "execution_count": 43,
   "metadata": {},
   "outputs": [],
   "source": [
    "tragedy4_topic_dist = df_topics.groupby('genre').mean().values[2][1:]"
   ]
  },
  {
   "cell_type": "code",
   "execution_count": 51,
   "metadata": {},
   "outputs": [],
   "source": [
    "import matplotlib.pyplot as plt\n",
    "from matplotlib.pyplot import figure\n",
    "import numpy as np"
   ]
  },
  {
   "cell_type": "code",
   "execution_count": 95,
   "metadata": {},
   "outputs": [
    {
     "data": {
      "image/png": "[encoded data removed]",
      "text/plain": [
       "<Figure size 1728x720 with 1 Axes>"
      ]
     },
     "metadata": {
      "needs_background": "light"
     },
     "output_type": "display_data"
    }
   ],
   "source": [
    "figure(figsize=(24,10))\n",
    "\n",
    "X_axis = np.arange(len(comedy_topic_dist))\n",
    "  \n",
    "plt.bar(X_axis - 0.2, comedy_topic_dist, 0.2, label = 'Comedies', color='firebrick', edgecolor='black')\n",
    "plt.bar(X_axis, tragedy_topic_dist, 0.2, label = 'Tragedies', color='darkgreen', edgecolor='black')\n",
    "plt.bar(X_axis + 0.2, tragedy4_topic_dist, 0.2, label = 'Tragedies (4)', color='steelblue', edgecolor='black')\n",
    "\n",
    "plt.xticks(X_axis, list(range(30)))\n",
    "plt.xlabel(\"Topics\")\n",
    "plt.ylabel(\"Weight\")\n",
    "plt.title(\"Topic distribution among genres, Corneille\")\n",
    "plt.legend()\n",
    "plt.show()"
   ]
  },
  {
   "cell_type": "code",
   "execution_count": 66,
   "metadata": {},
   "outputs": [],
   "source": [
    "tragedy_mean_topic_dist = (tragedy_topic_dist + tragedy4_topic_dist) / 2"
   ]
  },
  {
   "cell_type": "code",
   "execution_count": 85,
   "metadata": {
    "scrolled": false
   },
   "outputs": [
    {
     "data": {
      "image/png": "[encoded data removed]",
      "text/plain": [
       "<Figure size 1728x720 with 1 Axes>"
      ]
     },
     "metadata": {
      "needs_background": "light"
     },
     "output_type": "display_data"
    }
   ],
   "source": [
    "figure(figsize=(24,10))\n",
    "\n",
    "X_axis = np.arange(len(comedy_topic_dist))\n",
    "  \n",
    "plt.bar(X_axis - 0.2, comedy_topic_dist, 0.4, label = 'Comedies', color='firebrick', edgecolor='black')\n",
    "plt.bar(X_axis + 0.2, tragedy_topic_dist, 0.4, label = 'Tragedies', color='darkgreen', edgecolor='black')\n",
    "\n",
    "plt.xticks(X_axis, list(range(30)))\n",
    "plt.xlabel(\"Topics\")\n",
    "plt.ylabel(\"Weight\")\n",
    "plt.title(\"Topic distribution among genres, Corneille\")\n",
    "plt.legend()\n",
    "plt.show()"
   ]
  },
  {
   "cell_type": "code",
   "execution_count": 81,
   "metadata": {},
   "outputs": [
    {
     "data": {
      "text/plain": [
       "array([19, 27, 16,  9])"
      ]
     },
     "execution_count": 81,
     "metadata": {},
     "output_type": "execute_result"
    }
   ],
   "source": [
    "np.argsort(comedy_topic_dist / tragedy_topic_dist)[:4]"
   ]
  },
  {
   "cell_type": "code",
   "execution_count": 109,
   "metadata": {},
   "outputs": [
    {
     "data": {
      "text/plain": [
       "array([26, 13, 23, 24])"
      ]
     },
     "execution_count": 109,
     "metadata": {},
     "output_type": "execute_result"
    }
   ],
   "source": [
    "np.argsort(comedy_topic_dist / tragedy_topic_dist)[-4:][::-1]"
   ]
  },
  {
   "cell_type": "code",
   "execution_count": 130,
   "metadata": {},
   "outputs": [
    {
     "data": {
      "text/plain": [
       "2.0782428848981516"
      ]
     },
     "execution_count": 130,
     "metadata": {},
     "output_type": "execute_result"
    }
   ],
   "source": [
    "(tragedy_topic_dist / comedy_topic_dist)[0]"
   ]
  },
  {
   "cell_type": "code",
   "execution_count": 126,
   "metadata": {},
   "outputs": [
    {
     "data": {
      "text/plain": [
       "3.972391766627021"
      ]
     },
     "execution_count": 126,
     "metadata": {},
     "output_type": "execute_result"
    }
   ],
   "source": [
    "(comedy_topic_dist / tragedy_topic_dist)[23]"
   ]
  },
  {
   "cell_type": "code",
   "execution_count": 108,
   "metadata": {},
   "outputs": [
    {
     "data": {
      "text/plain": [
       "3.972391766627021"
      ]
     },
     "execution_count": 108,
     "metadata": {},
     "output_type": "execute_result"
    }
   ],
   "source": [
    "(comedy_topic_dist / tragedy_topic_dist)[23]"
   ]
  }
 ],
 "metadata": {
  "interpreter": {
   "hash": "40d3a090f54c6569ab1632332b64b2c03c39dcf918b08424e98f38b5ae0af88f"
  },
  "kernelspec": {
   "display_name": "Python 3 (ipykernel)",
   "language": "python",
   "name": "python3"
  },
  "language_info": {
   "codemirror_mode": {
    "name": "ipython",
    "version": 3
   },
   "file_extension": ".py",
   "mimetype": "text/x-python",
   "name": "python",
   "nbconvert_exporter": "python",
   "pygments_lexer": "ipython3",
   "version": "3.7.6"
  }
 },
 "nbformat": 4,
 "nbformat_minor": 2
}
