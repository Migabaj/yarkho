{
 "cells": [
  {
   "cell_type": "code",
   "execution_count": 1,
   "metadata": {},
   "outputs": [],
   "source": [
    "from collections import Counter\n",
    "from bs4 import BeautifulSoup, Comment\n",
    "from urllib import request\n",
    "from pprint import pprint\n",
    "from pathlib import Path\n",
    "from typing import List\n",
    "from tqdm import tqdm\n",
    "import matplotlib.pyplot as plt\n",
    "import pandas as pd\n",
    "import numpy as np\n",
    "import unidecode\n",
    "import requests\n",
    "import json\n",
    "import re\n",
    "import os\n",
    "\n",
    "dracor_api = \"https://dracor.org/api\""
   ]
  },
  {
   "cell_type": "code",
   "execution_count": 2,
   "metadata": {},
   "outputs": [],
   "source": [
    "def get_dracor(corpus, play=None):\n",
    "    url = dracor_api + \"/corpora/\" + corpus\n",
    "    if play is not None:\n",
    "        url = url + \"/play/\" + play + \"/tei\"\n",
    "    with request.urlopen(url) as req:\n",
    "        text = req.read().decode()\n",
    "        if play is None:\n",
    "            return json.loads(text)\n",
    "        return text"
   ]
  },
  {
   "cell_type": "code",
   "execution_count": null,
   "metadata": {},
   "outputs": [],
   "source": [
    "plays_df = pd.DataFrame({'name': names, 'text': texts, 'author': target})"
   ]
  },
  {
   "cell_type": "code",
   "execution_count": null,
   "metadata": {
    "scrolled": true
   },
   "outputs": [],
   "source": [
    "plays_df"
   ]
  },
  {
   "cell_type": "code",
   "execution_count": null,
   "metadata": {},
   "outputs": [],
   "source": [
    "# m\n",
    "plain_texts = {}\n",
    "for playname in names:\n",
    "    plaintxt_url = f'https://dracor.org/api/corpora/fre/play/{playname}/spoken-text'\n",
    "    plain_texts[playname] = requests.get(plaintxt_url).text"
   ]
  },
  {
   "cell_type": "code",
   "execution_count": null,
   "metadata": {},
   "outputs": [],
   "source": [
    "root_path = Path('.')"
   ]
  },
  {
   "cell_type": "code",
   "execution_count": 3,
   "metadata": {},
   "outputs": [],
   "source": [
    "gd = get_dracor('fre')"
   ]
  },
  {
   "cell_type": "code",
   "execution_count": 4,
   "metadata": {},
   "outputs": [],
   "source": [
    "gd_data = []\n",
    "\n",
    "for drama in gd['dramas']:\n",
    "    if drama['name'].startswith('corneillep'):\n",
    "        tei = requests.get('https://dracor.org/api/corpora/fre/play/'+drama['name']+'/tei').text\n",
    "        gd_data.append({'name': drama['name'], 'tei': tei})"
   ]
  },
  {
   "cell_type": "code",
   "execution_count": 6,
   "metadata": {
    "scrolled": true
   },
   "outputs": [],
   "source": [
    "df = pd.DataFrame(gd_data)"
   ]
  },
  {
   "cell_type": "code",
   "execution_count": 7,
   "metadata": {},
   "outputs": [],
   "source": [
    "for play in df.values:\n",
    "    with open(f'corneille-corpus/{play[0]}.xml', 'w', encoding='utf-8') as fw:\n",
    "        fw.write(play[1])"
   ]
  },
  {
   "cell_type": "code",
   "execution_count": 8,
   "metadata": {},
   "outputs": [],
   "source": [
    "comedies_indices = [[15], [35, 9, 30, 23, 12], [17, 29]]\n",
    "tragedies_indices = [[7], [13, 3], [11, 5, 24, 18], [32, 26, 10, 19, 22, 20, 27, 28, 21, 2, 31]]"
   ]
  },
  {
   "cell_type": "markdown",
   "metadata": {},
   "source": [
    "## Подсчёты\n",
    "\n",
    "### Основной материал\n",
    "\n",
    "#### Сбор корпуса"
   ]
  },
  {
   "cell_type": "code",
   "execution_count": 9,
   "metadata": {},
   "outputs": [],
   "source": [
    "from dracoranalysis import collect_primary_data"
   ]
  },
  {
   "cell_type": "code",
   "execution_count": 12,
   "metadata": {},
   "outputs": [],
   "source": [
    "def collect_year(tei):\n",
    "    header = tei.find('teiheader')\n",
    "    if header.find('date', {'type': 'premiere'}):\n",
    "        try:\n",
    "            return int(header.find('date', {'type': 'premiere'})['when'])\n",
    "        except:\n",
    "            return int(header.find('date', {'type': 'premiere'})['when'].split('-')[0])\n",
    "    elif header.find('date', {'type': 'print'}):\n",
    "        return int(header.find('date', {'type': 'print'})['when'])\n",
    "    else:\n",
    "        return 0\n",
    "\n",
    "def collect_persons_number(tei):\n",
    "    header = tei.find('teiheader')\n",
    "    persons = header.find_all('person')\n",
    "    return len(persons)\n",
    "\n",
    "def collect_verses_number(tei):\n",
    "    ls = tei.find('text').find_all('l')\n",
    "    if 'n' in ls[0].attrs:\n",
    "        return(int(ls[-1]['n']))\n",
    "    l_counter = 0\n",
    "    for l in ls:\n",
    "        if 'part' in l.attrs:\n",
    "            if l['part'] == 'I':\n",
    "                l_counter += 1\n",
    "        else:\n",
    "            l_counter += 1\n",
    "    return l_counter\n",
    "\n",
    "def collect_cues_number(tei):\n",
    "    return len(tei.find_all('sp'))\n",
    "\n",
    "def collect_scenes_number(tei):\n",
    "    return len(tei.find_all('div', {'type': 'scene'}))\n",
    "\n",
    "def collect_breaking_verses_number(tei):\n",
    "    l_part = tei.find_all('l', {'part': re.compile(\"M|F\")})\n",
    "    return len(l_part)\n",
    "    \n",
    "def collect_primary_data(tei):\n",
    "    year = collect_year(tei)\n",
    "    persons = collect_persons_number(tei)\n",
    "    verses = collect_verses_number(tei)\n",
    "    cues = collect_cues_number(tei)\n",
    "    scenes = collect_scenes_number(tei)\n",
    "    breaking_verses = collect_breaking_verses_number(tei)\n",
    "    return year, persons, verses, cues, scenes, breaking_verses"
   ]
  },
  {
   "cell_type": "code",
   "execution_count": 10,
   "metadata": {},
   "outputs": [],
   "source": [
    "comedies_datalist = []\n",
    "for period, comedies in enumerate(comedies_indices):\n",
    "    for ix in comedies:\n",
    "        df_row = df.values[ix]\n",
    "        name = df_row[0]\n",
    "        primary_data = collect_primary_data(BeautifulSoup(df_row[1], 'lxml'))\n",
    "        comedies_datalist.append(\n",
    "            {\n",
    "                'name': name,\n",
    "                'date': primary_data[0],\n",
    "                'period': period+1,\n",
    "                'characters': primary_data[1],\n",
    "                'verses': primary_data[2],\n",
    "                'cues': primary_data[3],\n",
    "                'scenes': primary_data[4],\n",
    "                'breaking_verses': primary_data[5],\n",
    "                'tei': str(df_row[1])\n",
    "            }\n",
    "        )"
   ]
  },
  {
   "cell_type": "code",
   "execution_count": 11,
   "metadata": {},
   "outputs": [],
   "source": [
    "df_comedies_data = pd.DataFrame(comedies_datalist)"
   ]
  },
  {
   "cell_type": "code",
   "execution_count": 12,
   "metadata": {},
   "outputs": [
    {
     "data": {
      "text/html": [
       "<div>\n",
       "<style scoped>\n",
       "    .dataframe tbody tr th:only-of-type {\n",
       "        vertical-align: middle;\n",
       "    }\n",
       "\n",
       "    .dataframe tbody tr th {\n",
       "        vertical-align: top;\n",
       "    }\n",
       "\n",
       "    .dataframe thead th {\n",
       "        text-align: right;\n",
       "    }\n",
       "</style>\n",
       "<table border=\"1\" class=\"dataframe\">\n",
       "  <thead>\n",
       "    <tr style=\"text-align: right;\">\n",
       "      <th></th>\n",
       "      <th>name</th>\n",
       "      <th>date</th>\n",
       "      <th>period</th>\n",
       "      <th>characters</th>\n",
       "      <th>verses</th>\n",
       "      <th>cues</th>\n",
       "      <th>scenes</th>\n",
       "      <th>breaking_verses</th>\n",
       "      <th>tei</th>\n",
       "    </tr>\n",
       "  </thead>\n",
       "  <tbody>\n",
       "    <tr>\n",
       "      <th>0</th>\n",
       "      <td>corneillep-melite-33</td>\n",
       "      <td>1642</td>\n",
       "      <td>1</td>\n",
       "      <td>8</td>\n",
       "      <td>2020</td>\n",
       "      <td>510</td>\n",
       "      <td>37</td>\n",
       "      <td>97</td>\n",
       "      <td>&lt;TEI xmlns=\"http://www.tei-c.org/ns/1.0\" xml:l...</td>\n",
       "    </tr>\n",
       "    <tr>\n",
       "      <th>1</th>\n",
       "      <td>corneillep-veuve-34</td>\n",
       "      <td>1634</td>\n",
       "      <td>2</td>\n",
       "      <td>12</td>\n",
       "      <td>2350</td>\n",
       "      <td>521</td>\n",
       "      <td>40</td>\n",
       "      <td>97</td>\n",
       "      <td>&lt;TEI xmlns=\"http://www.tei-c.org/ns/1.0\" xml:l...</td>\n",
       "    </tr>\n",
       "    <tr>\n",
       "      <th>2</th>\n",
       "      <td>corneillep-galerie-du-palais</td>\n",
       "      <td>1633</td>\n",
       "      <td>2</td>\n",
       "      <td>12</td>\n",
       "      <td>1794</td>\n",
       "      <td>517</td>\n",
       "      <td>54</td>\n",
       "      <td>65</td>\n",
       "      <td>&lt;TEI xmlns=\"http://www.tei-c.org/ns/1.0\" xml:l...</td>\n",
       "    </tr>\n",
       "    <tr>\n",
       "      <th>3</th>\n",
       "      <td>corneillep-suivante</td>\n",
       "      <td>1634</td>\n",
       "      <td>2</td>\n",
       "      <td>10</td>\n",
       "      <td>1706</td>\n",
       "      <td>410</td>\n",
       "      <td>47</td>\n",
       "      <td>50</td>\n",
       "      <td>&lt;TEI xmlns=\"http://www.tei-c.org/ns/1.0\" xml:l...</td>\n",
       "    </tr>\n",
       "    <tr>\n",
       "      <th>4</th>\n",
       "      <td>corneillep-place-royale</td>\n",
       "      <td>1634</td>\n",
       "      <td>2</td>\n",
       "      <td>8</td>\n",
       "      <td>1529</td>\n",
       "      <td>274</td>\n",
       "      <td>36</td>\n",
       "      <td>53</td>\n",
       "      <td>&lt;TEI xmlns=\"http://www.tei-c.org/ns/1.0\" xml:l...</td>\n",
       "    </tr>\n",
       "    <tr>\n",
       "      <th>5</th>\n",
       "      <td>corneillep-illusion-comique</td>\n",
       "      <td>1636</td>\n",
       "      <td>2</td>\n",
       "      <td>12</td>\n",
       "      <td>1690</td>\n",
       "      <td>422</td>\n",
       "      <td>40</td>\n",
       "      <td>81</td>\n",
       "      <td>&lt;TEI xmlns=\"http://www.tei-c.org/ns/1.0\" xml:l...</td>\n",
       "    </tr>\n",
       "    <tr>\n",
       "      <th>6</th>\n",
       "      <td>corneillep-menteur</td>\n",
       "      <td>1642</td>\n",
       "      <td>3</td>\n",
       "      <td>10</td>\n",
       "      <td>1804</td>\n",
       "      <td>651</td>\n",
       "      <td>36</td>\n",
       "      <td>159</td>\n",
       "      <td>&lt;TEI xmlns=\"http://www.tei-c.org/ns/1.0\" xml:l...</td>\n",
       "    </tr>\n",
       "    <tr>\n",
       "      <th>7</th>\n",
       "      <td>corneillep-suite-menteur</td>\n",
       "      <td>1644</td>\n",
       "      <td>3</td>\n",
       "      <td>7</td>\n",
       "      <td>1904</td>\n",
       "      <td>651</td>\n",
       "      <td>31</td>\n",
       "      <td>171</td>\n",
       "      <td>&lt;TEI xmlns=\"http://www.tei-c.org/ns/1.0\" xml:l...</td>\n",
       "    </tr>\n",
       "  </tbody>\n",
       "</table>\n",
       "</div>"
      ],
      "text/plain": [
       "                           name  date  period  characters  verses  cues  \\\n",
       "0          corneillep-melite-33  1642       1           8    2020   510   \n",
       "1           corneillep-veuve-34  1634       2          12    2350   521   \n",
       "2  corneillep-galerie-du-palais  1633       2          12    1794   517   \n",
       "3           corneillep-suivante  1634       2          10    1706   410   \n",
       "4       corneillep-place-royale  1634       2           8    1529   274   \n",
       "5   corneillep-illusion-comique  1636       2          12    1690   422   \n",
       "6            corneillep-menteur  1642       3          10    1804   651   \n",
       "7      corneillep-suite-menteur  1644       3           7    1904   651   \n",
       "\n",
       "   scenes  breaking_verses                                                tei  \n",
       "0      37               97  <TEI xmlns=\"http://www.tei-c.org/ns/1.0\" xml:l...  \n",
       "1      40               97  <TEI xmlns=\"http://www.tei-c.org/ns/1.0\" xml:l...  \n",
       "2      54               65  <TEI xmlns=\"http://www.tei-c.org/ns/1.0\" xml:l...  \n",
       "3      47               50  <TEI xmlns=\"http://www.tei-c.org/ns/1.0\" xml:l...  \n",
       "4      36               53  <TEI xmlns=\"http://www.tei-c.org/ns/1.0\" xml:l...  \n",
       "5      40               81  <TEI xmlns=\"http://www.tei-c.org/ns/1.0\" xml:l...  \n",
       "6      36              159  <TEI xmlns=\"http://www.tei-c.org/ns/1.0\" xml:l...  \n",
       "7      31              171  <TEI xmlns=\"http://www.tei-c.org/ns/1.0\" xml:l...  "
      ]
     },
     "execution_count": 12,
     "metadata": {},
     "output_type": "execute_result"
    }
   ],
   "source": [
    "df_comedies_data"
   ]
  },
  {
   "cell_type": "markdown",
   "metadata": {},
   "source": [
    "![comedies](images/table_3_com.png)"
   ]
  },
  {
   "cell_type": "code",
   "execution_count": 13,
   "metadata": {},
   "outputs": [],
   "source": [
    "tragedies_datalist = []\n",
    "for period, tragedies in enumerate(tragedies_indices):\n",
    "    for ix in tragedies:\n",
    "        df_row = df.values[ix]\n",
    "        name = df_row[0]\n",
    "        primary_data = collect_primary_data(BeautifulSoup(df_row[1], 'lxml'))\n",
    "        tragedies_datalist.append(\n",
    "            {\n",
    "                'name': name,\n",
    "                'date': primary_data[0],\n",
    "                'period': period+1,\n",
    "                'characters': primary_data[1],\n",
    "                'verses': primary_data[2],\n",
    "                'cues': primary_data[3],\n",
    "                'scenes': primary_data[4],\n",
    "                'breaking_verses': primary_data[5],\n",
    "                'tei': str(df_row[1])\n",
    "            }\n",
    "        )"
   ]
  },
  {
   "cell_type": "code",
   "execution_count": 14,
   "metadata": {},
   "outputs": [],
   "source": [
    "df_tragedies_data = pd.DataFrame(tragedies_datalist)"
   ]
  },
  {
   "cell_type": "code",
   "execution_count": 15,
   "metadata": {
    "scrolled": false
   },
   "outputs": [
    {
     "data": {
      "text/html": [
       "<div>\n",
       "<style scoped>\n",
       "    .dataframe tbody tr th:only-of-type {\n",
       "        vertical-align: middle;\n",
       "    }\n",
       "\n",
       "    .dataframe tbody tr th {\n",
       "        vertical-align: top;\n",
       "    }\n",
       "\n",
       "    .dataframe thead th {\n",
       "        text-align: right;\n",
       "    }\n",
       "</style>\n",
       "<table border=\"1\" class=\"dataframe\">\n",
       "  <thead>\n",
       "    <tr style=\"text-align: right;\">\n",
       "      <th></th>\n",
       "      <th>name</th>\n",
       "      <th>date</th>\n",
       "      <th>period</th>\n",
       "      <th>characters</th>\n",
       "      <th>verses</th>\n",
       "      <th>cues</th>\n",
       "      <th>scenes</th>\n",
       "      <th>breaking_verses</th>\n",
       "      <th>tei</th>\n",
       "    </tr>\n",
       "  </thead>\n",
       "  <tbody>\n",
       "    <tr>\n",
       "      <th>0</th>\n",
       "      <td>corneillep-clitandre</td>\n",
       "      <td>1632</td>\n",
       "      <td>1</td>\n",
       "      <td>16</td>\n",
       "      <td>1626</td>\n",
       "      <td>283</td>\n",
       "      <td>35</td>\n",
       "      <td>45</td>\n",
       "      <td>&lt;TEI xmlns=\"http://www.tei-c.org/ns/1.0\" xml:l...</td>\n",
       "    </tr>\n",
       "    <tr>\n",
       "      <th>1</th>\n",
       "      <td>corneillep-medee-39</td>\n",
       "      <td>1635</td>\n",
       "      <td>2</td>\n",
       "      <td>9</td>\n",
       "      <td>1656</td>\n",
       "      <td>213</td>\n",
       "      <td>25</td>\n",
       "      <td>25</td>\n",
       "      <td>&lt;TEI xmlns=\"http://www.tei-c.org/ns/1.0\" xml:l...</td>\n",
       "    </tr>\n",
       "    <tr>\n",
       "      <th>2</th>\n",
       "      <td>corneillep-cid-37</td>\n",
       "      <td>1637</td>\n",
       "      <td>2</td>\n",
       "      <td>12</td>\n",
       "      <td>1866</td>\n",
       "      <td>380</td>\n",
       "      <td>32</td>\n",
       "      <td>70</td>\n",
       "      <td>&lt;TEI xmlns=\"http://www.tei-c.org/ns/1.0\" xml:l...</td>\n",
       "    </tr>\n",
       "    <tr>\n",
       "      <th>3</th>\n",
       "      <td>corneillep-horace</td>\n",
       "      <td>1639</td>\n",
       "      <td>3</td>\n",
       "      <td>10</td>\n",
       "      <td>1788</td>\n",
       "      <td>194</td>\n",
       "      <td>28</td>\n",
       "      <td>24</td>\n",
       "      <td>&lt;TEI xmlns=\"http://www.tei-c.org/ns/1.0\" xml:l...</td>\n",
       "    </tr>\n",
       "    <tr>\n",
       "      <th>4</th>\n",
       "      <td>corneillep-cinna-43</td>\n",
       "      <td>1639</td>\n",
       "      <td>3</td>\n",
       "      <td>9</td>\n",
       "      <td>1780</td>\n",
       "      <td>217</td>\n",
       "      <td>20</td>\n",
       "      <td>28</td>\n",
       "      <td>&lt;TEI xmlns=\"http://www.tei-c.org/ns/1.0\" xml:l...</td>\n",
       "    </tr>\n",
       "    <tr>\n",
       "      <th>5</th>\n",
       "      <td>corneillep-polyeucte</td>\n",
       "      <td>1641</td>\n",
       "      <td>3</td>\n",
       "      <td>9</td>\n",
       "      <td>1828</td>\n",
       "      <td>389</td>\n",
       "      <td>27</td>\n",
       "      <td>80</td>\n",
       "      <td>&lt;TEI xmlns=\"http://www.tei-c.org/ns/1.0\" xml:l...</td>\n",
       "    </tr>\n",
       "    <tr>\n",
       "      <th>6</th>\n",
       "      <td>corneillep-mort-pompee</td>\n",
       "      <td>1642</td>\n",
       "      <td>3</td>\n",
       "      <td>12</td>\n",
       "      <td>1842</td>\n",
       "      <td>190</td>\n",
       "      <td>22</td>\n",
       "      <td>18</td>\n",
       "      <td>&lt;TEI xmlns=\"http://www.tei-c.org/ns/1.0\" xml:l...</td>\n",
       "    </tr>\n",
       "  </tbody>\n",
       "</table>\n",
       "</div>"
      ],
      "text/plain": [
       "                     name  date  period  characters  verses  cues  scenes  \\\n",
       "0    corneillep-clitandre  1632       1          16    1626   283      35   \n",
       "1     corneillep-medee-39  1635       2           9    1656   213      25   \n",
       "2       corneillep-cid-37  1637       2          12    1866   380      32   \n",
       "3       corneillep-horace  1639       3          10    1788   194      28   \n",
       "4     corneillep-cinna-43  1639       3           9    1780   217      20   \n",
       "5    corneillep-polyeucte  1641       3           9    1828   389      27   \n",
       "6  corneillep-mort-pompee  1642       3          12    1842   190      22   \n",
       "\n",
       "   breaking_verses                                                tei  \n",
       "0               45  <TEI xmlns=\"http://www.tei-c.org/ns/1.0\" xml:l...  \n",
       "1               25  <TEI xmlns=\"http://www.tei-c.org/ns/1.0\" xml:l...  \n",
       "2               70  <TEI xmlns=\"http://www.tei-c.org/ns/1.0\" xml:l...  \n",
       "3               24  <TEI xmlns=\"http://www.tei-c.org/ns/1.0\" xml:l...  \n",
       "4               28  <TEI xmlns=\"http://www.tei-c.org/ns/1.0\" xml:l...  \n",
       "5               80  <TEI xmlns=\"http://www.tei-c.org/ns/1.0\" xml:l...  \n",
       "6               18  <TEI xmlns=\"http://www.tei-c.org/ns/1.0\" xml:l...  "
      ]
     },
     "execution_count": 15,
     "metadata": {},
     "output_type": "execute_result"
    }
   ],
   "source": [
    "df_tragedies_data[df_tragedies_data['period'] != 4]"
   ]
  },
  {
   "cell_type": "markdown",
   "metadata": {},
   "source": [
    "![tragedies](images/table_3_trag.png)"
   ]
  },
  {
   "cell_type": "code",
   "execution_count": 16,
   "metadata": {},
   "outputs": [
    {
     "data": {
      "text/plain": [
       "1849.625"
      ]
     },
     "execution_count": 16,
     "metadata": {},
     "output_type": "execute_result"
    }
   ],
   "source": [
    "df_comedies_data.verses.mean()"
   ]
  },
  {
   "cell_type": "code",
   "execution_count": 17,
   "metadata": {},
   "outputs": [
    {
     "data": {
      "text/plain": [
       "494.5"
      ]
     },
     "execution_count": 17,
     "metadata": {},
     "output_type": "execute_result"
    }
   ],
   "source": [
    "df_comedies_data.cues.mean()"
   ]
  },
  {
   "cell_type": "code",
   "execution_count": 18,
   "metadata": {},
   "outputs": [
    {
     "data": {
      "text/plain": [
       "1769.4285714285713"
      ]
     },
     "execution_count": 18,
     "metadata": {},
     "output_type": "execute_result"
    }
   ],
   "source": [
    "df_tragedies_data[df_tragedies_data['period'] != 4].verses.mean()"
   ]
  },
  {
   "cell_type": "code",
   "execution_count": 19,
   "metadata": {},
   "outputs": [
    {
     "data": {
      "text/plain": [
       "266.57142857142856"
      ]
     },
     "execution_count": 19,
     "metadata": {},
     "output_type": "execute_result"
    }
   ],
   "source": [
    "df_tragedies_data[df_tragedies_data['period'] != 4].cues.mean()"
   ]
  },
  {
   "cell_type": "code",
   "execution_count": 20,
   "metadata": {},
   "outputs": [],
   "source": [
    "def tragedy_add4(x):\n",
    "    if x == 4:\n",
    "        return 'tragedy4'\n",
    "    else:\n",
    "        return 'tragedy'\n",
    "df_tragedies_data['genre'] = 'tragedy'\n",
    "df_tragedies_data['genre4'] = df_tragedies_data['period'].apply(tragedy_add4)"
   ]
  },
  {
   "cell_type": "code",
   "execution_count": 21,
   "metadata": {},
   "outputs": [],
   "source": [
    "df_comedies_data['genre'] = 'comedy'\n",
    "df_comedies_data['genre4'] = 'comedy'"
   ]
  },
  {
   "cell_type": "code",
   "execution_count": 22,
   "metadata": {},
   "outputs": [],
   "source": [
    "df_plays = pd.concat([df_comedies_data, df_tragedies_data])"
   ]
  },
  {
   "cell_type": "code",
   "execution_count": 23,
   "metadata": {},
   "outputs": [
    {
     "data": {
      "text/html": [
       "<div>\n",
       "<style scoped>\n",
       "    .dataframe tbody tr th:only-of-type {\n",
       "        vertical-align: middle;\n",
       "    }\n",
       "\n",
       "    .dataframe tbody tr th {\n",
       "        vertical-align: top;\n",
       "    }\n",
       "\n",
       "    .dataframe thead th {\n",
       "        text-align: right;\n",
       "    }\n",
       "</style>\n",
       "<table border=\"1\" class=\"dataframe\">\n",
       "  <thead>\n",
       "    <tr style=\"text-align: right;\">\n",
       "      <th></th>\n",
       "      <th>name</th>\n",
       "      <th>date</th>\n",
       "      <th>period</th>\n",
       "      <th>characters</th>\n",
       "      <th>verses</th>\n",
       "      <th>cues</th>\n",
       "      <th>scenes</th>\n",
       "      <th>breaking_verses</th>\n",
       "      <th>tei</th>\n",
       "      <th>genre</th>\n",
       "      <th>genre4</th>\n",
       "    </tr>\n",
       "  </thead>\n",
       "  <tbody>\n",
       "    <tr>\n",
       "      <th>0</th>\n",
       "      <td>corneillep-melite-33</td>\n",
       "      <td>1642</td>\n",
       "      <td>1</td>\n",
       "      <td>8</td>\n",
       "      <td>2020</td>\n",
       "      <td>510</td>\n",
       "      <td>37</td>\n",
       "      <td>97</td>\n",
       "      <td>&lt;TEI xmlns=\"http://www.tei-c.org/ns/1.0\" xml:l...</td>\n",
       "      <td>comedy</td>\n",
       "      <td>comedy</td>\n",
       "    </tr>\n",
       "    <tr>\n",
       "      <th>1</th>\n",
       "      <td>corneillep-veuve-34</td>\n",
       "      <td>1634</td>\n",
       "      <td>2</td>\n",
       "      <td>12</td>\n",
       "      <td>2350</td>\n",
       "      <td>521</td>\n",
       "      <td>40</td>\n",
       "      <td>97</td>\n",
       "      <td>&lt;TEI xmlns=\"http://www.tei-c.org/ns/1.0\" xml:l...</td>\n",
       "      <td>comedy</td>\n",
       "      <td>comedy</td>\n",
       "    </tr>\n",
       "    <tr>\n",
       "      <th>2</th>\n",
       "      <td>corneillep-galerie-du-palais</td>\n",
       "      <td>1633</td>\n",
       "      <td>2</td>\n",
       "      <td>12</td>\n",
       "      <td>1794</td>\n",
       "      <td>517</td>\n",
       "      <td>54</td>\n",
       "      <td>65</td>\n",
       "      <td>&lt;TEI xmlns=\"http://www.tei-c.org/ns/1.0\" xml:l...</td>\n",
       "      <td>comedy</td>\n",
       "      <td>comedy</td>\n",
       "    </tr>\n",
       "    <tr>\n",
       "      <th>3</th>\n",
       "      <td>corneillep-suivante</td>\n",
       "      <td>1634</td>\n",
       "      <td>2</td>\n",
       "      <td>10</td>\n",
       "      <td>1706</td>\n",
       "      <td>410</td>\n",
       "      <td>47</td>\n",
       "      <td>50</td>\n",
       "      <td>&lt;TEI xmlns=\"http://www.tei-c.org/ns/1.0\" xml:l...</td>\n",
       "      <td>comedy</td>\n",
       "      <td>comedy</td>\n",
       "    </tr>\n",
       "    <tr>\n",
       "      <th>4</th>\n",
       "      <td>corneillep-place-royale</td>\n",
       "      <td>1634</td>\n",
       "      <td>2</td>\n",
       "      <td>8</td>\n",
       "      <td>1529</td>\n",
       "      <td>274</td>\n",
       "      <td>36</td>\n",
       "      <td>53</td>\n",
       "      <td>&lt;TEI xmlns=\"http://www.tei-c.org/ns/1.0\" xml:l...</td>\n",
       "      <td>comedy</td>\n",
       "      <td>comedy</td>\n",
       "    </tr>\n",
       "  </tbody>\n",
       "</table>\n",
       "</div>"
      ],
      "text/plain": [
       "                           name  date  period  characters  verses  cues  \\\n",
       "0          corneillep-melite-33  1642       1           8    2020   510   \n",
       "1           corneillep-veuve-34  1634       2          12    2350   521   \n",
       "2  corneillep-galerie-du-palais  1633       2          12    1794   517   \n",
       "3           corneillep-suivante  1634       2          10    1706   410   \n",
       "4       corneillep-place-royale  1634       2           8    1529   274   \n",
       "\n",
       "   scenes  breaking_verses                                                tei  \\\n",
       "0      37               97  <TEI xmlns=\"http://www.tei-c.org/ns/1.0\" xml:l...   \n",
       "1      40               97  <TEI xmlns=\"http://www.tei-c.org/ns/1.0\" xml:l...   \n",
       "2      54               65  <TEI xmlns=\"http://www.tei-c.org/ns/1.0\" xml:l...   \n",
       "3      47               50  <TEI xmlns=\"http://www.tei-c.org/ns/1.0\" xml:l...   \n",
       "4      36               53  <TEI xmlns=\"http://www.tei-c.org/ns/1.0\" xml:l...   \n",
       "\n",
       "    genre  genre4  \n",
       "0  comedy  comedy  \n",
       "1  comedy  comedy  \n",
       "2  comedy  comedy  \n",
       "3  comedy  comedy  \n",
       "4  comedy  comedy  "
      ]
     },
     "execution_count": 23,
     "metadata": {},
     "output_type": "execute_result"
    }
   ],
   "source": [
    "df_plays.head()"
   ]
  },
  {
   "cell_type": "markdown",
   "metadata": {},
   "source": [
    "#### Функции для разделения данных по разным признакам"
   ]
  },
  {
   "cell_type": "code",
   "execution_count": 26,
   "metadata": {},
   "outputs": [],
   "source": [
    "def separate_value_by_genre(values: List[str], name=False, tragedy4=True) -> dict:\n",
    "    \n",
    "    if name:\n",
    "        values = ['name', *values]\n",
    "        \n",
    "    val_comedy = df_plays[df_plays['genre'] == 'comedy'][values]\n",
    "    val_tragedy = df_plays[df_plays['genre'] == 'tragedy'][values]\n",
    "    \n",
    "    if tragedy4:\n",
    "        val_tragedy13 = df_plays[(df_plays['genre'] == 'tragedy') & (df_plays['period'] != 4)][values]\n",
    "        val_tragedy4 = df_plays[(df_plays['genre'] == 'tragedy') & (df_plays['period'] == 4)][values]\n",
    "        return {'comedy': val_comedy,\n",
    "                'tragedy13': val_tragedy13,\n",
    "                'tragedy4': val_tragedy4,\n",
    "                'tragedy': val_tragedy}\n",
    "    else:\n",
    "        return {'comedy': val_comedy,\n",
    "                'tragedy': val_tragedy}"
   ]
  },
  {
   "cell_type": "code",
   "execution_count": 27,
   "metadata": {},
   "outputs": [],
   "source": [
    "def separate_value_by_period(value, name=False):\n",
    "    \n",
    "    if name:\n",
    "        value = ['name', value]\n",
    "        \n",
    "    val1 = df_plays[df_plays['period'] == 1][value]\n",
    "    val2 = df_plays[df_plays['period'] == 2][value]\n",
    "    val3 = df_plays[df_plays['period'] == 3][value]\n",
    "    val4 = df_plays[df_plays['period'] == 4][value]\n",
    "    \n",
    "    return val1, val2, val3, val4"
   ]
  },
  {
   "cell_type": "code",
   "execution_count": 28,
   "metadata": {},
   "outputs": [],
   "source": [
    "def separate_value_by_genre_and_period(value):\n",
    "    val_comedy = list(df_plays[df_plays['genre'] == 'comedy'].groupby('period'))\n",
    "    val_tragedy = list(df_plays[df_plays['genre'] == 'tragedy'].groupby('period'))\n",
    "    return {\n",
    "        'comedy': {row[0]: row[1][value] for row in val_comedy},\n",
    "        'tragedy': {row[0]: row[1][value] for row in val_tragedy}\n",
    "    }"
   ]
  },
  {
   "cell_type": "markdown",
   "metadata": {},
   "source": [
    "## Dialogie\n",
    "### Vivacity"
   ]
  },
  {
   "cell_type": "code",
   "execution_count": 32,
   "metadata": {},
   "outputs": [],
   "source": [
    "from dracoranalysis import separate_value_by_genre"
   ]
  },
  {
   "cell_type": "code",
   "execution_count": 33,
   "metadata": {
    "scrolled": true
   },
   "outputs": [
    {
     "data": {
      "text/html": [
       "<div>\n",
       "<style scoped>\n",
       "    .dataframe tbody tr th:only-of-type {\n",
       "        vertical-align: middle;\n",
       "    }\n",
       "\n",
       "    .dataframe tbody tr th {\n",
       "        vertical-align: top;\n",
       "    }\n",
       "\n",
       "    .dataframe thead th {\n",
       "        text-align: right;\n",
       "    }\n",
       "</style>\n",
       "<table border=\"1\" class=\"dataframe\">\n",
       "  <thead>\n",
       "    <tr style=\"text-align: right;\">\n",
       "      <th></th>\n",
       "      <th>name</th>\n",
       "      <th>date</th>\n",
       "      <th>period</th>\n",
       "      <th>characters</th>\n",
       "      <th>verses</th>\n",
       "      <th>cues</th>\n",
       "      <th>scenes</th>\n",
       "      <th>breaking_verses</th>\n",
       "      <th>tei</th>\n",
       "      <th>genre</th>\n",
       "      <th>genre4</th>\n",
       "      <th>vivacity</th>\n",
       "    </tr>\n",
       "  </thead>\n",
       "  <tbody>\n",
       "    <tr>\n",
       "      <th>0</th>\n",
       "      <td>corneillep-melite-33</td>\n",
       "      <td>1642</td>\n",
       "      <td>1</td>\n",
       "      <td>8</td>\n",
       "      <td>2020</td>\n",
       "      <td>510</td>\n",
       "      <td>37</td>\n",
       "      <td>97</td>\n",
       "      <td>&lt;TEI xmlns=\"http://www.tei-c.org/ns/1.0\" xml:l...</td>\n",
       "      <td>comedy</td>\n",
       "      <td>comedy</td>\n",
       "      <td>0.252475</td>\n",
       "    </tr>\n",
       "    <tr>\n",
       "      <th>1</th>\n",
       "      <td>corneillep-veuve-34</td>\n",
       "      <td>1634</td>\n",
       "      <td>2</td>\n",
       "      <td>12</td>\n",
       "      <td>2350</td>\n",
       "      <td>521</td>\n",
       "      <td>40</td>\n",
       "      <td>97</td>\n",
       "      <td>&lt;TEI xmlns=\"http://www.tei-c.org/ns/1.0\" xml:l...</td>\n",
       "      <td>comedy</td>\n",
       "      <td>comedy</td>\n",
       "      <td>0.221702</td>\n",
       "    </tr>\n",
       "    <tr>\n",
       "      <th>2</th>\n",
       "      <td>corneillep-galerie-du-palais</td>\n",
       "      <td>1633</td>\n",
       "      <td>2</td>\n",
       "      <td>12</td>\n",
       "      <td>1794</td>\n",
       "      <td>517</td>\n",
       "      <td>54</td>\n",
       "      <td>65</td>\n",
       "      <td>&lt;TEI xmlns=\"http://www.tei-c.org/ns/1.0\" xml:l...</td>\n",
       "      <td>comedy</td>\n",
       "      <td>comedy</td>\n",
       "      <td>0.288183</td>\n",
       "    </tr>\n",
       "    <tr>\n",
       "      <th>3</th>\n",
       "      <td>corneillep-suivante</td>\n",
       "      <td>1634</td>\n",
       "      <td>2</td>\n",
       "      <td>10</td>\n",
       "      <td>1706</td>\n",
       "      <td>410</td>\n",
       "      <td>47</td>\n",
       "      <td>50</td>\n",
       "      <td>&lt;TEI xmlns=\"http://www.tei-c.org/ns/1.0\" xml:l...</td>\n",
       "      <td>comedy</td>\n",
       "      <td>comedy</td>\n",
       "      <td>0.240328</td>\n",
       "    </tr>\n",
       "    <tr>\n",
       "      <th>4</th>\n",
       "      <td>corneillep-place-royale</td>\n",
       "      <td>1634</td>\n",
       "      <td>2</td>\n",
       "      <td>8</td>\n",
       "      <td>1529</td>\n",
       "      <td>274</td>\n",
       "      <td>36</td>\n",
       "      <td>53</td>\n",
       "      <td>&lt;TEI xmlns=\"http://www.tei-c.org/ns/1.0\" xml:l...</td>\n",
       "      <td>comedy</td>\n",
       "      <td>comedy</td>\n",
       "      <td>0.179202</td>\n",
       "    </tr>\n",
       "  </tbody>\n",
       "</table>\n",
       "</div>"
      ],
      "text/plain": [
       "                           name  date  period  characters  verses  cues  \\\n",
       "0          corneillep-melite-33  1642       1           8    2020   510   \n",
       "1           corneillep-veuve-34  1634       2          12    2350   521   \n",
       "2  corneillep-galerie-du-palais  1633       2          12    1794   517   \n",
       "3           corneillep-suivante  1634       2          10    1706   410   \n",
       "4       corneillep-place-royale  1634       2           8    1529   274   \n",
       "\n",
       "   scenes  breaking_verses                                                tei  \\\n",
       "0      37               97  <TEI xmlns=\"http://www.tei-c.org/ns/1.0\" xml:l...   \n",
       "1      40               97  <TEI xmlns=\"http://www.tei-c.org/ns/1.0\" xml:l...   \n",
       "2      54               65  <TEI xmlns=\"http://www.tei-c.org/ns/1.0\" xml:l...   \n",
       "3      47               50  <TEI xmlns=\"http://www.tei-c.org/ns/1.0\" xml:l...   \n",
       "4      36               53  <TEI xmlns=\"http://www.tei-c.org/ns/1.0\" xml:l...   \n",
       "\n",
       "    genre  genre4  vivacity  \n",
       "0  comedy  comedy  0.252475  \n",
       "1  comedy  comedy  0.221702  \n",
       "2  comedy  comedy  0.288183  \n",
       "3  comedy  comedy  0.240328  \n",
       "4  comedy  comedy  0.179202  "
      ]
     },
     "execution_count": 33,
     "metadata": {},
     "output_type": "execute_result"
    }
   ],
   "source": [
    "df_plays.head()"
   ]
  },
  {
   "cell_type": "code",
   "execution_count": 34,
   "metadata": {},
   "outputs": [],
   "source": [
    "df_plays['vivacity'] = df_plays.cues / df_plays.verses"
   ]
  },
  {
   "cell_type": "code",
   "execution_count": 36,
   "metadata": {},
   "outputs": [],
   "source": [
    "vivacity_by_genre = separate_value_by_genre(df_plays, 'vivacity', tragedy4=True)"
   ]
  },
  {
   "cell_type": "code",
   "execution_count": 37,
   "metadata": {},
   "outputs": [
    {
     "data": {
      "text/plain": [
       "0.26679640058366194"
      ]
     },
     "execution_count": 37,
     "metadata": {},
     "output_type": "execute_result"
    }
   ],
   "source": [
    "vivacity_by_genre['comedy'].mean()"
   ]
  },
  {
   "cell_type": "code",
   "execution_count": 38,
   "metadata": {
    "scrolled": true
   },
   "outputs": [
    {
     "data": {
      "text/plain": [
       "0.1589462244882886"
      ]
     },
     "execution_count": 38,
     "metadata": {},
     "output_type": "execute_result"
    }
   ],
   "source": [
    "vivacity_by_genre['tragedy'].mean()"
   ]
  },
  {
   "cell_type": "code",
   "execution_count": 39,
   "metadata": {},
   "outputs": [
    {
     "data": {
      "text/plain": [
       "1.678532481300428"
      ]
     },
     "execution_count": 39,
     "metadata": {},
     "output_type": "execute_result"
    }
   ],
   "source": [
    "vivacity_by_genre['comedy'].mean() / vivacity_by_genre['tragedy'].mean()"
   ]
  },
  {
   "cell_type": "code",
   "execution_count": 40,
   "metadata": {},
   "outputs": [],
   "source": [
    "from dracoranalysis import mp_ac"
   ]
  },
  {
   "cell_type": "code",
   "execution_count": 45,
   "metadata": {},
   "outputs": [],
   "source": [
    "vivacity_mp_ac = mp_ac(\n",
    "    sorted(vivacity_by_genre['comedy'])[::-1],\n",
    "    sorted(vivacity_by_genre['tragedy'])[::-1]\n",
    ")"
   ]
  },
  {
   "cell_type": "code",
   "execution_count": 47,
   "metadata": {},
   "outputs": [
    {
     "data": {
      "text/plain": [
       "0.2095153143217875"
      ]
     },
     "execution_count": 47,
     "metadata": {},
     "output_type": "execute_result"
    }
   ],
   "source": [
    "#transgression\n",
    "vivacity_mp_ac[0] / vivacity_mp_ac[1]"
   ]
  },
  {
   "cell_type": "markdown",
   "metadata": {},
   "source": [
    "#### Stichomity"
   ]
  },
  {
   "cell_type": "code",
   "execution_count": 48,
   "metadata": {},
   "outputs": [],
   "source": [
    "df_plays['breaking_verses_ratio'] = df_plays['breaking_verses']/df_plays['cues']"
   ]
  },
  {
   "cell_type": "code",
   "execution_count": 51,
   "metadata": {},
   "outputs": [],
   "source": [
    "breaking_verses_by_genre = separate_value_by_genre(df_plays, ['breaking_verses', 'breaking_verses_ratio'], True, True)"
   ]
  },
  {
   "cell_type": "code",
   "execution_count": 52,
   "metadata": {
    "scrolled": true
   },
   "outputs": [
    {
     "data": {
      "text/html": [
       "<div>\n",
       "<style scoped>\n",
       "    .dataframe tbody tr th:only-of-type {\n",
       "        vertical-align: middle;\n",
       "    }\n",
       "\n",
       "    .dataframe tbody tr th {\n",
       "        vertical-align: top;\n",
       "    }\n",
       "\n",
       "    .dataframe thead th {\n",
       "        text-align: right;\n",
       "    }\n",
       "</style>\n",
       "<table border=\"1\" class=\"dataframe\">\n",
       "  <thead>\n",
       "    <tr style=\"text-align: right;\">\n",
       "      <th></th>\n",
       "      <th>0</th>\n",
       "      <th>1</th>\n",
       "      <th>2</th>\n",
       "      <th>3</th>\n",
       "      <th>4</th>\n",
       "      <th>5</th>\n",
       "      <th>6</th>\n",
       "      <th>7</th>\n",
       "    </tr>\n",
       "  </thead>\n",
       "  <tbody>\n",
       "    <tr>\n",
       "      <th>name</th>\n",
       "      <td>corneillep-melite-33</td>\n",
       "      <td>corneillep-veuve-34</td>\n",
       "      <td>corneillep-galerie-du-palais</td>\n",
       "      <td>corneillep-suivante</td>\n",
       "      <td>corneillep-place-royale</td>\n",
       "      <td>corneillep-illusion-comique</td>\n",
       "      <td>corneillep-menteur</td>\n",
       "      <td>corneillep-suite-menteur</td>\n",
       "    </tr>\n",
       "    <tr>\n",
       "      <th>breaking_verses</th>\n",
       "      <td>97</td>\n",
       "      <td>97</td>\n",
       "      <td>65</td>\n",
       "      <td>50</td>\n",
       "      <td>53</td>\n",
       "      <td>81</td>\n",
       "      <td>159</td>\n",
       "      <td>171</td>\n",
       "    </tr>\n",
       "    <tr>\n",
       "      <th>breaking_verses_ratio</th>\n",
       "      <td>0.190196</td>\n",
       "      <td>0.18618</td>\n",
       "      <td>0.125725</td>\n",
       "      <td>0.121951</td>\n",
       "      <td>0.193431</td>\n",
       "      <td>0.191943</td>\n",
       "      <td>0.24424</td>\n",
       "      <td>0.262673</td>\n",
       "    </tr>\n",
       "  </tbody>\n",
       "</table>\n",
       "</div>"
      ],
      "text/plain": [
       "                                          0                    1  \\\n",
       "name                   corneillep-melite-33  corneillep-veuve-34   \n",
       "breaking_verses                          97                   97   \n",
       "breaking_verses_ratio              0.190196              0.18618   \n",
       "\n",
       "                                                  2                    3  \\\n",
       "name                   corneillep-galerie-du-palais  corneillep-suivante   \n",
       "breaking_verses                                  65                   50   \n",
       "breaking_verses_ratio                      0.125725             0.121951   \n",
       "\n",
       "                                             4                            5  \\\n",
       "name                   corneillep-place-royale  corneillep-illusion-comique   \n",
       "breaking_verses                             53                           81   \n",
       "breaking_verses_ratio                 0.193431                     0.191943   \n",
       "\n",
       "                                        6                         7  \n",
       "name                   corneillep-menteur  corneillep-suite-menteur  \n",
       "breaking_verses                       159                       171  \n",
       "breaking_verses_ratio             0.24424                  0.262673  "
      ]
     },
     "execution_count": 52,
     "metadata": {},
     "output_type": "execute_result"
    }
   ],
   "source": [
    "breaking_verses_by_genre['comedy'].T"
   ]
  },
  {
   "cell_type": "code",
   "execution_count": 53,
   "metadata": {},
   "outputs": [
    {
     "data": {
      "text/html": [
       "<div>\n",
       "<style scoped>\n",
       "    .dataframe tbody tr th:only-of-type {\n",
       "        vertical-align: middle;\n",
       "    }\n",
       "\n",
       "    .dataframe tbody tr th {\n",
       "        vertical-align: top;\n",
       "    }\n",
       "\n",
       "    .dataframe thead th {\n",
       "        text-align: right;\n",
       "    }\n",
       "</style>\n",
       "<table border=\"1\" class=\"dataframe\">\n",
       "  <thead>\n",
       "    <tr style=\"text-align: right;\">\n",
       "      <th></th>\n",
       "      <th>0</th>\n",
       "      <th>1</th>\n",
       "      <th>2</th>\n",
       "      <th>3</th>\n",
       "      <th>4</th>\n",
       "      <th>5</th>\n",
       "      <th>6</th>\n",
       "    </tr>\n",
       "  </thead>\n",
       "  <tbody>\n",
       "    <tr>\n",
       "      <th>name</th>\n",
       "      <td>corneillep-clitandre</td>\n",
       "      <td>corneillep-medee-39</td>\n",
       "      <td>corneillep-cid-37</td>\n",
       "      <td>corneillep-horace</td>\n",
       "      <td>corneillep-cinna-43</td>\n",
       "      <td>corneillep-polyeucte</td>\n",
       "      <td>corneillep-mort-pompee</td>\n",
       "    </tr>\n",
       "    <tr>\n",
       "      <th>breaking_verses</th>\n",
       "      <td>45</td>\n",
       "      <td>25</td>\n",
       "      <td>70</td>\n",
       "      <td>24</td>\n",
       "      <td>28</td>\n",
       "      <td>80</td>\n",
       "      <td>18</td>\n",
       "    </tr>\n",
       "    <tr>\n",
       "      <th>breaking_verses_ratio</th>\n",
       "      <td>0.159011</td>\n",
       "      <td>0.117371</td>\n",
       "      <td>0.184211</td>\n",
       "      <td>0.123711</td>\n",
       "      <td>0.129032</td>\n",
       "      <td>0.205656</td>\n",
       "      <td>0.094737</td>\n",
       "    </tr>\n",
       "  </tbody>\n",
       "</table>\n",
       "</div>"
      ],
      "text/plain": [
       "                                          0                    1  \\\n",
       "name                   corneillep-clitandre  corneillep-medee-39   \n",
       "breaking_verses                          45                   25   \n",
       "breaking_verses_ratio              0.159011             0.117371   \n",
       "\n",
       "                                       2                  3  \\\n",
       "name                   corneillep-cid-37  corneillep-horace   \n",
       "breaking_verses                       70                 24   \n",
       "breaking_verses_ratio           0.184211           0.123711   \n",
       "\n",
       "                                         4                     5  \\\n",
       "name                   corneillep-cinna-43  corneillep-polyeucte   \n",
       "breaking_verses                         28                    80   \n",
       "breaking_verses_ratio             0.129032              0.205656   \n",
       "\n",
       "                                            6  \n",
       "name                   corneillep-mort-pompee  \n",
       "breaking_verses                            18  \n",
       "breaking_verses_ratio                0.094737  "
      ]
     },
     "execution_count": 53,
     "metadata": {},
     "output_type": "execute_result"
    }
   ],
   "source": [
    "breaking_verses_by_genre['tragedy13'].T"
   ]
  },
  {
   "cell_type": "code",
   "execution_count": 54,
   "metadata": {},
   "outputs": [
    {
     "data": {
      "text/html": [
       "<div>\n",
       "<style scoped>\n",
       "    .dataframe tbody tr th:only-of-type {\n",
       "        vertical-align: middle;\n",
       "    }\n",
       "\n",
       "    .dataframe tbody tr th {\n",
       "        vertical-align: top;\n",
       "    }\n",
       "\n",
       "    .dataframe thead th {\n",
       "        text-align: right;\n",
       "    }\n",
       "</style>\n",
       "<table border=\"1\" class=\"dataframe\">\n",
       "  <thead>\n",
       "    <tr style=\"text-align: right;\">\n",
       "      <th></th>\n",
       "      <th>7</th>\n",
       "      <th>8</th>\n",
       "      <th>9</th>\n",
       "      <th>10</th>\n",
       "      <th>11</th>\n",
       "      <th>12</th>\n",
       "      <th>13</th>\n",
       "      <th>14</th>\n",
       "      <th>15</th>\n",
       "      <th>16</th>\n",
       "      <th>17</th>\n",
       "    </tr>\n",
       "  </thead>\n",
       "  <tbody>\n",
       "    <tr>\n",
       "      <th>name</th>\n",
       "      <td>corneillep-theodore</td>\n",
       "      <td>corneillep-rodogune</td>\n",
       "      <td>corneillep-heraclius</td>\n",
       "      <td>corneillep-nicomede</td>\n",
       "      <td>corneillep-pertharite</td>\n",
       "      <td>corneillep-oedipe</td>\n",
       "      <td>corneillep-sertorius</td>\n",
       "      <td>corneillep-sophonisbe</td>\n",
       "      <td>corneillep-othon</td>\n",
       "      <td>corneillep-attila</td>\n",
       "      <td>corneillep-surena</td>\n",
       "    </tr>\n",
       "    <tr>\n",
       "      <th>breaking_verses</th>\n",
       "      <td>63</td>\n",
       "      <td>44</td>\n",
       "      <td>58</td>\n",
       "      <td>51</td>\n",
       "      <td>41</td>\n",
       "      <td>64</td>\n",
       "      <td>63</td>\n",
       "      <td>32</td>\n",
       "      <td>60</td>\n",
       "      <td>43</td>\n",
       "      <td>79</td>\n",
       "    </tr>\n",
       "    <tr>\n",
       "      <th>breaking_verses_ratio</th>\n",
       "      <td>0.170732</td>\n",
       "      <td>0.173228</td>\n",
       "      <td>0.180124</td>\n",
       "      <td>0.148256</td>\n",
       "      <td>0.158915</td>\n",
       "      <td>0.173442</td>\n",
       "      <td>0.217241</td>\n",
       "      <td>0.134454</td>\n",
       "      <td>0.172414</td>\n",
       "      <td>0.164751</td>\n",
       "      <td>0.24159</td>\n",
       "    </tr>\n",
       "  </tbody>\n",
       "</table>\n",
       "</div>"
      ],
      "text/plain": [
       "                                        7                    8   \\\n",
       "name                   corneillep-theodore  corneillep-rodogune   \n",
       "breaking_verses                         63                   44   \n",
       "breaking_verses_ratio             0.170732             0.173228   \n",
       "\n",
       "                                         9                    10  \\\n",
       "name                   corneillep-heraclius  corneillep-nicomede   \n",
       "breaking_verses                          58                   51   \n",
       "breaking_verses_ratio              0.180124             0.148256   \n",
       "\n",
       "                                          11                 12  \\\n",
       "name                   corneillep-pertharite  corneillep-oedipe   \n",
       "breaking_verses                           41                 64   \n",
       "breaking_verses_ratio               0.158915           0.173442   \n",
       "\n",
       "                                         13                     14  \\\n",
       "name                   corneillep-sertorius  corneillep-sophonisbe   \n",
       "breaking_verses                          63                     32   \n",
       "breaking_verses_ratio              0.217241               0.134454   \n",
       "\n",
       "                                     15                 16                 17  \n",
       "name                   corneillep-othon  corneillep-attila  corneillep-surena  \n",
       "breaking_verses                      60                 43                 79  \n",
       "breaking_verses_ratio          0.172414           0.164751            0.24159  "
      ]
     },
     "execution_count": 54,
     "metadata": {},
     "output_type": "execute_result"
    }
   ],
   "source": [
    "breaking_verses_by_genre['tragedy4'].T"
   ]
  },
  {
   "cell_type": "markdown",
   "metadata": {},
   "source": [
    "![breaking verses ratio](images/table_14.png)"
   ]
  },
  {
   "cell_type": "code",
   "execution_count": 55,
   "metadata": {
    "scrolled": true
   },
   "outputs": [
    {
     "data": {
      "text/plain": [
       "0.18954241074905548"
      ]
     },
     "execution_count": 55,
     "metadata": {},
     "output_type": "execute_result"
    }
   ],
   "source": [
    "breaking_verses_by_genre['comedy']['breaking_verses_ratio'].mean()"
   ]
  },
  {
   "cell_type": "code",
   "execution_count": 56,
   "metadata": {},
   "outputs": [
    {
     "data": {
      "text/plain": [
       "0.14481828377279077"
      ]
     },
     "execution_count": 56,
     "metadata": {},
     "output_type": "execute_result"
    }
   ],
   "source": [
    "breaking_verses_by_genre['tragedy13']['breaking_verses_ratio'].mean()"
   ]
  },
  {
   "cell_type": "code",
   "execution_count": 57,
   "metadata": {},
   "outputs": [
    {
     "data": {
      "text/plain": [
       "0.17592242547975787"
      ]
     },
     "execution_count": 57,
     "metadata": {},
     "output_type": "execute_result"
    }
   ],
   "source": [
    "breaking_verses_by_genre['tragedy4']['breaking_verses_ratio'].mean()"
   ]
  },
  {
   "cell_type": "code",
   "execution_count": 58,
   "metadata": {},
   "outputs": [
    {
     "data": {
      "text/plain": [
       "0.16382637037149286"
      ]
     },
     "execution_count": 58,
     "metadata": {},
     "output_type": "execute_result"
    }
   ],
   "source": [
    "breaking_verses_by_genre['tragedy']['breaking_verses_ratio'].mean()"
   ]
  },
  {
   "cell_type": "code",
   "execution_count": null,
   "metadata": {},
   "outputs": [],
   "source": [
    "###########################\n",
    "###########################\n",
    "###########################\n",
    "###########################\n",
    "###########################"
   ]
  },
  {
   "cell_type": "markdown",
   "metadata": {},
   "source": [
    "## Characters\n",
    "\n",
    "### Dialogic weight"
   ]
  },
  {
   "cell_type": "code",
   "execution_count": 56,
   "metadata": {},
   "outputs": [
    {
     "data": {
      "text/html": [
       "<div>\n",
       "<style scoped>\n",
       "    .dataframe tbody tr th:only-of-type {\n",
       "        vertical-align: middle;\n",
       "    }\n",
       "\n",
       "    .dataframe tbody tr th {\n",
       "        vertical-align: top;\n",
       "    }\n",
       "\n",
       "    .dataframe thead th {\n",
       "        text-align: right;\n",
       "    }\n",
       "</style>\n",
       "<table border=\"1\" class=\"dataframe\">\n",
       "  <thead>\n",
       "    <tr style=\"text-align: right;\">\n",
       "      <th></th>\n",
       "      <th>name</th>\n",
       "      <th>date</th>\n",
       "      <th>period</th>\n",
       "      <th>characters</th>\n",
       "      <th>verses</th>\n",
       "      <th>cues</th>\n",
       "      <th>scenes</th>\n",
       "      <th>breaking_verses</th>\n",
       "      <th>tei</th>\n",
       "      <th>genre</th>\n",
       "      <th>genre4</th>\n",
       "      <th>vivacity</th>\n",
       "      <th>breaking_verses_ratio</th>\n",
       "    </tr>\n",
       "  </thead>\n",
       "  <tbody>\n",
       "    <tr>\n",
       "      <th>0</th>\n",
       "      <td>corneillep-melite-33</td>\n",
       "      <td>1642</td>\n",
       "      <td>1</td>\n",
       "      <td>8</td>\n",
       "      <td>2020</td>\n",
       "      <td>510</td>\n",
       "      <td>37</td>\n",
       "      <td>97</td>\n",
       "      <td>&lt;TEI xmlns=\"http://www.tei-c.org/ns/1.0\" xml:l...</td>\n",
       "      <td>comedy</td>\n",
       "      <td>comedy</td>\n",
       "      <td>0.252475</td>\n",
       "      <td>0.190196</td>\n",
       "    </tr>\n",
       "    <tr>\n",
       "      <th>1</th>\n",
       "      <td>corneillep-veuve-34</td>\n",
       "      <td>1634</td>\n",
       "      <td>2</td>\n",
       "      <td>12</td>\n",
       "      <td>2350</td>\n",
       "      <td>521</td>\n",
       "      <td>40</td>\n",
       "      <td>97</td>\n",
       "      <td>&lt;TEI xmlns=\"http://www.tei-c.org/ns/1.0\" xml:l...</td>\n",
       "      <td>comedy</td>\n",
       "      <td>comedy</td>\n",
       "      <td>0.221702</td>\n",
       "      <td>0.186180</td>\n",
       "    </tr>\n",
       "    <tr>\n",
       "      <th>2</th>\n",
       "      <td>corneillep-galerie-du-palais</td>\n",
       "      <td>1633</td>\n",
       "      <td>2</td>\n",
       "      <td>12</td>\n",
       "      <td>1794</td>\n",
       "      <td>517</td>\n",
       "      <td>54</td>\n",
       "      <td>65</td>\n",
       "      <td>&lt;TEI xmlns=\"http://www.tei-c.org/ns/1.0\" xml:l...</td>\n",
       "      <td>comedy</td>\n",
       "      <td>comedy</td>\n",
       "      <td>0.288183</td>\n",
       "      <td>0.125725</td>\n",
       "    </tr>\n",
       "    <tr>\n",
       "      <th>3</th>\n",
       "      <td>corneillep-suivante</td>\n",
       "      <td>1634</td>\n",
       "      <td>2</td>\n",
       "      <td>10</td>\n",
       "      <td>1706</td>\n",
       "      <td>410</td>\n",
       "      <td>47</td>\n",
       "      <td>50</td>\n",
       "      <td>&lt;TEI xmlns=\"http://www.tei-c.org/ns/1.0\" xml:l...</td>\n",
       "      <td>comedy</td>\n",
       "      <td>comedy</td>\n",
       "      <td>0.240328</td>\n",
       "      <td>0.121951</td>\n",
       "    </tr>\n",
       "    <tr>\n",
       "      <th>4</th>\n",
       "      <td>corneillep-place-royale</td>\n",
       "      <td>1634</td>\n",
       "      <td>2</td>\n",
       "      <td>8</td>\n",
       "      <td>1529</td>\n",
       "      <td>274</td>\n",
       "      <td>36</td>\n",
       "      <td>53</td>\n",
       "      <td>&lt;TEI xmlns=\"http://www.tei-c.org/ns/1.0\" xml:l...</td>\n",
       "      <td>comedy</td>\n",
       "      <td>comedy</td>\n",
       "      <td>0.179202</td>\n",
       "      <td>0.193431</td>\n",
       "    </tr>\n",
       "  </tbody>\n",
       "</table>\n",
       "</div>"
      ],
      "text/plain": [
       "                           name  date  period  characters  verses  cues  \\\n",
       "0          corneillep-melite-33  1642       1           8    2020   510   \n",
       "1           corneillep-veuve-34  1634       2          12    2350   521   \n",
       "2  corneillep-galerie-du-palais  1633       2          12    1794   517   \n",
       "3           corneillep-suivante  1634       2          10    1706   410   \n",
       "4       corneillep-place-royale  1634       2           8    1529   274   \n",
       "\n",
       "   scenes  breaking_verses                                                tei  \\\n",
       "0      37               97  <TEI xmlns=\"http://www.tei-c.org/ns/1.0\" xml:l...   \n",
       "1      40               97  <TEI xmlns=\"http://www.tei-c.org/ns/1.0\" xml:l...   \n",
       "2      54               65  <TEI xmlns=\"http://www.tei-c.org/ns/1.0\" xml:l...   \n",
       "3      47               50  <TEI xmlns=\"http://www.tei-c.org/ns/1.0\" xml:l...   \n",
       "4      36               53  <TEI xmlns=\"http://www.tei-c.org/ns/1.0\" xml:l...   \n",
       "\n",
       "    genre  genre4  vivacity  breaking_verses_ratio  \n",
       "0  comedy  comedy  0.252475               0.190196  \n",
       "1  comedy  comedy  0.221702               0.186180  \n",
       "2  comedy  comedy  0.288183               0.125725  \n",
       "3  comedy  comedy  0.240328               0.121951  \n",
       "4  comedy  comedy  0.179202               0.193431  "
      ]
     },
     "execution_count": 56,
     "metadata": {},
     "output_type": "execute_result"
    }
   ],
   "source": [
    "df_plays.head()"
   ]
  },
  {
   "cell_type": "code",
   "execution_count": 110,
   "metadata": {
    "scrolled": true
   },
   "outputs": [
    {
     "name": "stderr",
     "output_type": "stream",
     "text": [
      "100%|██████████████████████████████████████████████████████████████████████████████████████████████████████████████████████████████████████████████████████████████████████| 26/26 [00:05<00:00,  4.46it/s]\n"
     ]
    }
   ],
   "source": [
    "characters_df_list = []\n",
    "for play in tqdm(df_plays.values):\n",
    "    chars = []\n",
    "    soup = BeautifulSoup(play[8], 'lxml')\n",
    "    for pers_tag in soup.find_all('person'):\n",
    "        chars.append({\n",
    "            'char_id': pers_tag['xml:id'],\n",
    "            'play': play[0],\n",
    "            'genre': play[9],\n",
    "            'period': play[2],\n",
    "        })\n",
    "    for sp_tag in soup.find_all('sp'):\n",
    "        who = sp_tag['who'][1:]\n",
    "        who_dict = next(item for item in chars if item[\"char_id\"] == who)\n",
    "        if 'cue_amount' in who_dict:\n",
    "            who_dict['cue_amount'] += 1\n",
    "        else:\n",
    "            who_dict['cue_amount'] = 1\n",
    "        for l in sp_tag.find_all('l'):\n",
    "            if 'verse_amount' in who_dict:\n",
    "                who_dict['verse_amount'] += 1\n",
    "            else:\n",
    "                who_dict['verse_amount'] = 1\n",
    "    characters_df_list.extend(chars)"
   ]
  },
  {
   "cell_type": "code",
   "execution_count": 111,
   "metadata": {},
   "outputs": [],
   "source": [
    "df_characters = pd.DataFrame(characters_df_list)"
   ]
  },
  {
   "cell_type": "code",
   "execution_count": 112,
   "metadata": {},
   "outputs": [],
   "source": [
    "df_characters_sum = df_characters.groupby('play').sum()"
   ]
  },
  {
   "cell_type": "code",
   "execution_count": 113,
   "metadata": {},
   "outputs": [],
   "source": [
    "def dialogue_weight(playname, cue_amnt, verse_amnt):\n",
    "    cue_percentage = cue_amnt / df_characters_sum['cue_amount'][playname]\n",
    "    verse_percentage = verse_amnt / df_characters_sum['verse_amount'][playname]\n",
    "    return (cue_percentage + verse_percentage) / 2"
   ]
  },
  {
   "cell_type": "code",
   "execution_count": 114,
   "metadata": {},
   "outputs": [],
   "source": [
    "df_characters['dialogue_weight'] = df_characters.apply(lambda x: dialogue_weight(x.play, x.cue_amount, x.verse_amount), axis=1)"
   ]
  },
  {
   "cell_type": "code",
   "execution_count": 115,
   "metadata": {},
   "outputs": [
    {
     "data": {
      "text/html": [
       "<div>\n",
       "<style scoped>\n",
       "    .dataframe tbody tr th:only-of-type {\n",
       "        vertical-align: middle;\n",
       "    }\n",
       "\n",
       "    .dataframe tbody tr th {\n",
       "        vertical-align: top;\n",
       "    }\n",
       "\n",
       "    .dataframe thead th {\n",
       "        text-align: right;\n",
       "    }\n",
       "</style>\n",
       "<table border=\"1\" class=\"dataframe\">\n",
       "  <thead>\n",
       "    <tr style=\"text-align: right;\">\n",
       "      <th></th>\n",
       "      <th>char_id</th>\n",
       "      <th>play</th>\n",
       "      <th>genre</th>\n",
       "      <th>period</th>\n",
       "      <th>cue_amount</th>\n",
       "      <th>verse_amount</th>\n",
       "      <th>dialogue_weight</th>\n",
       "    </tr>\n",
       "  </thead>\n",
       "  <tbody>\n",
       "    <tr>\n",
       "      <th>116</th>\n",
       "      <td>sabine</td>\n",
       "      <td>corneillep-horace</td>\n",
       "      <td>tragedy</td>\n",
       "      <td>3</td>\n",
       "      <td>28</td>\n",
       "      <td>375</td>\n",
       "      <td>0.175871</td>\n",
       "    </tr>\n",
       "    <tr>\n",
       "      <th>117</th>\n",
       "      <td>julie</td>\n",
       "      <td>corneillep-horace</td>\n",
       "      <td>tragedy</td>\n",
       "      <td>3</td>\n",
       "      <td>24</td>\n",
       "      <td>137</td>\n",
       "      <td>0.099743</td>\n",
       "    </tr>\n",
       "    <tr>\n",
       "      <th>118</th>\n",
       "      <td>camille</td>\n",
       "      <td>corneillep-horace</td>\n",
       "      <td>tragedy</td>\n",
       "      <td>3</td>\n",
       "      <td>38</td>\n",
       "      <td>298</td>\n",
       "      <td>0.180350</td>\n",
       "    </tr>\n",
       "    <tr>\n",
       "      <th>119</th>\n",
       "      <td>curiace</td>\n",
       "      <td>corneillep-horace</td>\n",
       "      <td>tragedy</td>\n",
       "      <td>3</td>\n",
       "      <td>25</td>\n",
       "      <td>227</td>\n",
       "      <td>0.127210</td>\n",
       "    </tr>\n",
       "    <tr>\n",
       "      <th>120</th>\n",
       "      <td>horace</td>\n",
       "      <td>corneillep-horace</td>\n",
       "      <td>tragedy</td>\n",
       "      <td>3</td>\n",
       "      <td>23</td>\n",
       "      <td>251</td>\n",
       "      <td>0.128692</td>\n",
       "    </tr>\n",
       "    <tr>\n",
       "      <th>121</th>\n",
       "      <td>flavian</td>\n",
       "      <td>corneillep-horace</td>\n",
       "      <td>tragedy</td>\n",
       "      <td>3</td>\n",
       "      <td>5</td>\n",
       "      <td>9</td>\n",
       "      <td>0.015376</td>\n",
       "    </tr>\n",
       "    <tr>\n",
       "      <th>122</th>\n",
       "      <td>le-vieil-horace</td>\n",
       "      <td>corneillep-horace</td>\n",
       "      <td>tragedy</td>\n",
       "      <td>3</td>\n",
       "      <td>30</td>\n",
       "      <td>293</td>\n",
       "      <td>0.158348</td>\n",
       "    </tr>\n",
       "    <tr>\n",
       "      <th>123</th>\n",
       "      <td>valere</td>\n",
       "      <td>corneillep-horace</td>\n",
       "      <td>tragedy</td>\n",
       "      <td>3</td>\n",
       "      <td>14</td>\n",
       "      <td>131</td>\n",
       "      <td>0.072310</td>\n",
       "    </tr>\n",
       "    <tr>\n",
       "      <th>124</th>\n",
       "      <td>procule</td>\n",
       "      <td>corneillep-horace</td>\n",
       "      <td>tragedy</td>\n",
       "      <td>3</td>\n",
       "      <td>2</td>\n",
       "      <td>2</td>\n",
       "      <td>0.005708</td>\n",
       "    </tr>\n",
       "    <tr>\n",
       "      <th>125</th>\n",
       "      <td>tulle</td>\n",
       "      <td>corneillep-horace</td>\n",
       "      <td>tragedy</td>\n",
       "      <td>3</td>\n",
       "      <td>5</td>\n",
       "      <td>85</td>\n",
       "      <td>0.036393</td>\n",
       "    </tr>\n",
       "  </tbody>\n",
       "</table>\n",
       "</div>"
      ],
      "text/plain": [
       "             char_id               play    genre  period  cue_amount  \\\n",
       "116           sabine  corneillep-horace  tragedy       3          28   \n",
       "117            julie  corneillep-horace  tragedy       3          24   \n",
       "118          camille  corneillep-horace  tragedy       3          38   \n",
       "119          curiace  corneillep-horace  tragedy       3          25   \n",
       "120           horace  corneillep-horace  tragedy       3          23   \n",
       "121          flavian  corneillep-horace  tragedy       3           5   \n",
       "122  le-vieil-horace  corneillep-horace  tragedy       3          30   \n",
       "123           valere  corneillep-horace  tragedy       3          14   \n",
       "124          procule  corneillep-horace  tragedy       3           2   \n",
       "125            tulle  corneillep-horace  tragedy       3           5   \n",
       "\n",
       "     verse_amount  dialogue_weight  \n",
       "116           375         0.175871  \n",
       "117           137         0.099743  \n",
       "118           298         0.180350  \n",
       "119           227         0.127210  \n",
       "120           251         0.128692  \n",
       "121             9         0.015376  \n",
       "122           293         0.158348  \n",
       "123           131         0.072310  \n",
       "124             2         0.005708  \n",
       "125            85         0.036393  "
      ]
     },
     "execution_count": 115,
     "metadata": {},
     "output_type": "execute_result"
    }
   ],
   "source": [
    "df_characters[df_characters.play == 'corneillep-horace']"
   ]
  },
  {
   "cell_type": "code",
   "execution_count": 116,
   "metadata": {},
   "outputs": [],
   "source": [
    "dialogue_weight_quantiles = df_characters['dialogue_weight'].quantile([0.25,0.5,0.75])"
   ]
  },
  {
   "cell_type": "code",
   "execution_count": 117,
   "metadata": {},
   "outputs": [],
   "source": [
    "def get_dialogue_weight_rank(value, quantiles):\n",
    "    if value < quantiles[0.25]:\n",
    "        return 4\n",
    "    elif quantiles[0.25] <= value < quantiles[0.5]:\n",
    "        return 3\n",
    "    elif quantiles[0.5] <= value < quantiles[0.75]:\n",
    "        return 2\n",
    "    elif value >= quantiles[0.75]:\n",
    "        return 1"
   ]
  },
  {
   "cell_type": "code",
   "execution_count": 118,
   "metadata": {},
   "outputs": [],
   "source": [
    "df_characters['dialogue_weight_cat'] = df_characters.dialogue_weight.apply(lambda x: get_dialogue_weight_rank(\n",
    "    x,\n",
    "    dialogue_weight_quantiles\n",
    "))"
   ]
  },
  {
   "cell_type": "code",
   "execution_count": 119,
   "metadata": {},
   "outputs": [
    {
     "data": {
      "text/html": [
       "<div>\n",
       "<style scoped>\n",
       "    .dataframe tbody tr th:only-of-type {\n",
       "        vertical-align: middle;\n",
       "    }\n",
       "\n",
       "    .dataframe tbody tr th {\n",
       "        vertical-align: top;\n",
       "    }\n",
       "\n",
       "    .dataframe thead th {\n",
       "        text-align: right;\n",
       "    }\n",
       "</style>\n",
       "<table border=\"1\" class=\"dataframe\">\n",
       "  <thead>\n",
       "    <tr style=\"text-align: right;\">\n",
       "      <th></th>\n",
       "      <th>char_id</th>\n",
       "      <th>play</th>\n",
       "      <th>genre</th>\n",
       "      <th>period</th>\n",
       "      <th>cue_amount</th>\n",
       "      <th>verse_amount</th>\n",
       "      <th>dialogue_weight</th>\n",
       "      <th>dialogue_weight_cat</th>\n",
       "    </tr>\n",
       "  </thead>\n",
       "  <tbody>\n",
       "    <tr>\n",
       "      <th>0</th>\n",
       "      <td>eraste</td>\n",
       "      <td>corneillep-melite-33</td>\n",
       "      <td>comedy</td>\n",
       "      <td>1</td>\n",
       "      <td>85</td>\n",
       "      <td>574</td>\n",
       "      <td>0.218903</td>\n",
       "      <td>1</td>\n",
       "    </tr>\n",
       "    <tr>\n",
       "      <th>1</th>\n",
       "      <td>tirsis</td>\n",
       "      <td>corneillep-melite-33</td>\n",
       "      <td>comedy</td>\n",
       "      <td>1</td>\n",
       "      <td>116</td>\n",
       "      <td>494</td>\n",
       "      <td>0.230400</td>\n",
       "      <td>1</td>\n",
       "    </tr>\n",
       "    <tr>\n",
       "      <th>2</th>\n",
       "      <td>melite</td>\n",
       "      <td>corneillep-melite-33</td>\n",
       "      <td>comedy</td>\n",
       "      <td>1</td>\n",
       "      <td>77</td>\n",
       "      <td>204</td>\n",
       "      <td>0.123672</td>\n",
       "      <td>2</td>\n",
       "    </tr>\n",
       "    <tr>\n",
       "      <th>3</th>\n",
       "      <td>philandre</td>\n",
       "      <td>corneillep-melite-33</td>\n",
       "      <td>comedy</td>\n",
       "      <td>1</td>\n",
       "      <td>73</td>\n",
       "      <td>281</td>\n",
       "      <td>0.137936</td>\n",
       "      <td>2</td>\n",
       "    </tr>\n",
       "    <tr>\n",
       "      <th>4</th>\n",
       "      <td>cloris</td>\n",
       "      <td>corneillep-melite-33</td>\n",
       "      <td>comedy</td>\n",
       "      <td>1</td>\n",
       "      <td>95</td>\n",
       "      <td>347</td>\n",
       "      <td>0.175093</td>\n",
       "      <td>1</td>\n",
       "    </tr>\n",
       "    <tr>\n",
       "      <th>...</th>\n",
       "      <td>...</td>\n",
       "      <td>...</td>\n",
       "      <td>...</td>\n",
       "      <td>...</td>\n",
       "      <td>...</td>\n",
       "      <td>...</td>\n",
       "      <td>...</td>\n",
       "      <td>...</td>\n",
       "    </tr>\n",
       "    <tr>\n",
       "      <th>251</th>\n",
       "      <td>palmis</td>\n",
       "      <td>corneillep-surena</td>\n",
       "      <td>tragedy</td>\n",
       "      <td>4</td>\n",
       "      <td>69</td>\n",
       "      <td>287</td>\n",
       "      <td>0.184481</td>\n",
       "      <td>1</td>\n",
       "    </tr>\n",
       "    <tr>\n",
       "      <th>252</th>\n",
       "      <td>surena</td>\n",
       "      <td>corneillep-surena</td>\n",
       "      <td>tragedy</td>\n",
       "      <td>4</td>\n",
       "      <td>46</td>\n",
       "      <td>314</td>\n",
       "      <td>0.156743</td>\n",
       "      <td>2</td>\n",
       "    </tr>\n",
       "    <tr>\n",
       "      <th>253</th>\n",
       "      <td>pacorus</td>\n",
       "      <td>corneillep-surena</td>\n",
       "      <td>tragedy</td>\n",
       "      <td>4</td>\n",
       "      <td>53</td>\n",
       "      <td>289</td>\n",
       "      <td>0.160566</td>\n",
       "      <td>1</td>\n",
       "    </tr>\n",
       "    <tr>\n",
       "      <th>254</th>\n",
       "      <td>sillace</td>\n",
       "      <td>corneillep-surena</td>\n",
       "      <td>tragedy</td>\n",
       "      <td>4</td>\n",
       "      <td>4</td>\n",
       "      <td>26</td>\n",
       "      <td>0.013271</td>\n",
       "      <td>4</td>\n",
       "    </tr>\n",
       "    <tr>\n",
       "      <th>255</th>\n",
       "      <td>orode</td>\n",
       "      <td>corneillep-surena</td>\n",
       "      <td>tragedy</td>\n",
       "      <td>4</td>\n",
       "      <td>34</td>\n",
       "      <td>271</td>\n",
       "      <td>0.126561</td>\n",
       "      <td>2</td>\n",
       "    </tr>\n",
       "  </tbody>\n",
       "</table>\n",
       "<p>256 rows × 8 columns</p>\n",
       "</div>"
      ],
      "text/plain": [
       "       char_id                  play    genre  period  cue_amount  \\\n",
       "0       eraste  corneillep-melite-33   comedy       1          85   \n",
       "1       tirsis  corneillep-melite-33   comedy       1         116   \n",
       "2       melite  corneillep-melite-33   comedy       1          77   \n",
       "3    philandre  corneillep-melite-33   comedy       1          73   \n",
       "4       cloris  corneillep-melite-33   comedy       1          95   \n",
       "..         ...                   ...      ...     ...         ...   \n",
       "251     palmis     corneillep-surena  tragedy       4          69   \n",
       "252     surena     corneillep-surena  tragedy       4          46   \n",
       "253    pacorus     corneillep-surena  tragedy       4          53   \n",
       "254    sillace     corneillep-surena  tragedy       4           4   \n",
       "255      orode     corneillep-surena  tragedy       4          34   \n",
       "\n",
       "     verse_amount  dialogue_weight  dialogue_weight_cat  \n",
       "0             574         0.218903                    1  \n",
       "1             494         0.230400                    1  \n",
       "2             204         0.123672                    2  \n",
       "3             281         0.137936                    2  \n",
       "4             347         0.175093                    1  \n",
       "..            ...              ...                  ...  \n",
       "251           287         0.184481                    1  \n",
       "252           314         0.156743                    2  \n",
       "253           289         0.160566                    1  \n",
       "254            26         0.013271                    4  \n",
       "255           271         0.126561                    2  \n",
       "\n",
       "[256 rows x 8 columns]"
      ]
     },
     "execution_count": 119,
     "metadata": {},
     "output_type": "execute_result"
    }
   ],
   "source": [
    "df_characters"
   ]
  },
  {
   "cell_type": "code",
   "execution_count": 120,
   "metadata": {},
   "outputs": [],
   "source": [
    "genre_to_weight = df_characters.groupby(['genre', 'dialogue_weight_cat']).count()['play']"
   ]
  },
  {
   "cell_type": "code",
   "execution_count": 121,
   "metadata": {},
   "outputs": [
    {
     "data": {
      "text/plain": [
       "genre   dialogue_weight_cat\n",
       "comedy  1                      0.253165\n",
       "        2                      0.227848\n",
       "        3                      0.265823\n",
       "        4                      0.253165\n",
       "Name: play, dtype: float64"
      ]
     },
     "execution_count": 121,
     "metadata": {},
     "output_type": "execute_result"
    }
   ],
   "source": [
    "genre_to_weight[:4] / genre_to_weight[:4].sum()"
   ]
  },
  {
   "cell_type": "code",
   "execution_count": 122,
   "metadata": {
    "scrolled": true
   },
   "outputs": [
    {
     "data": {
      "text/plain": [
       "genre    dialogue_weight_cat\n",
       "tragedy  1                      0.248588\n",
       "         2                      0.259887\n",
       "         3                      0.242938\n",
       "         4                      0.248588\n",
       "Name: play, dtype: float64"
      ]
     },
     "execution_count": 122,
     "metadata": {},
     "output_type": "execute_result"
    }
   ],
   "source": [
    "genre_to_weight[4:] / genre_to_weight[4:].sum()"
   ]
  },
  {
   "cell_type": "markdown",
   "metadata": {},
   "source": [
    "### Social classes"
   ]
  },
  {
   "cell_type": "code",
   "execution_count": 135,
   "metadata": {
    "scrolled": true
   },
   "outputs": [],
   "source": [
    "social_characters_df = pd.read_csv('data/character_social_types.tsv', sep='\\t', header=None)"
   ]
  },
  {
   "cell_type": "code",
   "execution_count": 136,
   "metadata": {},
   "outputs": [
    {
     "data": {
      "text/html": [
       "<div>\n",
       "<style scoped>\n",
       "    .dataframe tbody tr th:only-of-type {\n",
       "        vertical-align: middle;\n",
       "    }\n",
       "\n",
       "    .dataframe tbody tr th {\n",
       "        vertical-align: top;\n",
       "    }\n",
       "\n",
       "    .dataframe thead th {\n",
       "        text-align: right;\n",
       "    }\n",
       "</style>\n",
       "<table border=\"1\" class=\"dataframe\">\n",
       "  <thead>\n",
       "    <tr style=\"text-align: right;\">\n",
       "      <th></th>\n",
       "      <th>0</th>\n",
       "      <th>1</th>\n",
       "    </tr>\n",
       "  </thead>\n",
       "  <tbody>\n",
       "    <tr>\n",
       "      <th>0</th>\n",
       "      <td>affranchi</td>\n",
       "      <td>2</td>\n",
       "    </tr>\n",
       "    <tr>\n",
       "      <th>1</th>\n",
       "      <td>allégorie</td>\n",
       "      <td>3</td>\n",
       "    </tr>\n",
       "    <tr>\n",
       "      <th>2</th>\n",
       "      <td>ambassadeur</td>\n",
       "      <td>1</td>\n",
       "    </tr>\n",
       "    <tr>\n",
       "      <th>3</th>\n",
       "      <td>archer</td>\n",
       "      <td>2</td>\n",
       "    </tr>\n",
       "    <tr>\n",
       "      <th>4</th>\n",
       "      <td>aristocrate</td>\n",
       "      <td>1</td>\n",
       "    </tr>\n",
       "  </tbody>\n",
       "</table>\n",
       "</div>"
      ],
      "text/plain": [
       "             0  1\n",
       "0    affranchi  2\n",
       "1    allégorie  3\n",
       "2  ambassadeur  1\n",
       "3       archer  2\n",
       "4  aristocrate  1"
      ]
     },
     "execution_count": 136,
     "metadata": {},
     "output_type": "execute_result"
    }
   ],
   "source": [
    "social_characters_df.head()"
   ]
  },
  {
   "cell_type": "code",
   "execution_count": 137,
   "metadata": {},
   "outputs": [],
   "source": [
    "social_characters_dict = {elem[0]: elem[1] for elem in social_characters_df.values}"
   ]
  },
  {
   "cell_type": "code",
   "execution_count": 138,
   "metadata": {},
   "outputs": [],
   "source": [
    "from dracoranalysis import map_characters_to_social"
   ]
  },
  {
   "cell_type": "code",
   "execution_count": 139,
   "metadata": {},
   "outputs": [],
   "source": [
    "social_stati_count_list = []\n",
    "for play in plays_dict:\n",
    "    social_stati_count_list.append({**map_characters_to_social(plays_dict[play], social_characters_dict, source=False), **{'name': play}})"
   ]
  },
  {
   "cell_type": "code",
   "execution_count": 140,
   "metadata": {
    "scrolled": true
   },
   "outputs": [
    {
     "data": {
      "text/html": [
       "<div>\n",
       "<style scoped>\n",
       "    .dataframe tbody tr th:only-of-type {\n",
       "        vertical-align: middle;\n",
       "    }\n",
       "\n",
       "    .dataframe tbody tr th {\n",
       "        vertical-align: top;\n",
       "    }\n",
       "\n",
       "    .dataframe thead th {\n",
       "        text-align: right;\n",
       "    }\n",
       "</style>\n",
       "<table border=\"1\" class=\"dataframe\">\n",
       "  <thead>\n",
       "    <tr style=\"text-align: right;\">\n",
       "      <th></th>\n",
       "      <th>social_2_character_amount</th>\n",
       "      <th>social_0_character_amount</th>\n",
       "      <th>social_1_character_amount</th>\n",
       "      <th>social_3_character_amount</th>\n",
       "      <th>name</th>\n",
       "    </tr>\n",
       "  </thead>\n",
       "  <tbody>\n",
       "    <tr>\n",
       "      <th>0</th>\n",
       "      <td>8</td>\n",
       "      <td>0</td>\n",
       "      <td>0</td>\n",
       "      <td>0</td>\n",
       "      <td>corneillep-melite-33</td>\n",
       "    </tr>\n",
       "    <tr>\n",
       "      <th>1</th>\n",
       "      <td>6</td>\n",
       "      <td>0</td>\n",
       "      <td>6</td>\n",
       "      <td>0</td>\n",
       "      <td>corneillep-veuve-34</td>\n",
       "    </tr>\n",
       "    <tr>\n",
       "      <th>2</th>\n",
       "      <td>6</td>\n",
       "      <td>0</td>\n",
       "      <td>6</td>\n",
       "      <td>0</td>\n",
       "      <td>corneillep-galerie-du-palais</td>\n",
       "    </tr>\n",
       "    <tr>\n",
       "      <th>3</th>\n",
       "      <td>3</td>\n",
       "      <td>0</td>\n",
       "      <td>7</td>\n",
       "      <td>0</td>\n",
       "      <td>corneillep-suivante</td>\n",
       "    </tr>\n",
       "    <tr>\n",
       "      <th>4</th>\n",
       "      <td>2</td>\n",
       "      <td>0</td>\n",
       "      <td>6</td>\n",
       "      <td>0</td>\n",
       "      <td>corneillep-place-royale</td>\n",
       "    </tr>\n",
       "  </tbody>\n",
       "</table>\n",
       "</div>"
      ],
      "text/plain": [
       "   social_2_character_amount  social_0_character_amount  \\\n",
       "0                          8                          0   \n",
       "1                          6                          0   \n",
       "2                          6                          0   \n",
       "3                          3                          0   \n",
       "4                          2                          0   \n",
       "\n",
       "   social_1_character_amount  social_3_character_amount  \\\n",
       "0                          0                          0   \n",
       "1                          6                          0   \n",
       "2                          6                          0   \n",
       "3                          7                          0   \n",
       "4                          6                          0   \n",
       "\n",
       "                           name  \n",
       "0          corneillep-melite-33  \n",
       "1           corneillep-veuve-34  \n",
       "2  corneillep-galerie-du-palais  \n",
       "3           corneillep-suivante  \n",
       "4       corneillep-place-royale  "
      ]
     },
     "execution_count": 140,
     "metadata": {},
     "output_type": "execute_result"
    }
   ],
   "source": [
    "pd.DataFrame(social_stati_count_list).head()"
   ]
  },
  {
   "cell_type": "code",
   "execution_count": 141,
   "metadata": {},
   "outputs": [],
   "source": [
    "df_plays_with_stati = pd.merge(df_plays, pd.DataFrame(social_stati_count_list), on='name')"
   ]
  },
  {
   "cell_type": "code",
   "execution_count": 142,
   "metadata": {
    "scrolled": true
   },
   "outputs": [],
   "source": [
    "plays_social_speech_dict = {}\n",
    "for play in plays_dict:\n",
    "    role_ids_and_social_dict = {}\n",
    "    missed_ids = []\n",
    "    play_social_speech = {\n",
    "        0: [],\n",
    "        1: [],\n",
    "        2: [],\n",
    "        3: [],\n",
    "    }\n",
    "    cast = plays_dict[play].find_all('castitem')\n",
    "    for castitem_tag in cast:\n",
    "        properties = castitem_tag(text=lambda text: isinstance(text, Comment))\n",
    "        role_id = castitem_tag.find('role')['corresp']\n",
    "        if 'statut' in properties[2]:\n",
    "            statut = properties[2].split('=')[1].strip('\"')\n",
    "            statut_number = social_characters_dict[statut]\n",
    "        role_ids_and_social_dict[role_id] = statut_number\n",
    "    for sp_tag in plays_dict[play].find_all('sp'):\n",
    "        try:\n",
    "            play_social_speech[role_ids_and_social_dict[sp_tag['who']]].extend(sp_tag.find_all('l'))\n",
    "        except KeyError:\n",
    "            if sp_tag['who'] not in missed_ids:\n",
    "                with open('data/tmp/key_mismatch.tsv', 'a', encoding='utf-8') as fw:\n",
    "                    fw.write(f'{play}\\t{sp_tag[\"who\"]}\\t{\"+\".join(role_ids_and_social_dict.keys())}\\n')\n",
    "                missed_ids.append(sp_tag['who'])\n",
    "    plays_social_speech_dict[play] = play_social_speech"
   ]
  },
  {
   "cell_type": "code",
   "execution_count": 143,
   "metadata": {},
   "outputs": [],
   "source": [
    "plays_social_speech_proportions = {}\n",
    "for play in plays_social_speech_dict:\n",
    "    plays_social_speech_proportions[play] = {}\n",
    "    for key in plays_social_speech_dict[play]:\n",
    "        plays_social_speech_proportions[play][f'social_{key}_lines'] = len(plays_social_speech_dict[play][key])"
   ]
  },
  {
   "cell_type": "code",
   "execution_count": 144,
   "metadata": {},
   "outputs": [],
   "source": [
    "df_line_quantity = pd.DataFrame.from_dict(plays_social_speech_proportions).T\n",
    "df_line_proportions = df_line_quantity.div(df_line_quantity.sum(axis=1), axis=0)"
   ]
  },
  {
   "cell_type": "code",
   "execution_count": 145,
   "metadata": {},
   "outputs": [
    {
     "data": {
      "text/html": [
       "<div>\n",
       "<style scoped>\n",
       "    .dataframe tbody tr th:only-of-type {\n",
       "        vertical-align: middle;\n",
       "    }\n",
       "\n",
       "    .dataframe tbody tr th {\n",
       "        vertical-align: top;\n",
       "    }\n",
       "\n",
       "    .dataframe thead th {\n",
       "        text-align: right;\n",
       "    }\n",
       "</style>\n",
       "<table border=\"1\" class=\"dataframe\">\n",
       "  <thead>\n",
       "    <tr style=\"text-align: right;\">\n",
       "      <th></th>\n",
       "      <th>index</th>\n",
       "      <th>social_0_lines</th>\n",
       "      <th>social_1_lines</th>\n",
       "      <th>social_2_lines</th>\n",
       "      <th>social_3_lines</th>\n",
       "    </tr>\n",
       "  </thead>\n",
       "  <tbody>\n",
       "    <tr>\n",
       "      <th>0</th>\n",
       "      <td>corneillep-melite-33</td>\n",
       "      <td>0.0</td>\n",
       "      <td>0.000000</td>\n",
       "      <td>1.000000</td>\n",
       "      <td>0.0</td>\n",
       "    </tr>\n",
       "    <tr>\n",
       "      <th>1</th>\n",
       "      <td>corneillep-veuve-34</td>\n",
       "      <td>0.0</td>\n",
       "      <td>0.958991</td>\n",
       "      <td>0.041009</td>\n",
       "      <td>0.0</td>\n",
       "    </tr>\n",
       "    <tr>\n",
       "      <th>2</th>\n",
       "      <td>corneillep-galerie-du-palais</td>\n",
       "      <td>0.0</td>\n",
       "      <td>0.827815</td>\n",
       "      <td>0.172185</td>\n",
       "      <td>0.0</td>\n",
       "    </tr>\n",
       "    <tr>\n",
       "      <th>3</th>\n",
       "      <td>corneillep-suivante</td>\n",
       "      <td>0.0</td>\n",
       "      <td>0.777714</td>\n",
       "      <td>0.222286</td>\n",
       "      <td>0.0</td>\n",
       "    </tr>\n",
       "    <tr>\n",
       "      <th>4</th>\n",
       "      <td>corneillep-place-royale</td>\n",
       "      <td>0.0</td>\n",
       "      <td>0.981037</td>\n",
       "      <td>0.018963</td>\n",
       "      <td>0.0</td>\n",
       "    </tr>\n",
       "  </tbody>\n",
       "</table>\n",
       "</div>"
      ],
      "text/plain": [
       "                          index  social_0_lines  social_1_lines  \\\n",
       "0          corneillep-melite-33             0.0        0.000000   \n",
       "1           corneillep-veuve-34             0.0        0.958991   \n",
       "2  corneillep-galerie-du-palais             0.0        0.827815   \n",
       "3           corneillep-suivante             0.0        0.777714   \n",
       "4       corneillep-place-royale             0.0        0.981037   \n",
       "\n",
       "   social_2_lines  social_3_lines  \n",
       "0        1.000000             0.0  \n",
       "1        0.041009             0.0  \n",
       "2        0.172185             0.0  \n",
       "3        0.222286             0.0  \n",
       "4        0.018963             0.0  "
      ]
     },
     "execution_count": 145,
     "metadata": {},
     "output_type": "execute_result"
    }
   ],
   "source": [
    "df_line_proportions.reset_index().head()"
   ]
  },
  {
   "cell_type": "code",
   "execution_count": 146,
   "metadata": {},
   "outputs": [],
   "source": [
    "df_plays = pd.merge(df_plays, df_line_proportions.reset_index(), left_on='name', right_on='index')"
   ]
  },
  {
   "cell_type": "code",
   "execution_count": 147,
   "metadata": {},
   "outputs": [],
   "source": [
    "df_plays = df_plays.drop('index', axis=1)"
   ]
  },
  {
   "cell_type": "code",
   "execution_count": 148,
   "metadata": {
    "scrolled": false
   },
   "outputs": [
    {
     "data": {
      "text/html": [
       "<div>\n",
       "<style scoped>\n",
       "    .dataframe tbody tr th:only-of-type {\n",
       "        vertical-align: middle;\n",
       "    }\n",
       "\n",
       "    .dataframe tbody tr th {\n",
       "        vertical-align: top;\n",
       "    }\n",
       "\n",
       "    .dataframe thead th {\n",
       "        text-align: right;\n",
       "    }\n",
       "</style>\n",
       "<table border=\"1\" class=\"dataframe\">\n",
       "  <thead>\n",
       "    <tr style=\"text-align: right;\">\n",
       "      <th></th>\n",
       "      <th>name</th>\n",
       "      <th>date</th>\n",
       "      <th>period</th>\n",
       "      <th>characters</th>\n",
       "      <th>verses</th>\n",
       "      <th>cues</th>\n",
       "      <th>scenes</th>\n",
       "      <th>breaking_verses</th>\n",
       "      <th>tei</th>\n",
       "      <th>genre</th>\n",
       "      <th>genre4</th>\n",
       "      <th>vivacity</th>\n",
       "      <th>breaking_verses_ratio</th>\n",
       "      <th>social_0_lines</th>\n",
       "      <th>social_1_lines</th>\n",
       "      <th>social_2_lines</th>\n",
       "      <th>social_3_lines</th>\n",
       "    </tr>\n",
       "  </thead>\n",
       "  <tbody>\n",
       "    <tr>\n",
       "      <th>0</th>\n",
       "      <td>corneillep-melite-33</td>\n",
       "      <td>1642</td>\n",
       "      <td>1</td>\n",
       "      <td>8</td>\n",
       "      <td>2020</td>\n",
       "      <td>510</td>\n",
       "      <td>37</td>\n",
       "      <td>97</td>\n",
       "      <td>&lt;TEI xmlns=\"http://www.tei-c.org/ns/1.0\" xml:l...</td>\n",
       "      <td>comedy</td>\n",
       "      <td>comedy</td>\n",
       "      <td>0.252475</td>\n",
       "      <td>0.190196</td>\n",
       "      <td>0.0</td>\n",
       "      <td>0.000000</td>\n",
       "      <td>1.000000</td>\n",
       "      <td>0.0</td>\n",
       "    </tr>\n",
       "    <tr>\n",
       "      <th>1</th>\n",
       "      <td>corneillep-veuve-34</td>\n",
       "      <td>1634</td>\n",
       "      <td>2</td>\n",
       "      <td>12</td>\n",
       "      <td>2350</td>\n",
       "      <td>521</td>\n",
       "      <td>40</td>\n",
       "      <td>97</td>\n",
       "      <td>&lt;TEI xmlns=\"http://www.tei-c.org/ns/1.0\" xml:l...</td>\n",
       "      <td>comedy</td>\n",
       "      <td>comedy</td>\n",
       "      <td>0.221702</td>\n",
       "      <td>0.186180</td>\n",
       "      <td>0.0</td>\n",
       "      <td>0.958991</td>\n",
       "      <td>0.041009</td>\n",
       "      <td>0.0</td>\n",
       "    </tr>\n",
       "    <tr>\n",
       "      <th>2</th>\n",
       "      <td>corneillep-galerie-du-palais</td>\n",
       "      <td>1633</td>\n",
       "      <td>2</td>\n",
       "      <td>12</td>\n",
       "      <td>1794</td>\n",
       "      <td>517</td>\n",
       "      <td>54</td>\n",
       "      <td>65</td>\n",
       "      <td>&lt;TEI xmlns=\"http://www.tei-c.org/ns/1.0\" xml:l...</td>\n",
       "      <td>comedy</td>\n",
       "      <td>comedy</td>\n",
       "      <td>0.288183</td>\n",
       "      <td>0.125725</td>\n",
       "      <td>0.0</td>\n",
       "      <td>0.827815</td>\n",
       "      <td>0.172185</td>\n",
       "      <td>0.0</td>\n",
       "    </tr>\n",
       "    <tr>\n",
       "      <th>3</th>\n",
       "      <td>corneillep-suivante</td>\n",
       "      <td>1634</td>\n",
       "      <td>2</td>\n",
       "      <td>10</td>\n",
       "      <td>1706</td>\n",
       "      <td>410</td>\n",
       "      <td>47</td>\n",
       "      <td>50</td>\n",
       "      <td>&lt;TEI xmlns=\"http://www.tei-c.org/ns/1.0\" xml:l...</td>\n",
       "      <td>comedy</td>\n",
       "      <td>comedy</td>\n",
       "      <td>0.240328</td>\n",
       "      <td>0.121951</td>\n",
       "      <td>0.0</td>\n",
       "      <td>0.777714</td>\n",
       "      <td>0.222286</td>\n",
       "      <td>0.0</td>\n",
       "    </tr>\n",
       "    <tr>\n",
       "      <th>4</th>\n",
       "      <td>corneillep-place-royale</td>\n",
       "      <td>1634</td>\n",
       "      <td>2</td>\n",
       "      <td>8</td>\n",
       "      <td>1529</td>\n",
       "      <td>274</td>\n",
       "      <td>36</td>\n",
       "      <td>53</td>\n",
       "      <td>&lt;TEI xmlns=\"http://www.tei-c.org/ns/1.0\" xml:l...</td>\n",
       "      <td>comedy</td>\n",
       "      <td>comedy</td>\n",
       "      <td>0.179202</td>\n",
       "      <td>0.193431</td>\n",
       "      <td>0.0</td>\n",
       "      <td>0.981037</td>\n",
       "      <td>0.018963</td>\n",
       "      <td>0.0</td>\n",
       "    </tr>\n",
       "  </tbody>\n",
       "</table>\n",
       "</div>"
      ],
      "text/plain": [
       "                           name  date  period  characters  verses  cues  \\\n",
       "0          corneillep-melite-33  1642       1           8    2020   510   \n",
       "1           corneillep-veuve-34  1634       2          12    2350   521   \n",
       "2  corneillep-galerie-du-palais  1633       2          12    1794   517   \n",
       "3           corneillep-suivante  1634       2          10    1706   410   \n",
       "4       corneillep-place-royale  1634       2           8    1529   274   \n",
       "\n",
       "   scenes  breaking_verses                                                tei  \\\n",
       "0      37               97  <TEI xmlns=\"http://www.tei-c.org/ns/1.0\" xml:l...   \n",
       "1      40               97  <TEI xmlns=\"http://www.tei-c.org/ns/1.0\" xml:l...   \n",
       "2      54               65  <TEI xmlns=\"http://www.tei-c.org/ns/1.0\" xml:l...   \n",
       "3      47               50  <TEI xmlns=\"http://www.tei-c.org/ns/1.0\" xml:l...   \n",
       "4      36               53  <TEI xmlns=\"http://www.tei-c.org/ns/1.0\" xml:l...   \n",
       "\n",
       "    genre  genre4  vivacity  breaking_verses_ratio  social_0_lines  \\\n",
       "0  comedy  comedy  0.252475               0.190196             0.0   \n",
       "1  comedy  comedy  0.221702               0.186180             0.0   \n",
       "2  comedy  comedy  0.288183               0.125725             0.0   \n",
       "3  comedy  comedy  0.240328               0.121951             0.0   \n",
       "4  comedy  comedy  0.179202               0.193431             0.0   \n",
       "\n",
       "   social_1_lines  social_2_lines  social_3_lines  \n",
       "0        0.000000        1.000000             0.0  \n",
       "1        0.958991        0.041009             0.0  \n",
       "2        0.827815        0.172185             0.0  \n",
       "3        0.777714        0.222286             0.0  \n",
       "4        0.981037        0.018963             0.0  "
      ]
     },
     "execution_count": 148,
     "metadata": {},
     "output_type": "execute_result"
    }
   ],
   "source": [
    "df_plays.head()"
   ]
  },
  {
   "cell_type": "code",
   "execution_count": 150,
   "metadata": {
    "scrolled": false
   },
   "outputs": [
    {
     "data": {
      "text/html": [
       "<div>\n",
       "<style scoped>\n",
       "    .dataframe tbody tr th:only-of-type {\n",
       "        vertical-align: middle;\n",
       "    }\n",
       "\n",
       "    .dataframe tbody tr th {\n",
       "        vertical-align: top;\n",
       "    }\n",
       "\n",
       "    .dataframe thead th {\n",
       "        text-align: right;\n",
       "    }\n",
       "</style>\n",
       "<table border=\"1\" class=\"dataframe\">\n",
       "  <thead>\n",
       "    <tr style=\"text-align: right;\">\n",
       "      <th></th>\n",
       "      <th>social_0_lines</th>\n",
       "      <th>social_1_lines</th>\n",
       "      <th>social_2_lines</th>\n",
       "      <th>social_3_lines</th>\n",
       "    </tr>\n",
       "    <tr>\n",
       "      <th>genre4</th>\n",
       "      <th></th>\n",
       "      <th></th>\n",
       "      <th></th>\n",
       "      <th></th>\n",
       "    </tr>\n",
       "  </thead>\n",
       "  <tbody>\n",
       "    <tr>\n",
       "      <th>comedy</th>\n",
       "      <td>0.000000</td>\n",
       "      <td>0.683609</td>\n",
       "      <td>0.316391</td>\n",
       "      <td>0.000000</td>\n",
       "    </tr>\n",
       "    <tr>\n",
       "      <th>tragedy</th>\n",
       "      <td>0.177612</td>\n",
       "      <td>0.641860</td>\n",
       "      <td>0.163448</td>\n",
       "      <td>0.017081</td>\n",
       "    </tr>\n",
       "    <tr>\n",
       "      <th>tragedy4</th>\n",
       "      <td>0.335453</td>\n",
       "      <td>0.593388</td>\n",
       "      <td>0.071159</td>\n",
       "      <td>0.000000</td>\n",
       "    </tr>\n",
       "  </tbody>\n",
       "</table>\n",
       "</div>"
      ],
      "text/plain": [
       "          social_0_lines  social_1_lines  social_2_lines  social_3_lines\n",
       "genre4                                                                  \n",
       "comedy          0.000000        0.683609        0.316391        0.000000\n",
       "tragedy         0.177612        0.641860        0.163448        0.017081\n",
       "tragedy4        0.335453        0.593388        0.071159        0.000000"
      ]
     },
     "execution_count": 150,
     "metadata": {},
     "output_type": "execute_result"
    }
   ],
   "source": [
    "df_plays.groupby(['genre4']).mean()[\n",
    "    [\n",
    "        'social_0_lines',\n",
    "        'social_1_lines',\n",
    "        'social_2_lines',\n",
    "        'social_3_lines'\n",
    "    ]\n",
    "]"
   ]
  },
  {
   "cell_type": "markdown",
   "metadata": {},
   "source": [
    "## Action"
   ]
  },
  {
   "cell_type": "code",
   "execution_count": 151,
   "metadata": {},
   "outputs": [],
   "source": [
    "df_plays['mobility_rhythm'] = df_plays['scenes'] / df_plays['verses'] * 10000"
   ]
  },
  {
   "cell_type": "code",
   "execution_count": 152,
   "metadata": {},
   "outputs": [
    {
     "data": {
      "text/plain": [
       "genre\n",
       "comedy     220.548591\n",
       "tragedy    147.702720\n",
       "Name: mobility_rhythm, dtype: float64"
      ]
     },
     "execution_count": 152,
     "metadata": {},
     "output_type": "execute_result"
    }
   ],
   "source": [
    "df_plays.groupby('genre').mean()['mobility_rhythm']"
   ]
  },
  {
   "cell_type": "markdown",
   "metadata": {},
   "source": [
    "### Stage directions"
   ]
  },
  {
   "cell_type": "code",
   "execution_count": 123,
   "metadata": {},
   "outputs": [],
   "source": [
    "plays_dict = {row[0]: BeautifulSoup(row[8]) for row in df_plays.values}"
   ]
  },
  {
   "cell_type": "code",
   "execution_count": 124,
   "metadata": {},
   "outputs": [],
   "source": [
    "play_stage_directions = []\n",
    "# some dirty stage direction types have slipped through\n",
    "non_action_stage_types = ['', 'AWAY', 'C', 'GET',\"L'EMPEREUR\", 'toward', 'toward/', 'decor', 'exit', 'entrance', 'alone']\n",
    "for play in plays_dict:\n",
    "    stage_directions = []\n",
    "    soup = plays_dict[play]\n",
    "    uncommented_stage_tags = soup.find_all('stage')\n",
    "    commented_stage_tags = soup(text=lambda text: isinstance(text, Comment) and '@stage' in text)\n",
    "    for tag in uncommented_stage_tags:\n",
    "        if 'type' in tag.attrs and tag['type'] not in non_action_stage_types:\n",
    "            stage_directions.append(tag['type'])\n",
    "    for tag in commented_stage_tags:\n",
    "        if tag.split('\"')[-2] not in non_action_stage_types:\n",
    "            stage_directions.append(tag.split('\"')[-2])\n",
    "    play_stage_directions.append({'name': play, 'stage_direction_count': len(stage_directions)})\n",
    "            "
   ]
  },
  {
   "cell_type": "code",
   "execution_count": 125,
   "metadata": {
    "scrolled": true
   },
   "outputs": [
    {
     "data": {
      "text/html": [
       "<div>\n",
       "<style scoped>\n",
       "    .dataframe tbody tr th:only-of-type {\n",
       "        vertical-align: middle;\n",
       "    }\n",
       "\n",
       "    .dataframe tbody tr th {\n",
       "        vertical-align: top;\n",
       "    }\n",
       "\n",
       "    .dataframe thead th {\n",
       "        text-align: right;\n",
       "    }\n",
       "</style>\n",
       "<table border=\"1\" class=\"dataframe\">\n",
       "  <thead>\n",
       "    <tr style=\"text-align: right;\">\n",
       "      <th></th>\n",
       "      <th>name</th>\n",
       "      <th>stage_direction_count</th>\n",
       "    </tr>\n",
       "  </thead>\n",
       "  <tbody>\n",
       "    <tr>\n",
       "      <th>0</th>\n",
       "      <td>corneillep-melite-33</td>\n",
       "      <td>24</td>\n",
       "    </tr>\n",
       "    <tr>\n",
       "      <th>1</th>\n",
       "      <td>corneillep-veuve-34</td>\n",
       "      <td>10</td>\n",
       "    </tr>\n",
       "    <tr>\n",
       "      <th>2</th>\n",
       "      <td>corneillep-galerie-du-palais</td>\n",
       "      <td>0</td>\n",
       "    </tr>\n",
       "    <tr>\n",
       "      <th>3</th>\n",
       "      <td>corneillep-suivante</td>\n",
       "      <td>0</td>\n",
       "    </tr>\n",
       "    <tr>\n",
       "      <th>4</th>\n",
       "      <td>corneillep-place-royale</td>\n",
       "      <td>14</td>\n",
       "    </tr>\n",
       "    <tr>\n",
       "      <th>5</th>\n",
       "      <td>corneillep-illusion-comique</td>\n",
       "      <td>8</td>\n",
       "    </tr>\n",
       "    <tr>\n",
       "      <th>6</th>\n",
       "      <td>corneillep-menteur</td>\n",
       "      <td>21</td>\n",
       "    </tr>\n",
       "    <tr>\n",
       "      <th>7</th>\n",
       "      <td>corneillep-suite-menteur</td>\n",
       "      <td>18</td>\n",
       "    </tr>\n",
       "    <tr>\n",
       "      <th>8</th>\n",
       "      <td>corneillep-clitandre</td>\n",
       "      <td>27</td>\n",
       "    </tr>\n",
       "    <tr>\n",
       "      <th>9</th>\n",
       "      <td>corneillep-medee-39</td>\n",
       "      <td>3</td>\n",
       "    </tr>\n",
       "    <tr>\n",
       "      <th>10</th>\n",
       "      <td>corneillep-cid-37</td>\n",
       "      <td>4</td>\n",
       "    </tr>\n",
       "    <tr>\n",
       "      <th>11</th>\n",
       "      <td>corneillep-horace</td>\n",
       "      <td>3</td>\n",
       "    </tr>\n",
       "    <tr>\n",
       "      <th>12</th>\n",
       "      <td>corneillep-cinna-43</td>\n",
       "      <td>0</td>\n",
       "    </tr>\n",
       "    <tr>\n",
       "      <th>13</th>\n",
       "      <td>corneillep-polyeucte</td>\n",
       "      <td>1</td>\n",
       "    </tr>\n",
       "    <tr>\n",
       "      <th>14</th>\n",
       "      <td>corneillep-mort-pompee</td>\n",
       "      <td>1</td>\n",
       "    </tr>\n",
       "    <tr>\n",
       "      <th>15</th>\n",
       "      <td>corneillep-theodore</td>\n",
       "      <td>0</td>\n",
       "    </tr>\n",
       "    <tr>\n",
       "      <th>16</th>\n",
       "      <td>corneillep-rodogune</td>\n",
       "      <td>9</td>\n",
       "    </tr>\n",
       "    <tr>\n",
       "      <th>17</th>\n",
       "      <td>corneillep-heraclius</td>\n",
       "      <td>11</td>\n",
       "    </tr>\n",
       "    <tr>\n",
       "      <th>18</th>\n",
       "      <td>corneillep-nicomede</td>\n",
       "      <td>0</td>\n",
       "    </tr>\n",
       "    <tr>\n",
       "      <th>19</th>\n",
       "      <td>corneillep-pertharite</td>\n",
       "      <td>0</td>\n",
       "    </tr>\n",
       "    <tr>\n",
       "      <th>20</th>\n",
       "      <td>corneillep-oedipe</td>\n",
       "      <td>2</td>\n",
       "    </tr>\n",
       "    <tr>\n",
       "      <th>21</th>\n",
       "      <td>corneillep-sertorius</td>\n",
       "      <td>4</td>\n",
       "    </tr>\n",
       "    <tr>\n",
       "      <th>22</th>\n",
       "      <td>corneillep-sophonisbe</td>\n",
       "      <td>1</td>\n",
       "    </tr>\n",
       "    <tr>\n",
       "      <th>23</th>\n",
       "      <td>corneillep-othon</td>\n",
       "      <td>1</td>\n",
       "    </tr>\n",
       "    <tr>\n",
       "      <th>24</th>\n",
       "      <td>corneillep-attila</td>\n",
       "      <td>1</td>\n",
       "    </tr>\n",
       "    <tr>\n",
       "      <th>25</th>\n",
       "      <td>corneillep-surena</td>\n",
       "      <td>0</td>\n",
       "    </tr>\n",
       "  </tbody>\n",
       "</table>\n",
       "</div>"
      ],
      "text/plain": [
       "                            name  stage_direction_count\n",
       "0           corneillep-melite-33                     24\n",
       "1            corneillep-veuve-34                     10\n",
       "2   corneillep-galerie-du-palais                      0\n",
       "3            corneillep-suivante                      0\n",
       "4        corneillep-place-royale                     14\n",
       "5    corneillep-illusion-comique                      8\n",
       "6             corneillep-menteur                     21\n",
       "7       corneillep-suite-menteur                     18\n",
       "8           corneillep-clitandre                     27\n",
       "9            corneillep-medee-39                      3\n",
       "10             corneillep-cid-37                      4\n",
       "11             corneillep-horace                      3\n",
       "12           corneillep-cinna-43                      0\n",
       "13          corneillep-polyeucte                      1\n",
       "14        corneillep-mort-pompee                      1\n",
       "15           corneillep-theodore                      0\n",
       "16           corneillep-rodogune                      9\n",
       "17          corneillep-heraclius                     11\n",
       "18           corneillep-nicomede                      0\n",
       "19         corneillep-pertharite                      0\n",
       "20             corneillep-oedipe                      2\n",
       "21          corneillep-sertorius                      4\n",
       "22         corneillep-sophonisbe                      1\n",
       "23              corneillep-othon                      1\n",
       "24             corneillep-attila                      1\n",
       "25             corneillep-surena                      0"
      ]
     },
     "execution_count": 125,
     "metadata": {},
     "output_type": "execute_result"
    }
   ],
   "source": [
    "pd.DataFrame(play_stage_directions)"
   ]
  },
  {
   "cell_type": "code",
   "execution_count": 126,
   "metadata": {},
   "outputs": [],
   "source": [
    "df_plays_with_stage = df_plays.merge(\n",
    "    pd.DataFrame(play_stage_directions), on='name'\n",
    ")"
   ]
  },
  {
   "cell_type": "code",
   "execution_count": 127,
   "metadata": {},
   "outputs": [
    {
     "data": {
      "text/plain": [
       "genre\n",
       "comedy     11.875000\n",
       "tragedy     3.777778\n",
       "Name: stage_direction_count, dtype: float64"
      ]
     },
     "execution_count": 127,
     "metadata": {},
     "output_type": "execute_result"
    }
   ],
   "source": [
    "df_plays_with_stage.groupby('genre').mean()['stage_direction_count']"
   ]
  },
  {
   "cell_type": "code",
   "execution_count": 128,
   "metadata": {},
   "outputs": [],
   "source": [
    "df_plays_with_stage['stage_direction_on_verses'] = df_plays_with_stage['stage_direction_count'] / df_plays_with_stage['verses']"
   ]
  },
  {
   "cell_type": "code",
   "execution_count": 129,
   "metadata": {
    "scrolled": true
   },
   "outputs": [
    {
     "data": {
      "text/html": [
       "<div>\n",
       "<style scoped>\n",
       "    .dataframe tbody tr th:only-of-type {\n",
       "        vertical-align: middle;\n",
       "    }\n",
       "\n",
       "    .dataframe tbody tr th {\n",
       "        vertical-align: top;\n",
       "    }\n",
       "\n",
       "    .dataframe thead th {\n",
       "        text-align: right;\n",
       "    }\n",
       "</style>\n",
       "<table border=\"1\" class=\"dataframe\">\n",
       "  <thead>\n",
       "    <tr style=\"text-align: right;\">\n",
       "      <th></th>\n",
       "      <th>name</th>\n",
       "      <th>date</th>\n",
       "      <th>period</th>\n",
       "      <th>characters</th>\n",
       "      <th>verses</th>\n",
       "      <th>cues</th>\n",
       "      <th>scenes</th>\n",
       "      <th>breaking_verses</th>\n",
       "      <th>tei</th>\n",
       "      <th>genre</th>\n",
       "      <th>genre4</th>\n",
       "      <th>vivacity</th>\n",
       "      <th>breaking_verses_ratio</th>\n",
       "      <th>stage_direction_count</th>\n",
       "      <th>stage_direction_on_verses</th>\n",
       "    </tr>\n",
       "  </thead>\n",
       "  <tbody>\n",
       "    <tr>\n",
       "      <th>0</th>\n",
       "      <td>corneillep-melite-33</td>\n",
       "      <td>1642</td>\n",
       "      <td>1</td>\n",
       "      <td>8</td>\n",
       "      <td>2020</td>\n",
       "      <td>510</td>\n",
       "      <td>37</td>\n",
       "      <td>97</td>\n",
       "      <td>&lt;TEI xmlns=\"http://www.tei-c.org/ns/1.0\" xml:l...</td>\n",
       "      <td>comedy</td>\n",
       "      <td>comedy</td>\n",
       "      <td>0.252475</td>\n",
       "      <td>0.190196</td>\n",
       "      <td>24</td>\n",
       "      <td>0.011881</td>\n",
       "    </tr>\n",
       "    <tr>\n",
       "      <th>1</th>\n",
       "      <td>corneillep-veuve-34</td>\n",
       "      <td>1634</td>\n",
       "      <td>2</td>\n",
       "      <td>12</td>\n",
       "      <td>2350</td>\n",
       "      <td>521</td>\n",
       "      <td>40</td>\n",
       "      <td>97</td>\n",
       "      <td>&lt;TEI xmlns=\"http://www.tei-c.org/ns/1.0\" xml:l...</td>\n",
       "      <td>comedy</td>\n",
       "      <td>comedy</td>\n",
       "      <td>0.221702</td>\n",
       "      <td>0.186180</td>\n",
       "      <td>10</td>\n",
       "      <td>0.004255</td>\n",
       "    </tr>\n",
       "    <tr>\n",
       "      <th>2</th>\n",
       "      <td>corneillep-galerie-du-palais</td>\n",
       "      <td>1633</td>\n",
       "      <td>2</td>\n",
       "      <td>12</td>\n",
       "      <td>1794</td>\n",
       "      <td>517</td>\n",
       "      <td>54</td>\n",
       "      <td>65</td>\n",
       "      <td>&lt;TEI xmlns=\"http://www.tei-c.org/ns/1.0\" xml:l...</td>\n",
       "      <td>comedy</td>\n",
       "      <td>comedy</td>\n",
       "      <td>0.288183</td>\n",
       "      <td>0.125725</td>\n",
       "      <td>0</td>\n",
       "      <td>0.000000</td>\n",
       "    </tr>\n",
       "    <tr>\n",
       "      <th>3</th>\n",
       "      <td>corneillep-suivante</td>\n",
       "      <td>1634</td>\n",
       "      <td>2</td>\n",
       "      <td>10</td>\n",
       "      <td>1706</td>\n",
       "      <td>410</td>\n",
       "      <td>47</td>\n",
       "      <td>50</td>\n",
       "      <td>&lt;TEI xmlns=\"http://www.tei-c.org/ns/1.0\" xml:l...</td>\n",
       "      <td>comedy</td>\n",
       "      <td>comedy</td>\n",
       "      <td>0.240328</td>\n",
       "      <td>0.121951</td>\n",
       "      <td>0</td>\n",
       "      <td>0.000000</td>\n",
       "    </tr>\n",
       "    <tr>\n",
       "      <th>4</th>\n",
       "      <td>corneillep-place-royale</td>\n",
       "      <td>1634</td>\n",
       "      <td>2</td>\n",
       "      <td>8</td>\n",
       "      <td>1529</td>\n",
       "      <td>274</td>\n",
       "      <td>36</td>\n",
       "      <td>53</td>\n",
       "      <td>&lt;TEI xmlns=\"http://www.tei-c.org/ns/1.0\" xml:l...</td>\n",
       "      <td>comedy</td>\n",
       "      <td>comedy</td>\n",
       "      <td>0.179202</td>\n",
       "      <td>0.193431</td>\n",
       "      <td>14</td>\n",
       "      <td>0.009156</td>\n",
       "    </tr>\n",
       "  </tbody>\n",
       "</table>\n",
       "</div>"
      ],
      "text/plain": [
       "                           name  date  period  characters  verses  cues  \\\n",
       "0          corneillep-melite-33  1642       1           8    2020   510   \n",
       "1           corneillep-veuve-34  1634       2          12    2350   521   \n",
       "2  corneillep-galerie-du-palais  1633       2          12    1794   517   \n",
       "3           corneillep-suivante  1634       2          10    1706   410   \n",
       "4       corneillep-place-royale  1634       2           8    1529   274   \n",
       "\n",
       "   scenes  breaking_verses                                                tei  \\\n",
       "0      37               97  <TEI xmlns=\"http://www.tei-c.org/ns/1.0\" xml:l...   \n",
       "1      40               97  <TEI xmlns=\"http://www.tei-c.org/ns/1.0\" xml:l...   \n",
       "2      54               65  <TEI xmlns=\"http://www.tei-c.org/ns/1.0\" xml:l...   \n",
       "3      47               50  <TEI xmlns=\"http://www.tei-c.org/ns/1.0\" xml:l...   \n",
       "4      36               53  <TEI xmlns=\"http://www.tei-c.org/ns/1.0\" xml:l...   \n",
       "\n",
       "    genre  genre4  vivacity  breaking_verses_ratio  stage_direction_count  \\\n",
       "0  comedy  comedy  0.252475               0.190196                     24   \n",
       "1  comedy  comedy  0.221702               0.186180                     10   \n",
       "2  comedy  comedy  0.288183               0.125725                      0   \n",
       "3  comedy  comedy  0.240328               0.121951                      0   \n",
       "4  comedy  comedy  0.179202               0.193431                     14   \n",
       "\n",
       "   stage_direction_on_verses  \n",
       "0                   0.011881  \n",
       "1                   0.004255  \n",
       "2                   0.000000  \n",
       "3                   0.000000  \n",
       "4                   0.009156  "
      ]
     },
     "execution_count": 129,
     "metadata": {},
     "output_type": "execute_result"
    }
   ],
   "source": [
    "df_plays_with_stage.head()"
   ]
  },
  {
   "cell_type": "code",
   "execution_count": 130,
   "metadata": {
    "scrolled": true
   },
   "outputs": [
    {
     "data": {
      "text/plain": [
       "genre\n",
       "comedy     0.006390\n",
       "tragedy    0.002147\n",
       "Name: stage_direction_on_verses, dtype: float64"
      ]
     },
     "execution_count": 130,
     "metadata": {},
     "output_type": "execute_result"
    }
   ],
   "source": [
    "df_plays_with_stage.groupby('genre').mean()['stage_direction_on_verses']"
   ]
  },
  {
   "cell_type": "code",
   "execution_count": 131,
   "metadata": {},
   "outputs": [],
   "source": [
    "sorted_comedy_stage = sorted(\n",
    "    df_plays_with_stage[df_plays_with_stage['genre'] == 'comedy']['stage_direction_on_verses']\n",
    ")"
   ]
  },
  {
   "cell_type": "code",
   "execution_count": 132,
   "metadata": {},
   "outputs": [],
   "source": [
    "sorted_tragedy_stage = sorted(\n",
    "    df_plays_with_stage[df_plays_with_stage['genre'] == 'tragedy']['stage_direction_on_verses']\n",
    ")"
   ]
  },
  {
   "cell_type": "code",
   "execution_count": 133,
   "metadata": {},
   "outputs": [],
   "source": [
    "stage_mp_ac = mp_ac(sorted_comedy_stage[::-1], sorted_tragedy_stage[::-1])"
   ]
  },
  {
   "cell_type": "code",
   "execution_count": 134,
   "metadata": {},
   "outputs": [
    {
     "data": {
      "text/plain": [
       "0.20310391855894666"
      ]
     },
     "execution_count": 134,
     "metadata": {},
     "output_type": "execute_result"
    }
   ],
   "source": [
    "stage_mp_ac[0] / stage_mp_ac[1]"
   ]
  },
  {
   "cell_type": "markdown",
   "metadata": {},
   "source": [
    "### Psychological types"
   ]
  },
  {
   "cell_type": "markdown",
   "metadata": {},
   "source": [
    "See *topics.ipynb*"
   ]
  },
  {
   "cell_type": "code",
   "execution_count": 123,
   "metadata": {},
   "outputs": [],
   "source": [
    "import nltk\n",
    "import shutil\n",
    "from pie_extended.cli.utils import get_tagger\n",
    "from pie_extended.models.freem.imports import get_iterator_and_processor"
   ]
  },
  {
   "cell_type": "code",
   "execution_count": 122,
   "metadata": {},
   "outputs": [],
   "source": [
    "model_name = \"freem\"\n",
    "tagger = get_tagger(model_name, batch_size=256, device=\"cpu\", model_path=None)"
   ]
  },
  {
   "cell_type": "code",
   "execution_count": 121,
   "metadata": {},
   "outputs": [],
   "source": [
    "for filename in os.listdir('corneille-corpus-by-character/plain_text'):\n",
    "    if not os.path.isdir('corneille-corpus-by-character/plain_text/'+filename):\n",
    "        filename_id = filename.split('_')[0]\n",
    "        # print(filename_id)\n",
    "        # print(df_plays[df_plays['name'] == filename_id].values[0])\n",
    "        filename_genre = df_plays[df_plays['name'] == filename_id].values[0][10]\n",
    "        shutil.move('corneille-corpus-by-character/plain_text/'+filename, 'corneille-corpus-by-character/plain_text/'+filename_genre+'/'+filename)"
   ]
  },
  {
   "cell_type": "code",
   "execution_count": 136,
   "metadata": {},
   "outputs": [],
   "source": [
    "for root, subdirs, files in os.walk('corneille-corpus-by-character/plain_text/'):\n",
    "    for file in files:\n",
    "        with open(f'{root}/{file}', 'r', encoding='utf-8') as f:\n",
    "            text = f.read().replace('\\n', ' ')\n",
    "        sentences = nltk.sent_tokenize(text)\n",
    "        for sentence_group in sentences:\n",
    "            iterator, processor = get_iterator_and_processor()\n",
    "            tagger_result = tagger.tag_str(sentence_group, iterator=iterator, processor=processor)\n",
    "            with open(f'corneille-corpus-by-character/postprocessed/{os.path.basename(os.path.normpath(root))}/{file}', 'a+', encoding='utf-8') as fw:\n",
    "                for analysis in tagger_result:\n",
    "                    if any(analysis['POS'].startswith(pos) for pos in ('NOM', 'ADJ', 'ADV', 'VER')) \\\n",
    "                    and analysis['POS'] != 'NOMpro':\n",
    "                        fw.write(analysis['lemma']+' ')\n",
    "        "
   ]
  }
 ],
 "metadata": {
  "interpreter": {
   "hash": "40d3a090f54c6569ab1632332b64b2c03c39dcf918b08424e98f38b5ae0af88f"
  },
  "kernelspec": {
   "display_name": "Python 3 (ipykernel)",
   "language": "python",
   "name": "python3"
  },
  "language_info": {
   "codemirror_mode": {
    "name": "ipython",
    "version": 3
   },
   "file_extension": ".py",
   "mimetype": "text/x-python",
   "name": "python",
   "nbconvert_exporter": "python",
   "pygments_lexer": "ipython3",
   "version": "3.7.6"
  }
 },
 "nbformat": 4,
 "nbformat_minor": 4
}
